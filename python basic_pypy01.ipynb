{
 "cells": [
  {
   "cell_type": "code",
   "execution_count": 1,
   "metadata": {
    "colab": {
     "base_uri": "https://localhost:8080/"
    },
    "executionInfo": {
     "elapsed": 640,
     "status": "ok",
     "timestamp": 1725371400646,
     "user": {
      "displayName": "ppen hyuk",
      "userId": "06590780498642875598"
     },
     "user_tz": -540
    },
    "id": "rUmZM-Xc5Gdr",
    "outputId": "9c699722-5e32-4019-baae-cacbb2878a06"
   },
   "outputs": [
    {
     "name": "stdout",
     "output_type": "stream",
     "text": [
      "Hello World!\n"
     ]
    }
   ],
   "source": [
    "print(\"Hello World!\") # ctrl + enter 치면 현재 셀 실행 <- # 하고 쓰면 주석 처리 됨\n",
    "# <- ctrl+/ 로 토글 <- 드래그하고 ctrl+/ 하면 여러 줄 토글 가능\n",
    "# shift + enter 하면 실행하고 다음 셀로 넘어감\n",
    "# alt + enter 하면 실행하고 밑에다가 셀을 새로 만듦\n",
    "# esc 하면 방향키 위아래로 셀 왔다갔다. 엔터 치면 다시 코드 작성, 이 모드에서 a 하면 위에 셀, b 하면 아래에 셀 만듦\n",
    "# ctrl + m, d 하면 셀 삭제 (ctrl+m, z는 셀 수준 실행 취소, ctrl+shift+y 는 셀 수준 다시 실행)\n",
    "# ctrl + z, ctrl + shift + z, ctrl + c, ctrl + v"
   ]
  },
  {
   "cell_type": "markdown",
   "metadata": {
    "id": "Z9PyX7ueYCO-"
   },
   "source": [
    "# 큰 제목\n",
    "## 그 다음으로 큰\n",
    "### **볼드**\n",
    "#### *이탤릭*\n",
    "\n",
    "- 1\n",
    " - 1-1\n",
    "   - 1-1-1\n",
    "\n",
    "- 2\n",
    " - 2-1\n",
    "\n",
    "1. a\n",
    "2. b\n",
    "\n",
    "> ㅎㅎ\n",
    ">> ㅎㅎㅎ\n",
    "\n",
    "$y=x$\n",
    "\n",
    "``` python\n",
    "print(\"Hello World!\")\n",
    "\n",
    "```\n",
    "\n",
    "`Ctrl + /`: 주석 처리/해제\n",
    "\n",
    "[유튜브](https://youtu.be/IJRxpLgT7oE)\n",
    "\n",
    "<br>\n",
    "줄 띄기\n",
    "<hr>\n",
    "horizontal rule\n",
    "<hr>"
   ]
  },
  {
   "cell_type": "code",
   "execution_count": 2,
   "metadata": {
    "executionInfo": {
     "elapsed": 9,
     "status": "ok",
     "timestamp": 1725371402415,
     "user": {
      "displayName": "ppen hyuk",
      "userId": "06590780498642875598"
     },
     "user_tz": -540
    },
    "id": "6RoK7Zz-5_wc"
   },
   "outputs": [],
   "source": [
    "# print(\"Hello World!\") # 왜 아무것도 안보일까? 주석 처리 되었으니까~"
   ]
  },
  {
   "cell_type": "markdown",
   "metadata": {},
   "source": []
  },
  {
   "cell_type": "markdown",
   "metadata": {
    "id": "sTJi21XaHOnr"
   },
   "source": [
    "## 파이썬은 계산기다!"
   ]
  },
  {
   "cell_type": "code",
   "execution_count": 3,
   "metadata": {
    "colab": {
     "base_uri": "https://localhost:8080/"
    },
    "executionInfo": {
     "elapsed": 9,
     "status": "ok",
     "timestamp": 1725371403044,
     "user": {
      "displayName": "ppen hyuk",
      "userId": "06590780498642875598"
     },
     "user_tz": -540
    },
    "id": "Zq9wyvS4GKy9",
    "outputId": "189ae033-f271-48be-ed68-5e8628f7b0cd"
   },
   "outputs": [
    {
     "data": {
      "text/plain": [
       "2"
      ]
     },
     "execution_count": 3,
     "metadata": {},
     "output_type": "execute_result"
    }
   ],
   "source": [
    "1+1"
   ]
  },
  {
   "cell_type": "code",
   "execution_count": null,
   "metadata": {
    "colab": {
     "base_uri": "https://localhost:8080/"
    },
    "executionInfo": {
     "elapsed": 198,
     "status": "ok",
     "timestamp": 1663246582890,
     "user": {
      "displayName": "강사",
      "userId": "16181995035441534154"
     },
     "user_tz": -540
    },
    "id": "vDcsHAzdGLjt",
    "outputId": "ab16612e-844a-42fa-b8a7-99b08113362a"
   },
   "outputs": [
    {
     "data": {
      "text/plain": [
       "-2"
      ]
     },
     "execution_count": 4,
     "metadata": {},
     "output_type": "execute_result"
    }
   ],
   "source": [
    "3-5"
   ]
  },
  {
   "cell_type": "code",
   "execution_count": null,
   "metadata": {
    "colab": {
     "base_uri": "https://localhost:8080/"
    },
    "executionInfo": {
     "elapsed": 182,
     "status": "ok",
     "timestamp": 1663246582890,
     "user": {
      "displayName": "강사",
      "userId": "16181995035441534154"
     },
     "user_tz": -540
    },
    "id": "SgAcB0VzHcjs",
    "outputId": "dc4e17ef-17b4-4e20-b7f4-29e26710c099"
   },
   "outputs": [
    {
     "data": {
      "text/plain": [
       "10"
      ]
     },
     "execution_count": 5,
     "metadata": {},
     "output_type": "execute_result"
    }
   ],
   "source": [
    "2*5"
   ]
  },
  {
   "cell_type": "code",
   "execution_count": null,
   "metadata": {
    "colab": {
     "base_uri": "https://localhost:8080/"
    },
    "executionInfo": {
     "elapsed": 168,
     "status": "ok",
     "timestamp": 1663246582890,
     "user": {
      "displayName": "강사",
      "userId": "16181995035441534154"
     },
     "user_tz": -540
    },
    "id": "5FgK2m6cI0Ij",
    "outputId": "84603013-a788-4fd1-f187-ad86f8988013"
   },
   "outputs": [
    {
     "data": {
      "text/plain": [
       "2.5"
      ]
     },
     "execution_count": 6,
     "metadata": {},
     "output_type": "execute_result"
    }
   ],
   "source": [
    "5/2"
   ]
  },
  {
   "cell_type": "code",
   "execution_count": null,
   "metadata": {
    "colab": {
     "base_uri": "https://localhost:8080/"
    },
    "executionInfo": {
     "elapsed": 155,
     "status": "ok",
     "timestamp": 1663246582890,
     "user": {
      "displayName": "강사",
      "userId": "16181995035441534154"
     },
     "user_tz": -540
    },
    "id": "LBYZb7SHI08j",
    "outputId": "c15d7cab-9ee4-4cc6-c261-e321cb6aeb42"
   },
   "outputs": [
    {
     "data": {
      "text/plain": [
       "2.0"
      ]
     },
     "execution_count": 7,
     "metadata": {},
     "output_type": "execute_result"
    }
   ],
   "source": [
    "4/2"
   ]
  },
  {
   "cell_type": "code",
   "execution_count": null,
   "metadata": {
    "colab": {
     "base_uri": "https://localhost:8080/"
    },
    "executionInfo": {
     "elapsed": 142,
     "status": "ok",
     "timestamp": 1663246582890,
     "user": {
      "displayName": "강사",
      "userId": "16181995035441534154"
     },
     "user_tz": -540
    },
    "id": "YIgJe9oyTyTo",
    "outputId": "7e9a3ae1-7803-44a0-fb6d-1f27f352630a"
   },
   "outputs": [
    {
     "data": {
      "text/plain": [
       "16"
      ]
     },
     "execution_count": 8,
     "metadata": {},
     "output_type": "execute_result"
    }
   ],
   "source": [
    "(3+5)*2"
   ]
  },
  {
   "cell_type": "code",
   "execution_count": null,
   "metadata": {
    "colab": {
     "base_uri": "https://localhost:8080/"
    },
    "executionInfo": {
     "elapsed": 129,
     "status": "ok",
     "timestamp": 1663246582890,
     "user": {
      "displayName": "강사",
      "userId": "16181995035441534154"
     },
     "user_tz": -540
    },
    "id": "5ECZoc9COJlg",
    "outputId": "65a51db6-16af-4150-9ddd-f766d5edfc97"
   },
   "outputs": [
    {
     "data": {
      "text/plain": [
       "int"
      ]
     },
     "execution_count": 9,
     "metadata": {},
     "output_type": "execute_result"
    }
   ],
   "source": [
    "type(2) # 정체가 뭐니? # int 는 integer의 줄임말"
   ]
  },
  {
   "cell_type": "code",
   "execution_count": null,
   "metadata": {
    "colab": {
     "base_uri": "https://localhost:8080/"
    },
    "executionInfo": {
     "elapsed": 116,
     "status": "ok",
     "timestamp": 1663246582890,
     "user": {
      "displayName": "강사",
      "userId": "16181995035441534154"
     },
     "user_tz": -540
    },
    "id": "tsj6RicQKVub",
    "outputId": "c3e2fa92-0dcc-4d11-c154-0a9b7d73c549"
   },
   "outputs": [
    {
     "data": {
      "text/plain": [
       "float"
      ]
     },
     "execution_count": 10,
     "metadata": {},
     "output_type": "execute_result"
    }
   ],
   "source": [
    "type(4/2)"
   ]
  },
  {
   "cell_type": "code",
   "execution_count": null,
   "metadata": {
    "colab": {
     "base_uri": "https://localhost:8080/"
    },
    "executionInfo": {
     "elapsed": 103,
     "status": "ok",
     "timestamp": 1663246582890,
     "user": {
      "displayName": "강사",
      "userId": "16181995035441534154"
     },
     "user_tz": -540
    },
    "id": "vX5aLbNpKXR3",
    "outputId": "d9cef65b-5fef-439b-c668-47ee9cfe75d4"
   },
   "outputs": [
    {
     "data": {
      "text/plain": [
       "float"
      ]
     },
     "execution_count": 11,
     "metadata": {},
     "output_type": "execute_result"
    }
   ],
   "source": [
    "type(2.)"
   ]
  },
  {
   "cell_type": "code",
   "execution_count": null,
   "metadata": {
    "colab": {
     "base_uri": "https://localhost:8080/"
    },
    "executionInfo": {
     "elapsed": 90,
     "status": "ok",
     "timestamp": 1663246582890,
     "user": {
      "displayName": "강사",
      "userId": "16181995035441534154"
     },
     "user_tz": -540
    },
    "id": "HNHG2FbwI53T",
    "outputId": "24cf7099-138b-4bfa-b2ed-63863d01fd38"
   },
   "outputs": [
    {
     "data": {
      "text/plain": [
       "2"
      ]
     },
     "execution_count": 12,
     "metadata": {},
     "output_type": "execute_result"
    }
   ],
   "source": [
    "4//2 # 2.0 이면 \"두 번째\" 라는 걸 못 나타내서 이런게 필요"
   ]
  },
  {
   "cell_type": "code",
   "execution_count": null,
   "metadata": {
    "colab": {
     "base_uri": "https://localhost:8080/"
    },
    "executionInfo": {
     "elapsed": 78,
     "status": "ok",
     "timestamp": 1663246582890,
     "user": {
      "displayName": "강사",
      "userId": "16181995035441534154"
     },
     "user_tz": -540
    },
    "id": "4jSJS8GlI7eT",
    "outputId": "61cc6286-76ae-441f-c76c-0a7eeb4dbb82"
   },
   "outputs": [
    {
     "data": {
      "text/plain": [
       "2"
      ]
     },
     "execution_count": 13,
     "metadata": {},
     "output_type": "execute_result"
    }
   ],
   "source": [
    "5//2 # 얘는 사실 몫을 뱉어 주는 것!"
   ]
  },
  {
   "cell_type": "code",
   "execution_count": null,
   "metadata": {
    "colab": {
     "base_uri": "https://localhost:8080/"
    },
    "executionInfo": {
     "elapsed": 65,
     "status": "ok",
     "timestamp": 1663246582890,
     "user": {
      "displayName": "강사",
      "userId": "16181995035441534154"
     },
     "user_tz": -540
    },
    "id": "8eBAh1dKLQeb",
    "outputId": "5286e15e-fd1f-4dee-ca9e-b4d7c38d2348"
   },
   "outputs": [
    {
     "data": {
      "text/plain": [
       "2"
      ]
     },
     "execution_count": 14,
     "metadata": {},
     "output_type": "execute_result"
    }
   ],
   "source": [
    "int(5/2)"
   ]
  },
  {
   "cell_type": "code",
   "execution_count": null,
   "metadata": {
    "colab": {
     "base_uri": "https://localhost:8080/"
    },
    "executionInfo": {
     "elapsed": 53,
     "status": "ok",
     "timestamp": 1663246582890,
     "user": {
      "displayName": "강사",
      "userId": "16181995035441534154"
     },
     "user_tz": -540
    },
    "id": "Bac7x3csZmoX",
    "outputId": "63ab45a5-4399-4635-b524-7d39c0dfb3b1"
   },
   "outputs": [
    {
     "data": {
      "text/plain": [
       "1.0"
      ]
     },
     "execution_count": 15,
     "metadata": {},
     "output_type": "execute_result"
    }
   ],
   "source": [
    "float(1)"
   ]
  },
  {
   "cell_type": "code",
   "execution_count": null,
   "metadata": {
    "colab": {
     "base_uri": "https://localhost:8080/"
    },
    "executionInfo": {
     "elapsed": 40,
     "status": "ok",
     "timestamp": 1663246582890,
     "user": {
      "displayName": "강사",
      "userId": "16181995035441534154"
     },
     "user_tz": -540
    },
    "id": "Bc2dd2SDLYCS",
    "outputId": "d92cfcd6-b3af-4dbe-edd6-bc5991c04167"
   },
   "outputs": [
    {
     "data": {
      "text/plain": [
       "2"
      ]
     },
     "execution_count": 16,
     "metadata": {},
     "output_type": "execute_result"
    }
   ],
   "source": [
    "int(2.9) # 반올림은 아님. 소수점 아래 삭제다!"
   ]
  },
  {
   "cell_type": "code",
   "execution_count": null,
   "metadata": {
    "colab": {
     "base_uri": "https://localhost:8080/"
    },
    "executionInfo": {
     "elapsed": 28,
     "status": "ok",
     "timestamp": 1663246582890,
     "user": {
      "displayName": "강사",
      "userId": "16181995035441534154"
     },
     "user_tz": -540
    },
    "id": "o7KGqx8qJE7s",
    "outputId": "dc8f9a35-ec91-4292-8edf-904a5d562221"
   },
   "outputs": [
    {
     "data": {
      "text/plain": [
       "1"
      ]
     },
     "execution_count": 17,
     "metadata": {},
     "output_type": "execute_result"
    }
   ],
   "source": [
    "5%2 # 반면에 이건 나머지를 알려준다. 유식한 말로 modulo 연산!"
   ]
  },
  {
   "cell_type": "code",
   "execution_count": null,
   "metadata": {
    "colab": {
     "base_uri": "https://localhost:8080/"
    },
    "executionInfo": {
     "elapsed": 815,
     "status": "ok",
     "timestamp": 1663246583690,
     "user": {
      "displayName": "강사",
      "userId": "16181995035441534154"
     },
     "user_tz": -540
    },
    "id": "abmzV-_uJUJz",
    "outputId": "e00e97c7-d4a7-4d33-cfb0-d19bd7075e3f"
   },
   "outputs": [
    {
     "data": {
      "text/plain": [
       "1024"
      ]
     },
     "execution_count": 18,
     "metadata": {},
     "output_type": "execute_result"
    }
   ],
   "source": [
    "2**10 # 2의 10승 열번 곱하지 말고 2^10 하지 말고 2**10!"
   ]
  },
  {
   "cell_type": "code",
   "execution_count": null,
   "metadata": {
    "colab": {
     "base_uri": "https://localhost:8080/"
    },
    "executionInfo": {
     "elapsed": 410,
     "status": "ok",
     "timestamp": 1663246583690,
     "user": {
      "displayName": "강사",
      "userId": "16181995035441534154"
     },
     "user_tz": -540
    },
    "id": "dlBbDLZ4JdmB",
    "outputId": "2cd4b0da-ade2-488f-f2e3-969fe3b12605"
   },
   "outputs": [
    {
     "name": "stdout",
     "output_type": "stream",
     "text": [
      "3\n",
      "10\n"
     ]
    }
   ],
   "source": [
    "print(0b011) # 0b는 2진수\n",
    "print(0xA) # 0x는 16진수 # 그냥 하면 마지막 것만 보여줘서 둘다 print를 붙여줌"
   ]
  },
  {
   "cell_type": "code",
   "execution_count": null,
   "metadata": {
    "id": "0mw4itx3Ozy5"
   },
   "outputs": [],
   "source": [
    "a=10 # a라는 이름의 변수에 10 이라는 값을 \"집어넣는다!\""
   ]
  },
  {
   "cell_type": "code",
   "execution_count": null,
   "metadata": {
    "colab": {
     "base_uri": "https://localhost:8080/"
    },
    "executionInfo": {
     "elapsed": 409,
     "status": "ok",
     "timestamp": 1663246583690,
     "user": {
      "displayName": "강사",
      "userId": "16181995035441534154"
     },
     "user_tz": -540
    },
    "id": "ZYdKSERacoNy",
    "outputId": "4ab343fc-25d0-46d0-abf8-1193ff221513"
   },
   "outputs": [
    {
     "name": "stdout",
     "output_type": "stream",
     "text": [
      "10\n",
      "a\n",
      "1\n"
     ]
    }
   ],
   "source": [
    "print(a) # a에 들어있는 값을 보여달라\n",
    "print(\"a\")\n",
    "a=1 # 10을 집어넣었다가 1을 집어넣었으니 이젠 a에 1이 들어가있다.\n",
    "print(a)"
   ]
  },
  {
   "cell_type": "code",
   "execution_count": null,
   "metadata": {
    "colab": {
     "base_uri": "https://localhost:8080/"
    },
    "executionInfo": {
     "elapsed": 397,
     "status": "ok",
     "timestamp": 1663246583690,
     "user": {
      "displayName": "강사",
      "userId": "16181995035441534154"
     },
     "user_tz": -540
    },
    "id": "we1V7VqrYAaG",
    "outputId": "512a51cb-15e6-46eb-b830-a07485afcc8f"
   },
   "outputs": [
    {
     "name": "stdout",
     "output_type": "stream",
     "text": [
      "Hello World\n"
     ]
    }
   ],
   "source": [
    "a=\"Hello World!\" # 확실히 수학에서의 등호와는 다르다!\n",
    "print(a)"
   ]
  },
  {
   "cell_type": "code",
   "execution_count": null,
   "metadata": {
    "id": "Xjv_4to_Y9eB"
   },
   "outputs": [],
   "source": [
    "a1=1\n",
    "a2=2\n",
    "a3=3\n",
    "# 1a=10 # 변수 명에서 숫자가 맨 앞에 올 수 없다."
   ]
  },
  {
   "cell_type": "code",
   "execution_count": null,
   "metadata": {
    "colab": {
     "base_uri": "https://localhost:8080/"
    },
    "executionInfo": {
     "elapsed": 383,
     "status": "ok",
     "timestamp": 1663246583690,
     "user": {
      "displayName": "강사",
      "userId": "16181995035441534154"
     },
     "user_tz": -540
    },
    "id": "4BAdqC2RVGou",
    "outputId": "d07f5aef-2e72-4be2-d1ab-175a4e4e55dd"
   },
   "outputs": [
    {
     "name": "stdout",
     "output_type": "stream",
     "text": [
      "3\n",
      "4\n"
     ]
    }
   ],
   "source": [
    "a=3\n",
    "A=4\n",
    "print(a); print(A) # 대소문자 구별 됨. 한 줄에 쓰려면 ;로 구별"
   ]
  },
  {
   "cell_type": "code",
   "execution_count": null,
   "metadata": {
    "id": "8Trzth0ui-rv"
   },
   "outputs": [],
   "source": [
    "# print=3 # 함수 명에 값 넣지마! 만약 이렇게 했다면 런타임 다시 시작"
   ]
  },
  {
   "cell_type": "code",
   "execution_count": null,
   "metadata": {
    "id": "LBq9z1BAhC3u"
   },
   "outputs": [],
   "source": [
    "a=2\n",
    "b=1\n",
    "# a-b=1\n",
    "# a*b=1\n",
    "# a**2=1"
   ]
  },
  {
   "cell_type": "code",
   "execution_count": null,
   "metadata": {
    "id": "wTwu6x4WXQpH"
   },
   "outputs": [],
   "source": [
    "del a # delete\n",
    "# print(a)"
   ]
  },
  {
   "cell_type": "code",
   "execution_count": null,
   "metadata": {
    "colab": {
     "base_uri": "https://localhost:8080/"
    },
    "executionInfo": {
     "elapsed": 372,
     "status": "ok",
     "timestamp": 1663246583691,
     "user": {
      "displayName": "강사",
      "userId": "16181995035441534154"
     },
     "user_tz": -540
    },
    "id": "jcbfsM_4XmsW",
    "outputId": "cdcfe252-93be-4eea-9daf-302e0e998a74"
   },
   "outputs": [
    {
     "name": "stdout",
     "output_type": "stream",
     "text": [
      "3\n"
     ]
    }
   ],
   "source": [
    "a=1; b=2\n",
    "c=a+b\n",
    "print(c)"
   ]
  },
  {
   "cell_type": "code",
   "execution_count": null,
   "metadata": {
    "colab": {
     "base_uri": "https://localhost:8080/"
    },
    "executionInfo": {
     "elapsed": 359,
     "status": "ok",
     "timestamp": 1663246583691,
     "user": {
      "displayName": "강사",
      "userId": "16181995035441534154"
     },
     "user_tz": -540
    },
    "id": "EpyRl2-UYA3e",
    "outputId": "f2ef427d-7dac-41c3-f36e-044c352df351"
   },
   "outputs": [
    {
     "name": "stdout",
     "output_type": "stream",
     "text": [
      "6\n"
     ]
    }
   ],
   "source": [
    "a=a+5 # update\n",
    "print(a)"
   ]
  },
  {
   "cell_type": "code",
   "execution_count": null,
   "metadata": {
    "colab": {
     "base_uri": "https://localhost:8080/"
    },
    "executionInfo": {
     "elapsed": 347,
     "status": "ok",
     "timestamp": 1663246583691,
     "user": {
      "displayName": "강사",
      "userId": "16181995035441534154"
     },
     "user_tz": -540
    },
    "id": "GsqeTJ9_Y4vt",
    "outputId": "3ae25447-1648-410e-b26b-ab521299d9c8"
   },
   "outputs": [
    {
     "name": "stdout",
     "output_type": "stream",
     "text": [
      "11\n"
     ]
    }
   ],
   "source": [
    "a += 5 # a=a+5 와 동일\n",
    "print(a)"
   ]
  },
  {
   "cell_type": "code",
   "execution_count": null,
   "metadata": {
    "colab": {
     "base_uri": "https://localhost:8080/"
    },
    "executionInfo": {
     "elapsed": 335,
     "status": "ok",
     "timestamp": 1663246583691,
     "user": {
      "displayName": "강사",
      "userId": "16181995035441534154"
     },
     "user_tz": -540
    },
    "id": "VjWpokYwaDLX",
    "outputId": "5a6d6d92-778b-4b4d-e709-7346ba67e9a8"
   },
   "outputs": [
    {
     "name": "stdout",
     "output_type": "stream",
     "text": [
      "22\n"
     ]
    }
   ],
   "source": [
    "a *= 2 # a=a*2\n",
    "print(a)"
   ]
  },
  {
   "cell_type": "code",
   "execution_count": null,
   "metadata": {
    "colab": {
     "base_uri": "https://localhost:8080/"
    },
    "executionInfo": {
     "elapsed": 322,
     "status": "ok",
     "timestamp": 1663246583691,
     "user": {
      "displayName": "강사",
      "userId": "16181995035441534154"
     },
     "user_tz": -540
    },
    "id": "c3GOd2HndQ6m",
    "outputId": "4e909c35-7522-4435-b921-ae55c038f18e"
   },
   "outputs": [
    {
     "name": "stdout",
     "output_type": "stream",
     "text": [
      "11.0\n"
     ]
    }
   ],
   "source": [
    "a /= 2\n",
    "print(a)"
   ]
  },
  {
   "cell_type": "code",
   "execution_count": null,
   "metadata": {
    "colab": {
     "base_uri": "https://localhost:8080/"
    },
    "executionInfo": {
     "elapsed": 2688,
     "status": "ok",
     "timestamp": 1687313137259,
     "user": {
      "displayName": "ppen hyuk",
      "userId": "06590780498642875598"
     },
     "user_tz": -540
    },
    "id": "eanoFtORaHKt",
    "outputId": "9c890929-4239-4194-ceea-30cbac53965f"
   },
   "outputs": [
    {
     "name": "stdout",
     "output_type": "stream",
     "text": [
      "숫자 두 개?1 2\n",
      "12\n"
     ]
    }
   ],
   "source": [
    "# # 이건 내 필기용\n",
    "# a,b = input(\"숫자 두 개?\").split()\n",
    "# print(a+b)"
   ]
  },
  {
   "cell_type": "code",
   "execution_count": null,
   "metadata": {
    "colab": {
     "base_uri": "https://localhost:8080/"
    },
    "executionInfo": {
     "elapsed": 5438,
     "status": "ok",
     "timestamp": 1687313153885,
     "user": {
      "displayName": "ppen hyuk",
      "userId": "06590780498642875598"
     },
     "user_tz": -540
    },
    "id": "q_DAnmXzbM8N",
    "outputId": "3cb56b85-5ebb-4980-bb76-e2a32a999b28"
   },
   "outputs": [
    {
     "name": "stdout",
     "output_type": "stream",
     "text": [
      "숫자 두 개?1,2\n",
      "3\n"
     ]
    }
   ],
   "source": [
    "# # 이건 내 필기용\n",
    "# a,b = map(int, input(\"숫자 두 개?\").split(\",\"))\n",
    "# print(a+b)"
   ]
  },
  {
   "cell_type": "code",
   "execution_count": null,
   "metadata": {
    "colab": {
     "base_uri": "https://localhost:8080/"
    },
    "executionInfo": {
     "elapsed": 309,
     "status": "ok",
     "timestamp": 1663246583691,
     "user": {
      "displayName": "강사",
      "userId": "16181995035441534154"
     },
     "user_tz": -540
    },
    "id": "tgUuIw1IiRS4",
    "outputId": "cf6043d7-a79f-43c5-f2aa-069af5513f2b"
   },
   "outputs": [
    {
     "name": "stdout",
     "output_type": "stream",
     "text": [
      "4\n",
      "x = 4\n"
     ]
    }
   ],
   "source": [
    "x=4\n",
    "print(x)\n",
    "print(\"x =\",x)"
   ]
  },
  {
   "cell_type": "markdown",
   "metadata": {
    "id": "3Hf7Nj-srUk7"
   },
   "source": [
    "## 진화된 계산기다!"
   ]
  },
  {
   "cell_type": "code",
   "execution_count": null,
   "metadata": {
    "colab": {
     "base_uri": "https://localhost:8080/"
    },
    "executionInfo": {
     "elapsed": 297,
     "status": "ok",
     "timestamp": 1663246583691,
     "user": {
      "displayName": "강사",
      "userId": "16181995035441534154"
     },
     "user_tz": -540
    },
    "id": "Cb2920RmrXI3",
    "outputId": "e15bca53-c0db-4eaf-af8a-44387962bfe0"
   },
   "outputs": [
    {
     "data": {
      "text/plain": [
       "True"
      ]
     },
     "execution_count": 36,
     "metadata": {},
     "output_type": "execute_result"
    }
   ],
   "source": [
    "a=1\n",
    "a==1 # 같냐?"
   ]
  },
  {
   "cell_type": "code",
   "execution_count": null,
   "metadata": {
    "colab": {
     "base_uri": "https://localhost:8080/"
    },
    "executionInfo": {
     "elapsed": 284,
     "status": "ok",
     "timestamp": 1663246583691,
     "user": {
      "displayName": "강사",
      "userId": "16181995035441534154"
     },
     "user_tz": -540
    },
    "id": "rCNYTxVlbaVH",
    "outputId": "2f3b28c3-d497-415a-a389-d4becd6d42ef"
   },
   "outputs": [
    {
     "data": {
      "text/plain": [
       "False"
      ]
     },
     "execution_count": 37,
     "metadata": {},
     "output_type": "execute_result"
    }
   ],
   "source": [
    "a>3"
   ]
  },
  {
   "cell_type": "code",
   "execution_count": null,
   "metadata": {
    "colab": {
     "base_uri": "https://localhost:8080/"
    },
    "executionInfo": {
     "elapsed": 272,
     "status": "ok",
     "timestamp": 1663246583691,
     "user": {
      "displayName": "강사",
      "userId": "16181995035441534154"
     },
     "user_tz": -540
    },
    "id": "y5VT0rvnrYw3",
    "outputId": "21975e3a-279e-4ca0-ea40-8bdf35790b43"
   },
   "outputs": [
    {
     "data": {
      "text/plain": [
       "False"
      ]
     },
     "execution_count": 38,
     "metadata": {},
     "output_type": "execute_result"
    }
   ],
   "source": [
    "a>=3"
   ]
  },
  {
   "cell_type": "code",
   "execution_count": null,
   "metadata": {
    "colab": {
     "base_uri": "https://localhost:8080/"
    },
    "executionInfo": {
     "elapsed": 259,
     "status": "ok",
     "timestamp": 1663246583691,
     "user": {
      "displayName": "강사",
      "userId": "16181995035441534154"
     },
     "user_tz": -540
    },
    "id": "TofFeYs4rc2f",
    "outputId": "cbcc82b0-82ca-4b2e-8718-18cd12825856"
   },
   "outputs": [
    {
     "data": {
      "text/plain": [
       "True"
      ]
     },
     "execution_count": 39,
     "metadata": {},
     "output_type": "execute_result"
    }
   ],
   "source": [
    "a!=3"
   ]
  },
  {
   "cell_type": "code",
   "execution_count": null,
   "metadata": {
    "colab": {
     "base_uri": "https://localhost:8080/"
    },
    "executionInfo": {
     "elapsed": 222,
     "status": "ok",
     "timestamp": 1663246583691,
     "user": {
      "displayName": "강사",
      "userId": "16181995035441534154"
     },
     "user_tz": -540
    },
    "id": "z9d8MXIUrgBP",
    "outputId": "1d6cd520-b7bc-4105-c913-ef9dfc52363b"
   },
   "outputs": [
    {
     "data": {
      "text/plain": [
       "False"
      ]
     },
     "execution_count": 42,
     "metadata": {},
     "output_type": "execute_result"
    }
   ],
   "source": [
    "\"Python\" == \"python\""
   ]
  },
  {
   "cell_type": "code",
   "execution_count": null,
   "metadata": {
    "colab": {
     "base_uri": "https://localhost:8080/"
    },
    "executionInfo": {
     "elapsed": 8,
     "status": "ok",
     "timestamp": 1671679463679,
     "user": {
      "displayName": "강사",
      "userId": "16181995035441534154"
     },
     "user_tz": -540
    },
    "id": "Y3X1UcuUrkKP",
    "outputId": "c66addf5-d520-44dc-b7dc-50034a162445"
   },
   "outputs": [
    {
     "name": "stdout",
     "output_type": "stream",
     "text": [
      "True\n",
      "True\n",
      "<class 'bool'>\n",
      "<class 'str'>\n",
      "<class 'bool'>\n",
      "True\n",
      "False\n"
     ]
    }
   ],
   "source": [
    "x=3\n",
    "print(x > 1 and x < 5)\n",
    "print(x > 1 or x < -1)\n",
    "print(type(x>1))\n",
    "print(type(\"True\"))\n",
    "print(type(True))\n",
    "print(bool(1))\n",
    "print(bool(0))"
   ]
  },
  {
   "cell_type": "markdown",
   "metadata": {
    "id": "mhUkzKUQwW_V"
   },
   "source": [
    "## 여러 개를 한 변수에 넣을 순 없을까? 리스트!"
   ]
  },
  {
   "cell_type": "code",
   "execution_count": null,
   "metadata": {
    "colab": {
     "base_uri": "https://localhost:8080/"
    },
    "executionInfo": {
     "elapsed": 199,
     "status": "ok",
     "timestamp": 1663246583692,
     "user": {
      "displayName": "강사",
      "userId": "16181995035441534154"
     },
     "user_tz": -540
    },
    "id": "mbRA4SgXwaou",
    "outputId": "b62c6dfe-e096-450c-ebb2-da09d3511f18"
   },
   "outputs": [
    {
     "name": "stdout",
     "output_type": "stream",
     "text": [
      "[1, 2, 3]\n"
     ]
    }
   ],
   "source": [
    "a=[1,2,3] # list 라고 함\n",
    "print(a)\n",
    "print(type(a))"
   ]
  },
  {
   "cell_type": "code",
   "execution_count": null,
   "metadata": {
    "colab": {
     "base_uri": "https://localhost:8080/"
    },
    "executionInfo": {
     "elapsed": 187,
     "status": "ok",
     "timestamp": 1663246583692,
     "user": {
      "displayName": "강사",
      "userId": "16181995035441534154"
     },
     "user_tz": -540
    },
    "id": "mOzykXzzDdGb",
    "outputId": "5d3d24d0-661f-44b4-86b5-387132d2a05c"
   },
   "outputs": [
    {
     "name": "stdout",
     "output_type": "stream",
     "text": [
      "[1, 2, 3, 3, 4, 5]\n"
     ]
    }
   ],
   "source": [
    "a=[1,2,3]\n",
    "b=[3,4,5]\n",
    "a+b # 더하는 게 아니고 쌓는다."
   ]
  },
  {
   "cell_type": "code",
   "execution_count": null,
   "metadata": {
    "colab": {
     "base_uri": "https://localhost:8080/"
    },
    "executionInfo": {
     "elapsed": 175,
     "status": "ok",
     "timestamp": 1663246583692,
     "user": {
      "displayName": "강사",
      "userId": "16181995035441534154"
     },
     "user_tz": -540
    },
    "id": "GE7eJxNyDiCO",
    "outputId": "0cc44b41-12d5-4691-d25b-10c1efc54499"
   },
   "outputs": [
    {
     "name": "stdout",
     "output_type": "stream",
     "text": [
      "[4, 'ㅋ', 6]\n"
     ]
    }
   ],
   "source": [
    "a=[4,\"ㅋ\",6] # 뭐든 들어간다\n",
    "a"
   ]
  },
  {
   "cell_type": "code",
   "execution_count": null,
   "metadata": {
    "colab": {
     "base_uri": "https://localhost:8080/"
    },
    "executionInfo": {
     "elapsed": 163,
     "status": "ok",
     "timestamp": 1663246583692,
     "user": {
      "displayName": "강사",
      "userId": "16181995035441534154"
     },
     "user_tz": -540
    },
    "id": "OdCwwDUz7vzJ",
    "outputId": "9add5c75-d9f2-4ea2-c364-b55d72bf71c6"
   },
   "outputs": [
    {
     "name": "stdout",
     "output_type": "stream",
     "text": [
      "[1, '하하', 3]\n"
     ]
    }
   ],
   "source": [
    "c=[] # 빈 리스트\n",
    "c.append(1) # . 은 \"가지고 있는\"\n",
    "c.append(\"하하\")\n",
    "c.append(3)\n",
    "c"
   ]
  },
  {
   "cell_type": "code",
   "execution_count": null,
   "metadata": {
    "colab": {
     "base_uri": "https://localhost:8080/"
    },
    "executionInfo": {
     "elapsed": 315,
     "status": "ok",
     "timestamp": 1687314397157,
     "user": {
      "displayName": "ppen hyuk",
      "userId": "06590780498642875598"
     },
     "user_tz": -540
    },
    "id": "SKQlTGjOi64m",
    "outputId": "eccd749c-c6d0-4a4b-ccf7-bab85ef7e051"
   },
   "outputs": [
    {
     "data": {
      "text/plain": [
       "[1, 'ㅋ', 2]"
      ]
     },
     "execution_count": 9,
     "metadata": {},
     "output_type": "execute_result"
    }
   ],
   "source": [
    "a=[]\n",
    "a+=[1]\n",
    "a+=[\"ㅋ\"]\n",
    "a+=[2]\n",
    "a"
   ]
  },
  {
   "cell_type": "code",
   "execution_count": null,
   "metadata": {
    "colab": {
     "base_uri": "https://localhost:8080/"
    },
    "executionInfo": {
     "elapsed": 139,
     "status": "ok",
     "timestamp": 1663246583692,
     "user": {
      "displayName": "강사",
      "userId": "16181995035441534154"
     },
     "user_tz": -540
    },
    "id": "Vh4xVMZvi7NV",
    "outputId": "a4eecc74-1189-4215-9b48-ce754b0ca6d4"
   },
   "outputs": [
    {
     "name": "stdout",
     "output_type": "stream",
     "text": [
      "[1, 0.5, 0.1]\n"
     ]
    }
   ],
   "source": [
    "loss_history=[]\n",
    "loss=1\n",
    "loss_history += [loss]\n",
    "loss=0.5\n",
    "loss_history += [loss]\n",
    "loss=0.1\n",
    "loss_history += [loss]\n",
    "loss_history"
   ]
  },
  {
   "cell_type": "markdown",
   "metadata": {
    "id": "axgubqHadJEv"
   },
   "source": [
    "## range는 반복문의 친구"
   ]
  },
  {
   "cell_type": "code",
   "execution_count": null,
   "metadata": {
    "colab": {
     "base_uri": "https://localhost:8080/"
    },
    "executionInfo": {
     "elapsed": 126,
     "status": "ok",
     "timestamp": 1663246583692,
     "user": {
      "displayName": "강사",
      "userId": "16181995035441534154"
     },
     "user_tz": -540
    },
    "id": "ATInAlYs71Uu",
    "outputId": "2637555c-42d8-40a8-9d38-1b8c7fcfec91"
   },
   "outputs": [
    {
     "name": "stdout",
     "output_type": "stream",
     "text": [
      "[0, 1, 2, 3, 4, 5, 6, 7, 8, 9]\n"
     ]
    }
   ],
   "source": [
    "range(10)\n",
    "a=list(range(10)) # range를 list로 바꿔줌\n",
    "a"
   ]
  },
  {
   "cell_type": "code",
   "execution_count": null,
   "metadata": {
    "colab": {
     "base_uri": "https://localhost:8080/"
    },
    "executionInfo": {
     "elapsed": 114,
     "status": "ok",
     "timestamp": 1663246583692,
     "user": {
      "displayName": "강사",
      "userId": "16181995035441534154"
     },
     "user_tz": -540
    },
    "id": "mwMLOOgB-Jgp",
    "outputId": "ac3a226f-0143-4022-f9d6-5e714cb3e4e5"
   },
   "outputs": [
    {
     "name": "stdout",
     "output_type": "stream",
     "text": [
      "[1, 2, 3, 4, 5, 6, 7, 8, 9, 10]\n",
      "[1, 3, 5, 7, 9]\n",
      "[10, 9, 8, 7, 6, 5, 4, 3, 2, 1]\n"
     ]
    }
   ],
   "source": [
    "b=list(range(1,11)) # 1 부터 시작 그리고 11 미만까지\n",
    "print(b)\n",
    "c=list(range(1,11,2)) # 1 부터 11 미만까지 2 간격\n",
    "print(c)\n",
    "d=list(range(10,0,-1)) # 10 부터 시작 그리고 0 초과까지\n",
    "print(d)"
   ]
  },
  {
   "cell_type": "markdown",
   "metadata": {
    "id": "l7g_pgAjsXQ0"
   },
   "source": [
    "## 튜플이라는 것도 있어요"
   ]
  },
  {
   "cell_type": "code",
   "execution_count": null,
   "metadata": {
    "colab": {
     "base_uri": "https://localhost:8080/"
    },
    "executionInfo": {
     "elapsed": 102,
     "status": "ok",
     "timestamp": 1663246583692,
     "user": {
      "displayName": "강사",
      "userId": "16181995035441534154"
     },
     "user_tz": -540
    },
    "id": "CfFuqSw1Q_Ua",
    "outputId": "2dbffb8a-073a-42a1-dd12-62b82db8b4fe"
   },
   "outputs": [
    {
     "name": "stdout",
     "output_type": "stream",
     "text": [
      "<class 'tuple'>\n",
      "<class 'list'>\n"
     ]
    }
   ],
   "source": [
    "a=(1,\"ㅋㅋ\",3)\n",
    "b=[1,2,3]\n",
    "print(type(a))\n",
    "print(type(b))"
   ]
  },
  {
   "cell_type": "code",
   "execution_count": null,
   "metadata": {
    "colab": {
     "base_uri": "https://localhost:8080/"
    },
    "executionInfo": {
     "elapsed": 90,
     "status": "ok",
     "timestamp": 1663246583692,
     "user": {
      "displayName": "강사",
      "userId": "16181995035441534154"
     },
     "user_tz": -540
    },
    "id": "g7JWrXQYd_2G",
    "outputId": "9a2689fc-a5f8-4b2f-ecc2-3c3ce4f59bc3"
   },
   "outputs": [
    {
     "name": "stdout",
     "output_type": "stream",
     "text": [
      "(0, 1, 2, 3, 4, 5, 6, 7, 8, 9)\n"
     ]
    }
   ],
   "source": [
    "tuple(range(10))"
   ]
  },
  {
   "cell_type": "code",
   "execution_count": null,
   "metadata": {
    "colab": {
     "base_uri": "https://localhost:8080/"
    },
    "executionInfo": {
     "elapsed": 77,
     "status": "ok",
     "timestamp": 1663246583692,
     "user": {
      "displayName": "강사",
      "userId": "16181995035441534154"
     },
     "user_tz": -540
    },
    "id": "nEA1JpItAHvO",
    "outputId": "17e8e434-3a37-48cb-e6f4-fa56ae5b109d"
   },
   "outputs": [
    {
     "name": "stdout",
     "output_type": "stream",
     "text": [
      "[0, 1, 2, 3, 4, 5, 6, 7, 8, 9]\n",
      "(0, 1, 2, 3, 4, 5, 6, 7, 8, 9)\n",
      "(0, 1, 2, 3, 4, 5, 6, 7, 8, 9)\n",
      "[0, 1, 2, 3, 4, 5, 6, 7, 8, 9]\n"
     ]
    }
   ],
   "source": [
    "a=list(range(10))\n",
    "b=tuple(range(10))\n",
    "c=tuple(a)\n",
    "d=list(b)\n",
    "print(a)\n",
    "print(b)\n",
    "print(c) # 바뀐다!\n",
    "print(d) # 바뀐다!"
   ]
  },
  {
   "cell_type": "markdown",
   "metadata": {
    "id": "aYfOBrHddM9R"
   },
   "source": [
    "## in은 있냐? 를 물어봄"
   ]
  },
  {
   "cell_type": "code",
   "execution_count": null,
   "metadata": {
    "colab": {
     "base_uri": "https://localhost:8080/"
    },
    "executionInfo": {
     "elapsed": 65,
     "status": "ok",
     "timestamp": 1663246583692,
     "user": {
      "displayName": "강사",
      "userId": "16181995035441534154"
     },
     "user_tz": -540
    },
    "id": "15lD4zvWeGXu",
    "outputId": "9a247bf2-eddf-40ca-8255-222c69cc209e"
   },
   "outputs": [
    {
     "name": "stdout",
     "output_type": "stream",
     "text": [
      "True\n",
      "False\n",
      "False\n",
      "False\n",
      "True\n"
     ]
    }
   ],
   "source": [
    "a=list(range(10))\n",
    "b=tuple(range(10))\n",
    "c=range(10)\n",
    "print(1 in a) # a 에 1이 있냐?\n",
    "print(15 in a)\n",
    "print(1 not in b) # b 에 1이 없냐?\n",
    "print(15 in b)\n",
    "print(5 in c)"
   ]
  },
  {
   "cell_type": "code",
   "execution_count": null,
   "metadata": {
    "colab": {
     "base_uri": "https://localhost:8080/"
    },
    "executionInfo": {
     "elapsed": 54,
     "status": "ok",
     "timestamp": 1663246583692,
     "user": {
      "displayName": "강사",
      "userId": "16181995035441534154"
     },
     "user_tz": -540
    },
    "id": "iSFmwnrg_GRn",
    "outputId": "126d1f5d-e1f9-43b1-e505-f2f58bb1c08c"
   },
   "outputs": [
    {
     "name": "stdout",
     "output_type": "stream",
     "text": [
      "False\n",
      "True\n"
     ]
    }
   ],
   "source": [
    "s = \"Hello\"\n",
    "print(\"h\" in s)\n",
    "print(\"H\" in s)"
   ]
  },
  {
   "cell_type": "markdown",
   "metadata": {
    "id": "Zr-DQKoxdiYY"
   },
   "source": [
    "## 리스트의 기본 연산과 인덱싱"
   ]
  },
  {
   "cell_type": "code",
   "execution_count": null,
   "metadata": {
    "colab": {
     "base_uri": "https://localhost:8080/"
    },
    "executionInfo": {
     "elapsed": 289,
     "status": "ok",
     "timestamp": 1671685583452,
     "user": {
      "displayName": "강사",
      "userId": "16181995035441534154"
     },
     "user_tz": -540
    },
    "id": "jItpoySOCVoU",
    "outputId": "43f296c8-4188-4f43-ee59-4733a1c5aa96"
   },
   "outputs": [
    {
     "name": "stdout",
     "output_type": "stream",
     "text": [
      "[1, 2, 3]\n",
      "[1, 2, 3, 1, 2, 3]\n",
      "[1, 2, 3, 1, 2, 3, 1, 2, 3]\n",
      "[1, 2, 3, 1, 2, 3, 1, 2, 3]\n",
      "[1, 2, 3, 1, 2, 3, 1, 2, 3]\n"
     ]
    }
   ],
   "source": [
    "a=[1,2,3]\n",
    "b=a+a\n",
    "c=a*3\n",
    "d=a*(12//4)\n",
    "e=a*int(12/4)\n",
    "print(a)\n",
    "print(b)\n",
    "print(c)\n",
    "print(d)\n",
    "print(e)"
   ]
  },
  {
   "cell_type": "code",
   "execution_count": null,
   "metadata": {
    "colab": {
     "base_uri": "https://localhost:8080/"
    },
    "executionInfo": {
     "elapsed": 29,
     "status": "ok",
     "timestamp": 1663246583692,
     "user": {
      "displayName": "강사",
      "userId": "16181995035441534154"
     },
     "user_tz": -540
    },
    "id": "vIf_nAegDBT7",
    "outputId": "1257502a-95be-4742-8814-163730bcc47c"
   },
   "outputs": [
    {
     "name": "stdout",
     "output_type": "stream",
     "text": [
      "3\n"
     ]
    }
   ],
   "source": [
    "a=[1,2,3]\n",
    "len(a) # len은 length다. length는 길이다."
   ]
  },
  {
   "cell_type": "code",
   "execution_count": null,
   "metadata": {
    "colab": {
     "base_uri": "https://localhost:8080/"
    },
    "executionInfo": {
     "elapsed": 288,
     "status": "ok",
     "timestamp": 1671685759773,
     "user": {
      "displayName": "강사",
      "userId": "16181995035441534154"
     },
     "user_tz": -540
    },
    "id": "m2gNLPUUDgJg",
    "outputId": "19ba1c7e-969f-4fd5-ac96-e1cbb7988fcd"
   },
   "outputs": [
    {
     "name": "stdout",
     "output_type": "stream",
     "text": [
      "hello\n",
      "5\n",
      "['hello']\n",
      "1\n"
     ]
    }
   ],
   "source": [
    "s=\"hello\"\n",
    "s2=[\"hello\"]\n",
    "print(s)\n",
    "print(len(s)) # len() 안에 문자열이 들어오면 문자의 개수를 알려주고\n",
    "# len() 안에 리스트가 들어오면 리스트에 들어있는 항목의 개수를 알려준다!\n",
    "print(s2)\n",
    "print(len(s2)) # 왜 하나일까? 리스트의 길이를 알려주는 거라서..!"
   ]
  },
  {
   "cell_type": "code",
   "execution_count": null,
   "metadata": {
    "colab": {
     "base_uri": "https://localhost:8080/"
    },
    "executionInfo": {
     "elapsed": 574,
     "status": "ok",
     "timestamp": 1663246584635,
     "user": {
      "displayName": "강사",
      "userId": "16181995035441534154"
     },
     "user_tz": -540
    },
    "id": "L2keFtEIEo-L",
    "outputId": "97976348-2c62-4278-c39e-d65d46e3ea64"
   },
   "outputs": [
    {
     "name": "stdout",
     "output_type": "stream",
     "text": [
      "1\n",
      "1 2 3\n",
      "3\n",
      "3 2 1\n"
     ]
    }
   ],
   "source": [
    "a=[1,2,3]\n",
    "print(a[0]) # a[i]: i 번째의 값을 가리킴, 이런 것을 인덱싱이라 함\n",
    "print(a[0],a[1],a[2])\n",
    "print(a[-1]) # -1은 마지막 것을 가리킨다.\n",
    "print(a[-1],a[-2],a[-3])"
   ]
  },
  {
   "cell_type": "code",
   "execution_count": null,
   "metadata": {
    "colab": {
     "base_uri": "https://localhost:8080/"
    },
    "executionInfo": {
     "elapsed": 355,
     "status": "ok",
     "timestamp": 1671685947805,
     "user": {
      "displayName": "강사",
      "userId": "16181995035441534154"
     },
     "user_tz": -540
    },
    "id": "pXmfRVODGi0z",
    "outputId": "297b7bd7-0c83-4985-f5e3-9413c24666db"
   },
   "outputs": [
    {
     "name": "stdout",
     "output_type": "stream",
     "text": [
      "0 2 4\n"
     ]
    }
   ],
   "source": [
    "r=range(0,10,2) # range도 인덱싱 됨\n",
    "print(r[0],r[1],r[2])"
   ]
  },
  {
   "cell_type": "code",
   "execution_count": null,
   "metadata": {
    "colab": {
     "base_uri": "https://localhost:8080/"
    },
    "executionInfo": {
     "elapsed": 309,
     "status": "ok",
     "timestamp": 1687317831334,
     "user": {
      "displayName": "ppen hyuk",
      "userId": "06590780498642875598"
     },
     "user_tz": -540
    },
    "id": "maPQTSgVIMKD",
    "outputId": "2682b779-884f-40af-ccd3-8b54591c8edf"
   },
   "outputs": [
    {
     "data": {
      "text/plain": [
       "[3, 5, 10]"
      ]
     },
     "execution_count": 10,
     "metadata": {},
     "output_type": "execute_result"
    }
   ],
   "source": [
    "a=[1,2,3]\n",
    "a[0]=3\n",
    "a[1]=5\n",
    "a[2]=10\n",
    "a"
   ]
  },
  {
   "cell_type": "code",
   "execution_count": null,
   "metadata": {
    "id": "Wi3ePNlF1ALG"
   },
   "outputs": [],
   "source": [
    "a=(1,2,3)\n",
    "# a[0]=100 # immutable"
   ]
  },
  {
   "cell_type": "code",
   "execution_count": null,
   "metadata": {
    "colab": {
     "base_uri": "https://localhost:8080/"
    },
    "executionInfo": {
     "elapsed": 550,
     "status": "ok",
     "timestamp": 1663246584636,
     "user": {
      "displayName": "강사",
      "userId": "16181995035441534154"
     },
     "user_tz": -540
    },
    "id": "9R8VJ-wpIsi6",
    "outputId": "7e463d5b-804a-49c9-aec4-fbae2b08ffe9"
   },
   "outputs": [
    {
     "name": "stdout",
     "output_type": "stream",
     "text": [
      "[1, 3]\n"
     ]
    }
   ],
   "source": [
    "a=[1,2,3]\n",
    "del a[1]\n",
    "a"
   ]
  },
  {
   "cell_type": "markdown",
   "metadata": {
    "id": "0YRLr7YeJBTe"
   },
   "source": [
    "## 범위 인덱싱? 슬라이싱!"
   ]
  },
  {
   "cell_type": "code",
   "execution_count": null,
   "metadata": {
    "colab": {
     "base_uri": "https://localhost:8080/"
    },
    "executionInfo": {
     "elapsed": 315,
     "status": "ok",
     "timestamp": 1671686184403,
     "user": {
      "displayName": "강사",
      "userId": "16181995035441534154"
     },
     "user_tz": -540
    },
    "id": "Ns2lljVBJCZK",
    "outputId": "50ee79f4-8a63-4e58-8758-70590b57f4fc"
   },
   "outputs": [
    {
     "data": {
      "text/plain": [
       "[1, 2, 3]"
      ]
     },
     "execution_count": 9,
     "metadata": {},
     "output_type": "execute_result"
    }
   ],
   "source": [
    "a = [1,2,3,4,5,6,7,8,9,10]\n",
    "a[0:3] # 0 부터 3 미만번째"
   ]
  },
  {
   "cell_type": "code",
   "execution_count": null,
   "metadata": {
    "colab": {
     "base_uri": "https://localhost:8080/"
    },
    "executionInfo": {
     "elapsed": 355,
     "status": "ok",
     "timestamp": 1671686376016,
     "user": {
      "displayName": "강사",
      "userId": "16181995035441534154"
     },
     "user_tz": -540
    },
    "id": "YzF3WIflJdrT",
    "outputId": "bb8b10de-d43d-4ce0-87d9-d09ccfbf817e"
   },
   "outputs": [
    {
     "name": "stdout",
     "output_type": "stream",
     "text": [
      "[2, 3]\n",
      "[4, 5, 6, 7, 8, 9]\n",
      "[2, 4, 6]\n",
      "[1, 2, 3, 4, 5]\n",
      "[6, 7, 8, 9, 10]\n",
      "[1, 2, 3, 4, 5, 6, 7, 8, 9, 10]\n"
     ]
    }
   ],
   "source": [
    "a = [1,2,3,4,5,6,7,8,9,10]\n",
    "print(a[1:3])\n",
    "print(a[3:-1])\n",
    "print(a[1:7:2]) # 8은 비포함\n",
    "print(a[:5]) # 첫 번째 자리를 비우면 처음 것부터\n",
    "print(a[5:]) # 두 번째 자리를 비우면 마지막까지 (마지막도 포함)\n",
    "print(a[:])"
   ]
  },
  {
   "cell_type": "code",
   "execution_count": null,
   "metadata": {
    "colab": {
     "base_uri": "https://localhost:8080/"
    },
    "executionInfo": {
     "elapsed": 515,
     "status": "ok",
     "timestamp": 1663246584636,
     "user": {
      "displayName": "강사",
      "userId": "16181995035441534154"
     },
     "user_tz": -540
    },
    "id": "dj7A37bdc-uC",
    "outputId": "b655d948-e2d0-406d-b51b-7b9ea90dd84b"
   },
   "outputs": [
    {
     "name": "stdout",
     "output_type": "stream",
     "text": [
      "[1, 3, 5, 7]\n",
      "[8, 10]\n",
      "[1, 3, 5, 7, 9]\n",
      "[1, 2, 3, 4, 5, 6, 7, 8, 9, 10]\n"
     ]
    }
   ],
   "source": [
    "a = [1,2,3,4,5,6,7,8,9,10]\n",
    "print(a[:7:2])\n",
    "print(a[7::2])\n",
    "print(a[::2])\n",
    "print(a[::]) # a[:]과 동일"
   ]
  },
  {
   "cell_type": "code",
   "execution_count": null,
   "metadata": {
    "colab": {
     "base_uri": "https://localhost:8080/"
    },
    "executionInfo": {
     "elapsed": 503,
     "status": "ok",
     "timestamp": 1663246584636,
     "user": {
      "displayName": "강사",
      "userId": "16181995035441534154"
     },
     "user_tz": -540
    },
    "id": "NHF1JhRYesOT",
    "outputId": "b6989a34-37b5-4f4b-fc64-7e7406272975"
   },
   "outputs": [
    {
     "name": "stdout",
     "output_type": "stream",
     "text": [
      "[1, 4, 5]\n"
     ]
    }
   ],
   "source": [
    "a=[1,2,3,4,5]\n",
    "del a[1:3]\n",
    "print(a)"
   ]
  },
  {
   "cell_type": "markdown",
   "metadata": {
    "id": "GHDuMgFanQi-"
   },
   "source": [
    "## 딕셔너리"
   ]
  },
  {
   "cell_type": "code",
   "execution_count": null,
   "metadata": {
    "colab": {
     "base_uri": "https://localhost:8080/"
    },
    "executionInfo": {
     "elapsed": 491,
     "status": "ok",
     "timestamp": 1663246584636,
     "user": {
      "displayName": "강사",
      "userId": "16181995035441534154"
     },
     "user_tz": -540
    },
    "id": "JtcLe1HunROF",
    "outputId": "9a6e21c0-28e6-4e0d-d809-e5764200a619"
   },
   "outputs": [
    {
     "name": "stdout",
     "output_type": "stream",
     "text": [
      "{'a': 1, 'b': 2, 100: '5', 200: 'ㅎㅎ'}\n",
      "1 2 5 ㅎㅎ\n",
      "4\n",
      "dict_keys(['a', 'b', 100, 200])\n",
      "dict_values([1, 2, '5', 'ㅎㅎ'])\n",
      "dict_items([('a', 1), ('b', 2), (100, '5'), (200, 'ㅎㅎ')])\n"
     ]
    }
   ],
   "source": [
    "dic1 = {\"a\": 1, \"b\": 2, 100 : \"5\", 200 : \"ㅎㅎ\"} # 중괄호다. 콜론(:)이 들어간다. 키:값 이고 숫자 문자 뭐든 키, 값이 될 수 있다.\n",
    "# 키에는 수정할 수 없는 튜플은 되고 리스트는 안됨\n",
    "# 값에는 튜플도 되고 리스트도 됨\n",
    "print(dic1)\n",
    "print(dic1[\"a\"], dic1[\"b\"], dic1[100], dic1[200])\n",
    "print(len(dic1)) # 네 쌍이라서 4\n",
    "print(dic1.keys())\n",
    "print(dic1.values())\n",
    "print(dic1.items())"
   ]
  },
  {
   "cell_type": "code",
   "execution_count": null,
   "metadata": {
    "colab": {
     "base_uri": "https://localhost:8080/"
    },
    "executionInfo": {
     "elapsed": 415,
     "status": "ok",
     "timestamp": 1671686935089,
     "user": {
      "displayName": "강사",
      "userId": "16181995035441534154"
     },
     "user_tz": -540
    },
    "id": "YT5Hd_vVpVyX",
    "outputId": "8fd80458-ad93-47d6-b17b-5749655be6e1"
   },
   "outputs": [
    {
     "name": "stdout",
     "output_type": "stream",
     "text": [
      "{'a': 1, 'b': 2}\n",
      "{'a': 1, 'b': 2}\n",
      "[('a', 1), ('b', 2)]\n"
     ]
    }
   ],
   "source": [
    "a=dict(zip([\"a\",\"b\"],[1, 2])) # zip을 사용할 수도\n",
    "print(a)\n",
    "a=dict(a=1,b=2)\n",
    "print(a)\n",
    "print(list(zip([\"a\",\"b\"],[1, 2])))"
   ]
  },
  {
   "cell_type": "code",
   "execution_count": null,
   "metadata": {
    "colab": {
     "base_uri": "https://localhost:8080/"
    },
    "executionInfo": {
     "elapsed": 468,
     "status": "ok",
     "timestamp": 1663246584636,
     "user": {
      "displayName": "강사",
      "userId": "16181995035441534154"
     },
     "user_tz": -540
    },
    "id": "L-FWG1Fnsyf2",
    "outputId": "2854de95-88be-4467-c9ed-9a15a371afa0"
   },
   "outputs": [
    {
     "name": "stdout",
     "output_type": "stream",
     "text": [
      "{'a': 100, 'b': 200, 'c': 300, 'd': 400, 'e': '새로운 키'}\n",
      "True\n",
      "False\n"
     ]
    }
   ],
   "source": [
    "dic1 = {\"a\":1, \"b\":2, \"c\":3, \"d\":4}\n",
    "dic1[\"a\"] = 100; dic1[\"b\"] = 200; dic1[\"c\"]=300; dic1[\"d\"]=400\n",
    "dic1[\"e\"] = \"새로운 키\"\n",
    "print(dic1)\n",
    "print(\"a\" in dic1) # \"a\" 라는 키가 있느냐\n",
    "print(100 in dic1) # 100 이라는 키가 있느냐"
   ]
  },
  {
   "cell_type": "markdown",
   "metadata": {
    "id": "quRt899EwbHr"
   },
   "source": [
    "## 조건문"
   ]
  },
  {
   "cell_type": "code",
   "execution_count": null,
   "metadata": {
    "colab": {
     "base_uri": "https://localhost:8080/"
    },
    "executionInfo": {
     "elapsed": 3,
     "status": "ok",
     "timestamp": 1663349596845,
     "user": {
      "displayName": "강사",
      "userId": "16181995035441534154"
     },
     "user_tz": -540
    },
    "id": "Ywt5e-jiwd40",
    "outputId": "ed40d7ac-08c3-48be-d588-b0e4ed33c670"
   },
   "outputs": [
    {
     "name": "stdout",
     "output_type": "stream",
     "text": [
      "True\n",
      "False\n",
      "True\n",
      "3보다 큽니다\n",
      "5와 같습니다.\n"
     ]
    }
   ],
   "source": [
    "a=5\n",
    "print(a>3)\n",
    "print(a<3)\n",
    "print(a==5)\n",
    "\n",
    "if a>3:\n",
    "    print(\"3보다 큽니다.\") # 도구-설정-편집기 네 칸 들여쓰기 (설정- 편집기)\n",
    "# tab, shift+tab 으로 들여쓰기 조절 가능\n",
    "if a<3:\n",
    "    print(\"3보다 작습니다.\")\n",
    "\n",
    "if a==5:\n",
    "    print(\"5와 같습니다.\")\n",
    "\n",
    "# if a=5:\n",
    "    # print(\"5를 a에 넣는다면..?\")\n",
    "\n",
    "# 여긴 내 필기\n",
    "# if a>3:\n",
    "#     pass\n",
    "#     print(a) # 실행 된다..; -> pass 설명은 굳이 하지 말자"
   ]
  },
  {
   "cell_type": "code",
   "execution_count": null,
   "metadata": {
    "id": "X0dNnlWYr0fY"
   },
   "outputs": [],
   "source": [
    "# 내 필기용\n",
    "# for i in range(10):\n",
    "#     if i % 2 == 0:\n",
    "#         pass        # pass contine break 차이 알아보려고\n",
    "#         print(i)\n",
    "#     else:\n",
    "#         print(i)\n",
    "# print(\"Done\")"
   ]
  },
  {
   "cell_type": "code",
   "execution_count": null,
   "metadata": {
    "colab": {
     "base_uri": "https://localhost:8080/"
    },
    "executionInfo": {
     "elapsed": 297,
     "status": "ok",
     "timestamp": 1671687576965,
     "user": {
      "displayName": "강사",
      "userId": "16181995035441534154"
     },
     "user_tz": -540
    },
    "id": "bGXYWms4telB",
    "outputId": "b886578f-7e73-427e-8380-6495d2b98e09"
   },
   "outputs": [
    {
     "name": "stdout",
     "output_type": "stream",
     "text": [
      "5와\n",
      "같습니다\n",
      "5와 같습니다.\n",
      "if문 밖으로 나옴. 여기서부터 계속 실행된다.\n"
     ]
    }
   ],
   "source": [
    "a=5 # a=1로 바꿔서도 해보자. 입구 컷!\n",
    "if a==5:\n",
    "    print(\"5와\")\n",
    "    print(\"같습니다.\")\n",
    "# if a==5:\n",
    "#     print(\"5와\")\n",
    "#         print(\"같습니다\") # error!\n",
    "if a==5:\n",
    "    print(\"5와 같습니다.\")\n",
    "print(\"if문 밖으로 나옴. 여기서부터 계속 실행된다.\")"
   ]
  },
  {
   "cell_type": "code",
   "execution_count": null,
   "metadata": {
    "colab": {
     "base_uri": "https://localhost:8080/"
    },
    "executionInfo": {
     "elapsed": 432,
     "status": "ok",
     "timestamp": 1663246584636,
     "user": {
      "displayName": "강사",
      "userId": "16181995035441534154"
     },
     "user_tz": -540
    },
    "id": "zQl4agGuvwkR",
    "outputId": "d5101f44-e61b-4b60-de16-06d2e523a17c"
   },
   "outputs": [
    {
     "name": "stdout",
     "output_type": "stream",
     "text": [
      "10보다 크다.\n",
      "15입니다\n"
     ]
    }
   ],
   "source": [
    "x=15\n",
    "if x>10:\n",
    "    print(\"10보다 크다.\")\n",
    "    if x==15:\n",
    "        print(\"15입니다\")\n",
    "    if x==20:\n",
    "        print(\"20입니다\")"
   ]
  },
  {
   "cell_type": "code",
   "execution_count": null,
   "metadata": {
    "id": "LUlk5-_qxEVf"
   },
   "outputs": [],
   "source": [
    "x=15\n",
    "if x<10: # 애초에 여길 통과 못해서 이 안에 if x==15: 가 있더라도 실행되지 않음!\n",
    "    print(\"10보다 작다\")\n",
    "    if x==15:\n",
    "        print(\"15입니다\")\n",
    "    if x==20:\n",
    "        print(\"20입니다\")"
   ]
  },
  {
   "cell_type": "code",
   "execution_count": null,
   "metadata": {
    "colab": {
     "base_uri": "https://localhost:8080/"
    },
    "executionInfo": {
     "elapsed": 420,
     "status": "ok",
     "timestamp": 1663246584636,
     "user": {
      "displayName": "강사",
      "userId": "16181995035441534154"
     },
     "user_tz": -540
    },
    "id": "mgpvYE5Txhmr",
    "outputId": "751afb38-2f64-4266-8d62-d71b64b733e8"
   },
   "outputs": [
    {
     "name": "stdout",
     "output_type": "stream",
     "text": [
      "그 이외 (10 이상)\n",
      "else도 들여쓰기 영역 모두 실행\n"
     ]
    }
   ],
   "source": [
    "x=15\n",
    "if x < 10:\n",
    "    print(\"x는 10보다 작습니다 (10 미만)\")\n",
    "else:\n",
    "    print(\"그 이외 (10 이상)\")\n",
    "    print(\"else도 들여쓰기 영역 모두 실행\")"
   ]
  },
  {
   "cell_type": "code",
   "execution_count": null,
   "metadata": {
    "colab": {
     "base_uri": "https://localhost:8080/"
    },
    "executionInfo": {
     "elapsed": 408,
     "status": "ok",
     "timestamp": 1663246584636,
     "user": {
      "displayName": "강사",
      "userId": "16181995035441534154"
     },
     "user_tz": -540
    },
    "id": "HGYIrtq-zJzs",
    "outputId": "3c0b706c-aa09-4a0d-f46f-476c56d175dc"
   },
   "outputs": [
    {
     "name": "stdout",
     "output_type": "stream",
     "text": [
      "여기 들어온다\n",
      "이번엔 여기로 들어와야 함\n"
     ]
    }
   ],
   "source": [
    "if True:\n",
    "    print(\"여기 들어온다\")\n",
    "else:\n",
    "    print(\"여긴 안들어와야\")\n",
    "\n",
    "if False:\n",
    "    print(\"여긴 안들어와야\")\n",
    "else:\n",
    "    print(\"이번엔 여기로 들어와야 함\")"
   ]
  },
  {
   "cell_type": "code",
   "execution_count": null,
   "metadata": {
    "colab": {
     "base_uri": "https://localhost:8080/"
    },
    "executionInfo": {
     "elapsed": 396,
     "status": "ok",
     "timestamp": 1663246584636,
     "user": {
      "displayName": "강사",
      "userId": "16181995035441534154"
     },
     "user_tz": -540
    },
    "id": "qrHp5WWE1fRD",
    "outputId": "7cd21ae7-8e0b-4e52-d438-e5a0dca0881f"
   },
   "outputs": [
    {
     "name": "stdout",
     "output_type": "stream",
     "text": [
      "0만 아니면 True 취급\n",
      "따라서 여기로 들어올 것이다\n"
     ]
    }
   ],
   "source": [
    "if 1: # bool(-1)도 True\n",
    "    print(\"0만 아니면 True 취급\")\n",
    "else:\n",
    "    print(\"여긴 안들어올 것이다\")\n",
    "\n",
    "if 0:\n",
    "    print(\"0은 False 취급\")\n",
    "else:\n",
    "    print(\"따라서 여기로 들어올 것이다\")"
   ]
  },
  {
   "cell_type": "code",
   "execution_count": null,
   "metadata": {
    "colab": {
     "base_uri": "https://localhost:8080/"
    },
    "executionInfo": {
     "elapsed": 384,
     "status": "ok",
     "timestamp": 1663246584636,
     "user": {
      "displayName": "강사",
      "userId": "16181995035441534154"
     },
     "user_tz": -540
    },
    "id": "kZN_Wc9c2l6j",
    "outputId": "5648d137-e398-4b88-9278-0f7749d7d2d0"
   },
   "outputs": [
    {
     "name": "stdout",
     "output_type": "stream",
     "text": [
      "글자 있으면 True 취급\n",
      "비었으면 일로 온다\n"
     ]
    }
   ],
   "source": [
    "if \"Hello\": # \"False\" 도 해보자\n",
    "    print(\"글자 있으면 True 취급\")\n",
    "else:\n",
    "    print(\"여긴 안들어올 것이다\")\n",
    "\n",
    "if \"\":\n",
    "    print(\"빈 문자는 False 취급\")\n",
    "else:\n",
    "    print(\"비었으면 일로 온다\")"
   ]
  },
  {
   "cell_type": "code",
   "execution_count": null,
   "metadata": {
    "colab": {
     "base_uri": "https://localhost:8080/"
    },
    "executionInfo": {
     "elapsed": 373,
     "status": "ok",
     "timestamp": 1663246584637,
     "user": {
      "displayName": "강사",
      "userId": "16181995035441534154"
     },
     "user_tz": -540
    },
    "id": "TJt_CAFXzTMC",
    "outputId": "0a44fd9f-f8ec-4b25-e063-307aa3b70339"
   },
   "outputs": [
    {
     "name": "stdout",
     "output_type": "stream",
     "text": [
      "True\n",
      "False\n",
      "True\n",
      "False\n"
     ]
    }
   ],
   "source": [
    "print(bool(1))\n",
    "print(bool(0))\n",
    "print(bool(\"Hello\"))\n",
    "print(bool(\"\"))"
   ]
  },
  {
   "cell_type": "code",
   "execution_count": null,
   "metadata": {
    "colab": {
     "base_uri": "https://localhost:8080/"
    },
    "executionInfo": {
     "elapsed": 361,
     "status": "ok",
     "timestamp": 1663246584637,
     "user": {
      "displayName": "강사",
      "userId": "16181995035441534154"
     },
     "user_tz": -540
    },
    "id": "PHxF_lUa3Twz",
    "outputId": "e0017fff-1959-4203-bc4f-6e00ce9bb377"
   },
   "outputs": [
    {
     "name": "stdout",
     "output_type": "stream",
     "text": [
      "둘다 맞아야만 들어옴\n"
     ]
    }
   ],
   "source": [
    "a=1\n",
    "b=2\n",
    "if a > 0 and b > 0:\n",
    "    print(\"둘다 맞아야만 들어옴\")\n",
    "else:\n",
    "    print(\"둘 중 하나라도 안 맞으면 여기로\")"
   ]
  },
  {
   "cell_type": "code",
   "execution_count": null,
   "metadata": {
    "colab": {
     "base_uri": "https://localhost:8080/"
    },
    "executionInfo": {
     "elapsed": 349,
     "status": "ok",
     "timestamp": 1663246584637,
     "user": {
      "displayName": "강사",
      "userId": "16181995035441534154"
     },
     "user_tz": -540
    },
    "id": "fg29PGmw3k9k",
    "outputId": "6227f334-a3ab-415f-eebf-a59673bf1127"
   },
   "outputs": [
    {
     "name": "stdout",
     "output_type": "stream",
     "text": [
      "둘 중 하나라도 안 맞으면 여기로\n"
     ]
    }
   ],
   "source": [
    "a=1\n",
    "b=-1\n",
    "if a > 0 and b > 0:\n",
    "    print(\"둘다 맞아야만 들어옴\")\n",
    "else:\n",
    "    print(\"둘 중 하나라도 안 맞으면 여기로\")"
   ]
  },
  {
   "cell_type": "code",
   "execution_count": null,
   "metadata": {
    "colab": {
     "base_uri": "https://localhost:8080/"
    },
    "executionInfo": {
     "elapsed": 338,
     "status": "ok",
     "timestamp": 1663246584637,
     "user": {
      "displayName": "강사",
      "userId": "16181995035441534154"
     },
     "user_tz": -540
    },
    "id": "CoES3Epz3nX0",
    "outputId": "49e03559-1280-49fb-d93b-91bf4e522c4a"
   },
   "outputs": [
    {
     "name": "stdout",
     "output_type": "stream",
     "text": [
      "둘 중에 하나라도 맞으면 여기로\n"
     ]
    }
   ],
   "source": [
    "a=1\n",
    "b=-1\n",
    "if a > 0 or b > 0:\n",
    "    print(\"둘 중에 하나라도 맞으면 여기로\")\n",
    "else:\n",
    "    print(\"둘다 음수면 여기로\")"
   ]
  },
  {
   "cell_type": "code",
   "execution_count": null,
   "metadata": {
    "colab": {
     "base_uri": "https://localhost:8080/"
    },
    "executionInfo": {
     "elapsed": 325,
     "status": "ok",
     "timestamp": 1663246584637,
     "user": {
      "displayName": "강사",
      "userId": "16181995035441534154"
     },
     "user_tz": -540
    },
    "id": "gtMqpsNl32im",
    "outputId": "d1b2097f-40a1-4b56-feca-5f311e3c1a83"
   },
   "outputs": [
    {
     "name": "stdout",
     "output_type": "stream",
     "text": [
      "둘다 아니면 여기로\n"
     ]
    }
   ],
   "source": [
    "a=-1\n",
    "b=-1\n",
    "if a > 0 or b > 0:\n",
    "    print(\"둘 중에 하나라도 맞으면 여기로\")\n",
    "else:\n",
    "    print(\"둘다 아니면 여기로\")"
   ]
  },
  {
   "cell_type": "code",
   "execution_count": null,
   "metadata": {
    "colab": {
     "base_uri": "https://localhost:8080/"
    },
    "executionInfo": {
     "elapsed": 314,
     "status": "ok",
     "timestamp": 1663246584637,
     "user": {
      "displayName": "강사",
      "userId": "16181995035441534154"
     },
     "user_tz": -540
    },
    "id": "TvLhPWr1353E",
    "outputId": "7c3c4263-9d60-49ad-b0e4-2a9fc7d78cc5"
   },
   "outputs": [
    {
     "name": "stdout",
     "output_type": "stream",
     "text": [
      "부등호 연달아 써도 된다\n"
     ]
    }
   ],
   "source": [
    "x=10\n",
    "if 0 < x < 20:\n",
    "    print(\"부등호 연달아 써도 된다\")"
   ]
  },
  {
   "cell_type": "code",
   "execution_count": null,
   "metadata": {
    "colab": {
     "base_uri": "https://localhost:8080/"
    },
    "executionInfo": {
     "elapsed": 302,
     "status": "ok",
     "timestamp": 1663246584637,
     "user": {
      "displayName": "강사",
      "userId": "16181995035441534154"
     },
     "user_tz": -540
    },
    "id": "ZNP6oxvb4D3r",
    "outputId": "29de2292-42a7-4aa2-9899-2c880f58ca78"
   },
   "outputs": [
    {
     "name": "stdout",
     "output_type": "stream",
     "text": [
      "아니면 50보다 작은가?\n"
     ]
    }
   ],
   "source": [
    "x=25\n",
    "if x < 10:\n",
    "    print(\"10보다 작은가?\")\n",
    "elif x <  50:\n",
    "    print(\"아니면 50보다 작은가?\")"
   ]
  },
  {
   "cell_type": "code",
   "execution_count": null,
   "metadata": {
    "colab": {
     "base_uri": "https://localhost:8080/"
    },
    "executionInfo": {
     "elapsed": 290,
     "status": "ok",
     "timestamp": 1663246584637,
     "user": {
      "displayName": "강사",
      "userId": "16181995035441534154"
     },
     "user_tz": -540
    },
    "id": "jHidgFyg5b9n",
    "outputId": "ee6e63af-f4ac-475a-da23-e7ce2f0a7aa5"
   },
   "outputs": [
    {
     "name": "stdout",
     "output_type": "stream",
     "text": [
      "둘다 아닌가? (10보다 작지도, 50보다 작지도 않은가?)\n"
     ]
    }
   ],
   "source": [
    "x=100\n",
    "if x < 10:\n",
    "    print(\"10보다 작은가?\") # 가장 먼저 본 애를 실행 그러고나서 통째로 튀어나감 (8로 감)\n",
    "elif x <  50:\n",
    "    print(\"아니면 50보다 작은가?\")\n",
    "else: # else는 항상 마지막에!\n",
    "    print(\"둘다 아닌가? (10보다 작지도, 50보다 작지도 않은가?)\")\n",
    "a=1\n",
    "a"
   ]
  },
  {
   "cell_type": "code",
   "execution_count": null,
   "metadata": {
    "colab": {
     "base_uri": "https://localhost:8080/"
    },
    "executionInfo": {
     "elapsed": 280,
     "status": "ok",
     "timestamp": 1671688457195,
     "user": {
      "displayName": "강사",
      "userId": "16181995035441534154"
     },
     "user_tz": -540
    },
    "id": "Qbzt1C0d5ems",
    "outputId": "21c550f6-998c-48d6-ef21-e099b1df45b5"
   },
   "outputs": [
    {
     "name": "stdout",
     "output_type": "stream",
     "text": [
      "다른 숫자\n"
     ]
    }
   ],
   "source": [
    "x=6\n",
    "if x==1:\n",
    "    print(\"1에 해당하는 무언가 실행\")\n",
    "elif x==2: #elif는 개수 제한이 없다\n",
    "    print(\"2에 해당하는 무언가 실행\")\n",
    "elif x==3:\n",
    "    print(\"3에 해당하는 무언가 실행\")\n",
    "elif x==4:\n",
    "    print(\"4에 해당하는 무언가 실행\")\n",
    "else:\n",
    "    print(\"다른 숫자\")"
   ]
  },
  {
   "cell_type": "markdown",
   "metadata": {
    "id": "dX-VGtFoVh3l"
   },
   "source": [
    "## 반복문!"
   ]
  },
  {
   "cell_type": "code",
   "execution_count": null,
   "metadata": {
    "colab": {
     "base_uri": "https://localhost:8080/"
    },
    "executionInfo": {
     "elapsed": 8,
     "status": "ok",
     "timestamp": 1671688458452,
     "user": {
      "displayName": "강사",
      "userId": "16181995035441534154"
     },
     "user_tz": -540
    },
    "id": "pXC_RQ2rViuM",
    "outputId": "fb6bcf84-65e0-49b0-cbf3-aabcd7ffe5de"
   },
   "outputs": [
    {
     "name": "stdout",
     "output_type": "stream",
     "text": [
      "Hello!\n",
      "Hello!\n",
      "Hello!\n",
      "Hello!\n",
      "Hello!\n"
     ]
    }
   ],
   "source": [
    "print(\"Hello!\")\n",
    "print(\"Hello!\")\n",
    "print(\"Hello!\")\n",
    "print(\"Hello!\")\n",
    "print(\"Hello!\")"
   ]
  },
  {
   "cell_type": "code",
   "execution_count": null,
   "metadata": {
    "colab": {
     "base_uri": "https://localhost:8080/"
    },
    "executionInfo": {
     "elapsed": 253,
     "status": "ok",
     "timestamp": 1663246584637,
     "user": {
      "displayName": "강사",
      "userId": "16181995035441534154"
     },
     "user_tz": -540
    },
    "id": "bLW4PFm_VqDE",
    "outputId": "00d7eab8-4eb3-4138-9f43-0b95ccec2b6c"
   },
   "outputs": [
    {
     "name": "stdout",
     "output_type": "stream",
     "text": [
      "Hello!\n",
      "Hello!\n",
      "Hello!\n",
      "Hello!\n",
      "Hello!\n"
     ]
    }
   ],
   "source": [
    "for i in range(5):\n",
    "    print(\"Hello!\")"
   ]
  },
  {
   "cell_type": "code",
   "execution_count": null,
   "metadata": {
    "colab": {
     "base_uri": "https://localhost:8080/"
    },
    "executionInfo": {
     "elapsed": 304,
     "status": "ok",
     "timestamp": 1671689735854,
     "user": {
      "displayName": "강사",
      "userId": "16181995035441534154"
     },
     "user_tz": -540
    },
    "id": "e7-N1kPPVruM",
    "outputId": "7d2d7f9f-c917-4c3b-ee17-4d80b66c5049"
   },
   "outputs": [
    {
     "name": "stdout",
     "output_type": "stream",
     "text": [
      "0\n",
      "1\n",
      "2\n",
      "3\n",
      "4\n"
     ]
    }
   ],
   "source": [
    "for i in range(5): # range(5) <- 0,1,2,3,4 로부터 i라는 이름으로 하나씩 꺼내서 그 i에 대해 아래를 실행해라\n",
    "    print(i)"
   ]
  },
  {
   "cell_type": "code",
   "execution_count": null,
   "metadata": {
    "colab": {
     "base_uri": "https://localhost:8080/"
    },
    "executionInfo": {
     "elapsed": 229,
     "status": "ok",
     "timestamp": 1663246584637,
     "user": {
      "displayName": "강사",
      "userId": "16181995035441534154"
     },
     "user_tz": -540
    },
    "id": "eMsD1LS1V_od",
    "outputId": "417fa056-dac0-4937-b1d4-281ed45266c0"
   },
   "outputs": [
    {
     "name": "stdout",
     "output_type": "stream",
     "text": [
      "5\n",
      "6\n",
      "7\n",
      "8\n",
      "9\n",
      "10\n",
      "11\n"
     ]
    }
   ],
   "source": [
    "for i in range(5,12):\n",
    "    print(i)"
   ]
  },
  {
   "cell_type": "code",
   "execution_count": null,
   "metadata": {
    "colab": {
     "base_uri": "https://localhost:8080/"
    },
    "executionInfo": {
     "elapsed": 218,
     "status": "ok",
     "timestamp": 1663246584637,
     "user": {
      "displayName": "강사",
      "userId": "16181995035441534154"
     },
     "user_tz": -540
    },
    "id": "d8rSL1LpWRns",
    "outputId": "5b8e6abe-3dea-4481-ef55-1374b4eb3a7c"
   },
   "outputs": [
    {
     "name": "stdout",
     "output_type": "stream",
     "text": [
      "5\n",
      "7\n",
      "9\n",
      "11\n"
     ]
    }
   ],
   "source": [
    "for i in range(5,12,2):\n",
    "    print(i)"
   ]
  },
  {
   "cell_type": "code",
   "execution_count": null,
   "metadata": {
    "colab": {
     "base_uri": "https://localhost:8080/"
    },
    "executionInfo": {
     "elapsed": 206,
     "status": "ok",
     "timestamp": 1663246584637,
     "user": {
      "displayName": "강사",
      "userId": "16181995035441534154"
     },
     "user_tz": -540
    },
    "id": "HjrOqtYDWVi9",
    "outputId": "97730137-74e2-4431-bbfb-cdccdccc1b27"
   },
   "outputs": [
    {
     "name": "stdout",
     "output_type": "stream",
     "text": [
      "10\n",
      "9\n",
      "8\n",
      "7\n",
      "6\n",
      "5\n",
      "4\n",
      "3\n",
      "2\n",
      "1\n"
     ]
    }
   ],
   "source": [
    "for i in range(10,0,-1):\n",
    "    print(i)"
   ]
  },
  {
   "cell_type": "code",
   "execution_count": null,
   "metadata": {
    "colab": {
     "base_uri": "https://localhost:8080/"
    },
    "executionInfo": {
     "elapsed": 270,
     "status": "ok",
     "timestamp": 1671689809305,
     "user": {
      "displayName": "강사",
      "userId": "16181995035441534154"
     },
     "user_tz": -540
    },
    "id": "MX3RXYfoZT-d",
    "outputId": "72bc2247-50a0-40aa-cbdf-93daa3daa384"
   },
   "outputs": [
    {
     "name": "stdout",
     "output_type": "stream",
     "text": [
      "9\n",
      "8\n",
      "7\n",
      "6\n",
      "5\n",
      "4\n",
      "3\n",
      "2\n",
      "1\n",
      "0\n"
     ]
    }
   ],
   "source": [
    "for i in reversed(range(10)):\n",
    "    print(i)"
   ]
  },
  {
   "cell_type": "code",
   "execution_count": null,
   "metadata": {
    "colab": {
     "base_uri": "https://localhost:8080/"
    },
    "executionInfo": {
     "elapsed": 183,
     "status": "ok",
     "timestamp": 1663246584637,
     "user": {
      "displayName": "강사",
      "userId": "16181995035441534154"
     },
     "user_tz": -540
    },
    "id": "E0jhxkpZZt82",
    "outputId": "a8ca09b0-e2e5-454b-e93c-277a6b8f4057"
   },
   "outputs": [
    {
     "name": "stdout",
     "output_type": "stream",
     "text": [
      "10\n",
      "20\n",
      "30\n",
      "40\n",
      "50\n"
     ]
    }
   ],
   "source": [
    "a=[10,20,30,40,50]\n",
    "for i in a:\n",
    "    print(i)"
   ]
  },
  {
   "cell_type": "code",
   "execution_count": null,
   "metadata": {
    "colab": {
     "base_uri": "https://localhost:8080/"
    },
    "executionInfo": {
     "elapsed": 171,
     "status": "ok",
     "timestamp": 1663246584637,
     "user": {
      "displayName": "강사",
      "userId": "16181995035441534154"
     },
     "user_tz": -540
    },
    "id": "FBgRfW8faDde",
    "outputId": "07d5cb07-2af8-4b44-c5ca-90b3565bd18e"
   },
   "outputs": [
    {
     "name": "stdout",
     "output_type": "stream",
     "text": [
      "apple\n",
      "banana\n",
      "carrot\n",
      "d\n",
      "e\n"
     ]
    }
   ],
   "source": [
    "a=[\"apple\",\"banana\",\"carrot\",\"d\",\"e\"]\n",
    "for i in a:\n",
    "    print(i)"
   ]
  },
  {
   "cell_type": "code",
   "execution_count": null,
   "metadata": {
    "colab": {
     "base_uri": "https://localhost:8080/"
    },
    "executionInfo": {
     "elapsed": 160,
     "status": "ok",
     "timestamp": 1663246584638,
     "user": {
      "displayName": "강사",
      "userId": "16181995035441534154"
     },
     "user_tz": -540
    },
    "id": "1TL1f_PbaKBm",
    "outputId": "db037e47-9e40-4043-93d3-b67f1f21c79d"
   },
   "outputs": [
    {
     "name": "stdout",
     "output_type": "stream",
     "text": [
      "H\n",
      "e\n",
      "l\n",
      "l\n",
      "o\n"
     ]
    }
   ],
   "source": [
    "a=\"Hello\"\n",
    "for i in a:\n",
    "    print(i) # 엔터(줄바꿈)가 내장"
   ]
  },
  {
   "cell_type": "code",
   "execution_count": null,
   "metadata": {
    "colab": {
     "base_uri": "https://localhost:8080/"
    },
    "executionInfo": {
     "elapsed": 148,
     "status": "ok",
     "timestamp": 1663246584638,
     "user": {
      "displayName": "강사",
      "userId": "16181995035441534154"
     },
     "user_tz": -540
    },
    "id": "FO_kqeKobgye",
    "outputId": "cee70d82-9744-48a4-81ee-0d13915711a0"
   },
   "outputs": [
    {
     "name": "stdout",
     "output_type": "stream",
     "text": [
      "Hello"
     ]
    }
   ],
   "source": [
    "a=\"Hello\"\n",
    "for i in a:\n",
    "    print(i,end=\"\")"
   ]
  },
  {
   "cell_type": "code",
   "execution_count": null,
   "metadata": {
    "colab": {
     "base_uri": "https://localhost:8080/"
    },
    "executionInfo": {
     "elapsed": 137,
     "status": "ok",
     "timestamp": 1663246584638,
     "user": {
      "displayName": "강사",
      "userId": "16181995035441534154"
     },
     "user_tz": -540
    },
    "id": "L__l5ypL8bOT",
    "outputId": "704cac6f-7452-41c4-d38f-9890d616f2e4"
   },
   "outputs": [
    {
     "name": "stdout",
     "output_type": "stream",
     "text": [
      "0 0\n",
      "0 1\n",
      "0 2\n",
      "1 0\n",
      "1 1\n",
      "1 2\n",
      "2 0\n",
      "2 1\n",
      "2 2\n"
     ]
    }
   ],
   "source": [
    "for i in range(3):\n",
    "    for j in range(3):\n",
    "        print(i,j)"
   ]
  },
  {
   "cell_type": "code",
   "execution_count": null,
   "metadata": {
    "colab": {
     "base_uri": "https://localhost:8080/"
    },
    "executionInfo": {
     "elapsed": 459,
     "status": "ok",
     "timestamp": 1671690203079,
     "user": {
      "displayName": "강사",
      "userId": "16181995035441534154"
     },
     "user_tz": -540
    },
    "id": "4xlMSunJfMcf",
    "outputId": "6278dfed-a63a-4bbc-a2ff-42deb3f4f1f1"
   },
   "outputs": [
    {
     "name": "stdout",
     "output_type": "stream",
     "text": [
      "0\n",
      "1\n",
      "2\n",
      "3\n",
      "4\n",
      "\n",
      "i = 5\n"
     ]
    }
   ],
   "source": [
    "i=0\n",
    "while i<5: # i가 5보다 작은 \"동안에\" 반복적으로 실행\n",
    "    print(i)\n",
    "    i+=1 # i = i+1\n",
    "print(\"i =\", i) # 5다."
   ]
  },
  {
   "cell_type": "code",
   "execution_count": null,
   "metadata": {
    "colab": {
     "base_uri": "https://localhost:8080/"
    },
    "executionInfo": {
     "elapsed": 114,
     "status": "ok",
     "timestamp": 1663246584638,
     "user": {
      "displayName": "강사",
      "userId": "16181995035441534154"
     },
     "user_tz": -540
    },
    "id": "uEZJN4Iogocw",
    "outputId": "6d054230-5a62-4184-a0a8-a31300433785"
   },
   "outputs": [
    {
     "name": "stdout",
     "output_type": "stream",
     "text": [
      "4\n"
     ]
    }
   ],
   "source": [
    "# 내 필기용\n",
    "import random # random 이라는 라이브러리를 가져온다.\n",
    "x=random.randint(1,6) # 1 부터 6 사이 랜덤하게 뽑아서 x에 넣어라\n",
    "print(x)"
   ]
  },
  {
   "cell_type": "code",
   "execution_count": null,
   "metadata": {
    "colab": {
     "base_uri": "https://localhost:8080/"
    },
    "executionInfo": {
     "elapsed": 103,
     "status": "ok",
     "timestamp": 1663246584638,
     "user": {
      "displayName": "강사",
      "userId": "16181995035441534154"
     },
     "user_tz": -540
    },
    "id": "q3vQ5WGIiPZb",
    "outputId": "6c08df72-ff50-4889-a417-235a621a6a93"
   },
   "outputs": [
    {
     "name": "stdout",
     "output_type": "stream",
     "text": [
      "5\n",
      "5\n",
      "4\n",
      "1\n",
      "4\n",
      "4\n",
      "1\n",
      "4\n",
      "2\n",
      "3\n"
     ]
    }
   ],
   "source": [
    "# 내 필기용\n",
    "import random\n",
    "i=0\n",
    "while i != 3:\n",
    "    i=random.randint(1,6)\n",
    "    print(i)"
   ]
  },
  {
   "cell_type": "code",
   "execution_count": null,
   "metadata": {
    "colab": {
     "base_uri": "https://localhost:8080/"
    },
    "executionInfo": {
     "elapsed": 91,
     "status": "ok",
     "timestamp": 1663246584638,
     "user": {
      "displayName": "강사",
      "userId": "16181995035441534154"
     },
     "user_tz": -540
    },
    "id": "n2kGU46CoXgq",
    "outputId": "daa9ee72-1a1d-4206-dbea-859759731639"
   },
   "outputs": [
    {
     "name": "stdout",
     "output_type": "stream",
     "text": [
      "0\n",
      "1\n",
      "2\n",
      "3\n",
      "4\n"
     ]
    }
   ],
   "source": [
    "i=0\n",
    "while True:\n",
    "    print(i)\n",
    "    i += 1\n",
    "    if i == 5:\n",
    "        break"
   ]
  },
  {
   "cell_type": "code",
   "execution_count": null,
   "metadata": {
    "colab": {
     "base_uri": "https://localhost:8080/"
    },
    "executionInfo": {
     "elapsed": 301,
     "status": "ok",
     "timestamp": 1671690296428,
     "user": {
      "displayName": "강사",
      "userId": "16181995035441534154"
     },
     "user_tz": -540
    },
    "id": "GNp4NAM-o92i",
    "outputId": "520ca970-bac5-4253-e265-417d8dcba810"
   },
   "outputs": [
    {
     "name": "stdout",
     "output_type": "stream",
     "text": [
      "0\n",
      "1\n",
      "2\n",
      "3\n",
      "4\n",
      "5\n"
     ]
    }
   ],
   "source": [
    "for i in range(10000):\n",
    "    print(i)\n",
    "    if i==5:\n",
    "        break"
   ]
  },
  {
   "cell_type": "code",
   "execution_count": null,
   "metadata": {
    "colab": {
     "base_uri": "https://localhost:8080/"
    },
    "executionInfo": {
     "elapsed": 64,
     "status": "ok",
     "timestamp": 1663246584638,
     "user": {
      "displayName": "강사",
      "userId": "16181995035441534154"
     },
     "user_tz": -540
    },
    "id": "iOGobUAYOxTf",
    "outputId": "5e43c084-e83d-488e-9ec6-c77669440e8b"
   },
   "outputs": [
    {
     "name": "stdout",
     "output_type": "stream",
     "text": [
      "1\n"
     ]
    }
   ],
   "source": [
    "EPOCH = 10\n",
    "for i in range(EPOCH): # 디버깅 용\n",
    "    asd=1\n",
    "    print(asd)\n",
    "    break"
   ]
  },
  {
   "cell_type": "code",
   "execution_count": null,
   "metadata": {
    "colab": {
     "base_uri": "https://localhost:8080/"
    },
    "executionInfo": {
     "elapsed": 52,
     "status": "ok",
     "timestamp": 1663246584638,
     "user": {
      "displayName": "강사",
      "userId": "16181995035441534154"
     },
     "user_tz": -540
    },
    "id": "TZ8DcyRYpNCi",
    "outputId": "9388a223-8203-4023-93ae-6ddacbced4e0"
   },
   "outputs": [
    {
     "name": "stdout",
     "output_type": "stream",
     "text": [
      "1\n",
      "3\n",
      "5\n",
      "7\n",
      "9\n"
     ]
    }
   ],
   "source": [
    "for i in range(10):\n",
    "    if i % 2 == 0:\n",
    "        continue # 건너뛰어라 # continue 만나면 그 밑으로는 안하고 하던 반복 마저 돌아감\n",
    "    print(i)"
   ]
  },
  {
   "cell_type": "code",
   "execution_count": null,
   "metadata": {
    "colab": {
     "base_uri": "https://localhost:8080/"
    },
    "executionInfo": {
     "elapsed": 40,
     "status": "ok",
     "timestamp": 1663246584638,
     "user": {
      "displayName": "강사",
      "userId": "16181995035441534154"
     },
     "user_tz": -540
    },
    "id": "gE6rVnrHEpGV",
    "outputId": "f0515af1-3a25-4ade-cabe-67a735a40525"
   },
   "outputs": [
    {
     "name": "stdout",
     "output_type": "stream",
     "text": [
      "1\n",
      "3\n",
      "5\n",
      "7\n",
      "9\n"
     ]
    }
   ],
   "source": [
    "i=0\n",
    "while i<10:\n",
    "    i+=1\n",
    "    if i%2 == 0:\n",
    "        continue\n",
    "    print(i)"
   ]
  },
  {
   "cell_type": "code",
   "execution_count": null,
   "metadata": {
    "colab": {
     "base_uri": "https://localhost:8080/"
    },
    "executionInfo": {
     "elapsed": 29,
     "status": "ok",
     "timestamp": 1663246584638,
     "user": {
      "displayName": "강사",
      "userId": "16181995035441534154"
     },
     "user_tz": -540
    },
    "id": "bfSvIkb31YeJ",
    "outputId": "0ad23241-0d48-4f1d-8c56-d94f8b1cdad2"
   },
   "outputs": [
    {
     "name": "stdout",
     "output_type": "stream",
     "text": [
      "0 번째에 1 가 들어있어요\n",
      "1 번째에 2 가 들어있어요\n",
      "2 번째에 3 가 들어있어요\n",
      "3 번째에 4 가 들어있어요\n",
      "4 번째에 5 가 들어있어요\n"
     ]
    }
   ],
   "source": [
    "a=[1,2,3,4,5]\n",
    "for i in range(len(a)): # 항상 \"0번째\" 라고 말해야 함\n",
    "    print(i,\"번째에\", a[i],\"가 들어있어요\")"
   ]
  },
  {
   "cell_type": "markdown",
   "metadata": {
    "id": "SyRfH9ikGqAH"
   },
   "source": [
    "## for 문과 함께 자주 쓰이는 enumerate"
   ]
  },
  {
   "cell_type": "code",
   "execution_count": null,
   "metadata": {
    "colab": {
     "base_uri": "https://localhost:8080/"
    },
    "executionInfo": {
     "elapsed": 899,
     "status": "ok",
     "timestamp": 1663246585520,
     "user": {
      "displayName": "강사",
      "userId": "16181995035441534154"
     },
     "user_tz": -540
    },
    "id": "93es927lGVMS",
    "outputId": "5624c891-140d-4c77-b54e-82f18d4b855d"
   },
   "outputs": [
    {
     "name": "stdout",
     "output_type": "stream",
     "text": [
      "1 번째에 1 가 들어있어요\n",
      "2 번째에 2 가 들어있어요\n",
      "3 번째에 3 가 들어있어요\n",
      "4 번째에 4 가 들어있어요\n",
      "5 번째에 5 가 들어있어요\n"
     ]
    }
   ],
   "source": [
    "a=[1,2,3,4,5]\n",
    "j=1\n",
    "for i in a: # 1번째가 가능\n",
    "    print(j, \"번째에\", i, \"가 들어있어요\")\n",
    "    j+=1"
   ]
  },
  {
   "cell_type": "code",
   "execution_count": null,
   "metadata": {
    "colab": {
     "base_uri": "https://localhost:8080/"
    },
    "executionInfo": {
     "elapsed": 501,
     "status": "ok",
     "timestamp": 1663246585521,
     "user": {
      "displayName": "강사",
      "userId": "16181995035441534154"
     },
     "user_tz": -540
    },
    "id": "ZNLJZAM5GwSj",
    "outputId": "f3a7ece3-1ac1-4d7f-be58-461239f61b2c"
   },
   "outputs": [
    {
     "name": "stdout",
     "output_type": "stream",
     "text": [
      "0 번째에 1 가 들어있어요\n",
      "1 번째에 2 가 들어있어요\n",
      "2 번째에 3 가 들어있어요\n",
      "3 번째에 4 가 들어있어요\n",
      "4 번째에 5 가 들어있어요\n"
     ]
    }
   ],
   "source": [
    "a=[1,2,3,4,5]\n",
    "for i, val in enumerate(a):\n",
    "    print(i, \"번째에\", val, \"가 들어있어요\")"
   ]
  },
  {
   "cell_type": "code",
   "execution_count": null,
   "metadata": {
    "colab": {
     "base_uri": "https://localhost:8080/"
    },
    "executionInfo": {
     "elapsed": 294,
     "status": "ok",
     "timestamp": 1671690828129,
     "user": {
      "displayName": "강사",
      "userId": "16181995035441534154"
     },
     "user_tz": -540
    },
    "id": "FxucC7lHHGRT",
    "outputId": "c1120451-9da8-4a77-fa8c-b3b042b901c3"
   },
   "outputs": [
    {
     "name": "stdout",
     "output_type": "stream",
     "text": [
      "1 번째에 1 가 들어있어요\n",
      "2 번째에 2 가 들어있어요\n",
      "3 번째에 3 가 들어있어요\n",
      "4 번째에 4 가 들어있어요\n",
      "5 번째에 5 가 들어있어요\n"
     ]
    }
   ],
   "source": [
    "a=[1,2,3,4,5]\n",
    "for i, val in enumerate(a,start=1):\n",
    "    print(i, \"번째에\", val, \"가 들어있어요\")"
   ]
  },
  {
   "cell_type": "markdown",
   "metadata": {},
   "source": []
  },
  {
   "cell_type": "markdown",
   "metadata": {
    "id": "uS6fvZzCCe-o"
   },
   "source": [
    "## 반복문 과제"
   ]
  },
  {
   "cell_type": "code",
   "execution_count": null,
   "metadata": {
    "colab": {
     "base_uri": "https://localhost:8080/"
    },
    "executionInfo": {
     "elapsed": 297,
     "status": "ok",
     "timestamp": 1671690972622,
     "user": {
      "displayName": "강사",
      "userId": "16181995035441534154"
     },
     "user_tz": -540
    },
    "id": "3vhsqVIaxVUt",
    "outputId": "c743a827-aa83-49f4-e496-a0faa1e0130d"
   },
   "outputs": [
    {
     "name": "stdout",
     "output_type": "stream",
     "text": [
      "*\n",
      "**\n",
      "***\n",
      "****\n",
      "*\n",
      "**\n",
      "***\n",
      "****\n",
      "*\n",
      "**\n",
      "***\n",
      "****\n",
      "*\n",
      "**\n",
      "***\n",
      "****\n",
      "*\n",
      "**\n",
      "***\n",
      "****\n",
      "*\n",
      "**\n",
      "***\n",
      "****\n"
     ]
    }
   ],
   "source": [
    "a=\"\"\n",
    "for i in range(4):\n",
    "    a += \"*\"\n",
    "    print(a)\n",
    "\n",
    "for i in range(1,5):\n",
    "    print(\"*\"*i)\n",
    "\n",
    "for i in range(1,5):\n",
    "    for j in range(i):\n",
    "        print(\"*\", end=\"\")\n",
    "    print()\n",
    "\n",
    "i=1\n",
    "while i<5:\n",
    "    print(\"*\"*i)\n",
    "    i+=1\n",
    "\n",
    "i=\"*\"\n",
    "while True:\n",
    "    print(i)\n",
    "    i+=\"*\"\n",
    "    if i == \"*****\":\n",
    "        break\n",
    "\n",
    "i=\"*\"\n",
    "while i!=\"*****\":\n",
    "    print(i)\n",
    "    i+=\"*\""
   ]
  },
  {
   "cell_type": "markdown",
   "metadata": {
    "id": "PZI1QWvQCdn1"
   },
   "source": [
    "## 리스트 심화"
   ]
  },
  {
   "cell_type": "code",
   "execution_count": null,
   "metadata": {
    "colab": {
     "base_uri": "https://localhost:8080/"
    },
    "executionInfo": {
     "elapsed": 500,
     "status": "ok",
     "timestamp": 1663246585521,
     "user": {
      "displayName": "강사",
      "userId": "16181995035441534154"
     },
     "user_tz": -540
    },
    "id": "a5HcgsJgX36C",
    "outputId": "8b15f099-6e1a-4997-fcb8-b41207b76d73"
   },
   "outputs": [
    {
     "name": "stdout",
     "output_type": "stream",
     "text": [
      "[1, 2, 3, 4] len(a) =  4\n"
     ]
    }
   ],
   "source": [
    "a=[1,2,3]\n",
    "a.append(4)\n",
    "print(a,\"len(a) = \",len(a))"
   ]
  },
  {
   "cell_type": "code",
   "execution_count": null,
   "metadata": {
    "colab": {
     "base_uri": "https://localhost:8080/"
    },
    "executionInfo": {
     "elapsed": 499,
     "status": "ok",
     "timestamp": 1663246585521,
     "user": {
      "displayName": "강사",
      "userId": "16181995035441534154"
     },
     "user_tz": -540
    },
    "id": "WSR1WswG6Ojn",
    "outputId": "297e4e84-4286-4a49-9d71-a2576a8a4c65"
   },
   "outputs": [
    {
     "name": "stdout",
     "output_type": "stream",
     "text": [
      "[1, 2, 3, [4, 5]] len(a) =  4\n"
     ]
    }
   ],
   "source": [
    "a=[1,2,3]\n",
    "a.append([4,5])\n",
    "print(a,\"len(a) = \",len(a))"
   ]
  },
  {
   "cell_type": "code",
   "execution_count": null,
   "metadata": {
    "colab": {
     "base_uri": "https://localhost:8080/"
    },
    "executionInfo": {
     "elapsed": 488,
     "status": "ok",
     "timestamp": 1663246585521,
     "user": {
      "displayName": "강사",
      "userId": "16181995035441534154"
     },
     "user_tz": -540
    },
    "id": "64AuJbAR88m_",
    "outputId": "7fc5043b-6376-4e29-b20d-965762ed6f17"
   },
   "outputs": [
    {
     "name": "stdout",
     "output_type": "stream",
     "text": [
      "[1, 2, 3, 4, 5] len(a) =  5\n"
     ]
    }
   ],
   "source": [
    "a=[1,2,3]\n",
    "a.extend([4,5])\n",
    "print(a, \"len(a) = \", len(a))"
   ]
  },
  {
   "cell_type": "code",
   "execution_count": null,
   "metadata": {
    "colab": {
     "base_uri": "https://localhost:8080/"
    },
    "executionInfo": {
     "elapsed": 478,
     "status": "ok",
     "timestamp": 1663246585521,
     "user": {
      "displayName": "강사",
      "userId": "16181995035441534154"
     },
     "user_tz": -540
    },
    "id": "nsHqeaWhyw4e",
    "outputId": "7e441efb-b37e-4fa9-ff7d-c319dce6a1b0"
   },
   "outputs": [
    {
     "name": "stdout",
     "output_type": "stream",
     "text": [
      "[1, 2, 3, 4, 5] len(a) =  5\n"
     ]
    }
   ],
   "source": [
    "a=[1,2,3]\n",
    "a += [4,5]\n",
    "print(a, \"len(a) = \", len(a))"
   ]
  },
  {
   "cell_type": "code",
   "execution_count": null,
   "metadata": {
    "colab": {
     "base_uri": "https://localhost:8080/"
    },
    "executionInfo": {
     "elapsed": 380,
     "status": "ok",
     "timestamp": 1671691126322,
     "user": {
      "displayName": "강사",
      "userId": "16181995035441534154"
     },
     "user_tz": -540
    },
    "id": "sTSKlwhGYU9R",
    "outputId": "be33e924-dd73-4f12-ca98-d061b5c59e84"
   },
   "outputs": [
    {
     "name": "stdout",
     "output_type": "stream",
     "text": [
      "[1, 100, 2, 3]\n"
     ]
    }
   ],
   "source": [
    "a=[1,2,3]\n",
    "a.insert(1,100) # index, 넣을 거\n",
    "print(a)"
   ]
  },
  {
   "cell_type": "code",
   "execution_count": null,
   "metadata": {
    "colab": {
     "base_uri": "https://localhost:8080/"
    },
    "executionInfo": {
     "elapsed": 456,
     "status": "ok",
     "timestamp": 1663246585521,
     "user": {
      "displayName": "강사",
      "userId": "16181995035441534154"
     },
     "user_tz": -540
    },
    "id": "ybi87J0u_HwZ",
    "outputId": "df76e18a-3c2b-4b40-9970-84f8bf1f67bf"
   },
   "outputs": [
    {
     "name": "stdout",
     "output_type": "stream",
     "text": [
      "[1, [100, 200], 2, 3]\n"
     ]
    }
   ],
   "source": [
    "a=[1,2,3]\n",
    "a.insert(1,[100,200])\n",
    "print(a)"
   ]
  },
  {
   "cell_type": "code",
   "execution_count": null,
   "metadata": {
    "colab": {
     "base_uri": "https://localhost:8080/"
    },
    "executionInfo": {
     "elapsed": 445,
     "status": "ok",
     "timestamp": 1663246585521,
     "user": {
      "displayName": "강사",
      "userId": "16181995035441534154"
     },
     "user_tz": -540
    },
    "id": "CO6QIRXIF3AM",
    "outputId": "caff0765-162a-4cf3-f379-921898c28dc3"
   },
   "outputs": [
    {
     "name": "stdout",
     "output_type": "stream",
     "text": [
      "[1, 100, 200, 2, 3]\n"
     ]
    }
   ],
   "source": [
    "a=[1,2,3]\n",
    "b=[100,200]\n",
    "a[1:1]=b # a[1]=b 에서 바꿔 보여주셈\n",
    "print(a)"
   ]
  },
  {
   "cell_type": "code",
   "execution_count": null,
   "metadata": {
    "colab": {
     "base_uri": "https://localhost:8080/"
    },
    "executionInfo": {
     "elapsed": 435,
     "status": "ok",
     "timestamp": 1663246585521,
     "user": {
      "displayName": "강사",
      "userId": "16181995035441534154"
     },
     "user_tz": -540
    },
    "id": "QwcdjlhrCHi5",
    "outputId": "6b262be4-819c-4b16-d1f9-398b13f5ce84"
   },
   "outputs": [
    {
     "name": "stdout",
     "output_type": "stream",
     "text": [
      "[1]\n"
     ]
    }
   ],
   "source": [
    "a=[1,2,3]\n",
    "a.pop()\n",
    "a.pop()\n",
    "print(a)"
   ]
  },
  {
   "cell_type": "code",
   "execution_count": null,
   "metadata": {
    "colab": {
     "base_uri": "https://localhost:8080/"
    },
    "executionInfo": {
     "elapsed": 424,
     "status": "ok",
     "timestamp": 1663246585521,
     "user": {
      "displayName": "강사",
      "userId": "16181995035441534154"
     },
     "user_tz": -540
    },
    "id": "mnQi5w4VCY4Z",
    "outputId": "76358306-8880-4b38-8342-68f8420d21e5"
   },
   "outputs": [
    {
     "name": "stdout",
     "output_type": "stream",
     "text": [
      "[1, 3]\n"
     ]
    }
   ],
   "source": [
    "a=[1,2,3]\n",
    "a.pop(1) # 인덱스 pop\n",
    "print(a)"
   ]
  },
  {
   "cell_type": "code",
   "execution_count": null,
   "metadata": {
    "colab": {
     "base_uri": "https://localhost:8080/"
    },
    "executionInfo": {
     "elapsed": 413,
     "status": "ok",
     "timestamp": 1663246585521,
     "user": {
      "displayName": "강사",
      "userId": "16181995035441534154"
     },
     "user_tz": -540
    },
    "id": "RiwCZY6bDneq",
    "outputId": "42308ae0-e75d-4257-826c-140fd3cfc04d"
   },
   "outputs": [
    {
     "name": "stdout",
     "output_type": "stream",
     "text": [
      "[1, 2, 4, 3, 5, 3]\n",
      "[1, 2, 4, 5, 3]\n"
     ]
    }
   ],
   "source": [
    "a=[1,2,3,4,3,5,3]\n",
    "# a.remove(0) # error!\n",
    "a.remove(3) # 3이 여러 개 있으면 왼쪽부터 없앰\n",
    "print(a)\n",
    "a.remove(3)\n",
    "print(a)"
   ]
  },
  {
   "cell_type": "code",
   "execution_count": null,
   "metadata": {
    "colab": {
     "base_uri": "https://localhost:8080/"
    },
    "executionInfo": {
     "elapsed": 403,
     "status": "ok",
     "timestamp": 1663246585521,
     "user": {
      "displayName": "강사",
      "userId": "16181995035441534154"
     },
     "user_tz": -540
    },
    "id": "zIOdKa6VDrgC",
    "outputId": "9452586a-135b-4b8b-d786-cf085101c4b3"
   },
   "outputs": [
    {
     "data": {
      "text/plain": [
       "2"
      ]
     },
     "execution_count": 125,
     "metadata": {},
     "output_type": "execute_result"
    }
   ],
   "source": [
    "a=[1,2,3,4,3,5,3]\n",
    "a.index(3) # 가장 처음에 나오는 3의 index"
   ]
  },
  {
   "cell_type": "code",
   "execution_count": null,
   "metadata": {
    "colab": {
     "base_uri": "https://localhost:8080/"
    },
    "executionInfo": {
     "elapsed": 392,
     "status": "ok",
     "timestamp": 1663246585521,
     "user": {
      "displayName": "강사",
      "userId": "16181995035441534154"
     },
     "user_tz": -540
    },
    "id": "EX72eF9bEDDi",
    "outputId": "35cf49c8-68ed-4820-88ca-dba48a080d33"
   },
   "outputs": [
    {
     "data": {
      "text/plain": [
       "4"
      ]
     },
     "execution_count": 126,
     "metadata": {},
     "output_type": "execute_result"
    }
   ],
   "source": [
    "a=[1,2,3,2,2,2]\n",
    "a.count(2)"
   ]
  },
  {
   "cell_type": "code",
   "execution_count": null,
   "metadata": {
    "colab": {
     "base_uri": "https://localhost:8080/"
    },
    "executionInfo": {
     "elapsed": 381,
     "status": "ok",
     "timestamp": 1663246585521,
     "user": {
      "displayName": "강사",
      "userId": "16181995035441534154"
     },
     "user_tz": -540
    },
    "id": "uHw09KklEJMi",
    "outputId": "f50b1c19-61b3-4a07-bb03-119686f576a7"
   },
   "outputs": [
    {
     "name": "stdout",
     "output_type": "stream",
     "text": [
      "[5, 4, 3, 2, 1]\n"
     ]
    }
   ],
   "source": [
    "a=[1,2,3,4,5]\n",
    "a.reverse()\n",
    "print(a)"
   ]
  },
  {
   "cell_type": "code",
   "execution_count": null,
   "metadata": {
    "colab": {
     "base_uri": "https://localhost:8080/"
    },
    "executionInfo": {
     "elapsed": 372,
     "status": "ok",
     "timestamp": 1663246585522,
     "user": {
      "displayName": "강사",
      "userId": "16181995035441534154"
     },
     "user_tz": -540
    },
    "id": "HxzN_9KUEQWq",
    "outputId": "4f442c0f-c08d-4f34-b749-3be70b904d7f"
   },
   "outputs": [
    {
     "name": "stdout",
     "output_type": "stream",
     "text": [
      "[1, 1, 1, 2, 5, 6, 7]\n"
     ]
    }
   ],
   "source": [
    "a=[1,5,1,2,6,1,7]\n",
    "a.sort()\n",
    "print(a)"
   ]
  },
  {
   "cell_type": "code",
   "execution_count": null,
   "metadata": {
    "colab": {
     "base_uri": "https://localhost:8080/"
    },
    "executionInfo": {
     "elapsed": 361,
     "status": "ok",
     "timestamp": 1663246585522,
     "user": {
      "displayName": "강사",
      "userId": "16181995035441534154"
     },
     "user_tz": -540
    },
    "id": "nHbXOAiMEUoa",
    "outputId": "ee19e943-715c-4528-9442-b280f665aad4"
   },
   "outputs": [
    {
     "name": "stdout",
     "output_type": "stream",
     "text": [
      "[7, 6, 5, 2, 1, 1, 1]\n"
     ]
    }
   ],
   "source": [
    "a=[1,5,1,2,6,1,7]\n",
    "a.sort(reverse=True)\n",
    "print(a)"
   ]
  },
  {
   "cell_type": "code",
   "execution_count": null,
   "metadata": {
    "colab": {
     "base_uri": "https://localhost:8080/"
    },
    "executionInfo": {
     "elapsed": 351,
     "status": "ok",
     "timestamp": 1663246585522,
     "user": {
      "displayName": "강사",
      "userId": "16181995035441534154"
     },
     "user_tz": -540
    },
    "id": "2RHkJH_MEZBC",
    "outputId": "8dbd5fc2-1f31-4efd-a127-e144cec275be"
   },
   "outputs": [
    {
     "name": "stdout",
     "output_type": "stream",
     "text": [
      "[]\n"
     ]
    }
   ],
   "source": [
    "a=[1,2,3]\n",
    "a.clear()\n",
    "print(a)"
   ]
  },
  {
   "cell_type": "code",
   "execution_count": null,
   "metadata": {
    "colab": {
     "base_uri": "https://localhost:8080/"
    },
    "executionInfo": {
     "elapsed": 340,
     "status": "ok",
     "timestamp": 1663246585522,
     "user": {
      "displayName": "강사",
      "userId": "16181995035441534154"
     },
     "user_tz": -540
    },
    "id": "3bc80R-tFcST",
    "outputId": "f41b5eda-e064-430c-eb63-d81dc919eb27"
   },
   "outputs": [
    {
     "name": "stdout",
     "output_type": "stream",
     "text": [
      "a =  [1, 10, 3] b = [1, 10, 3]\n"
     ]
    }
   ],
   "source": [
    "a=[1,2,3]\n",
    "b=a\n",
    "b[1]=10\n",
    "print(\"a = \",a,\"b =\",b)"
   ]
  },
  {
   "cell_type": "code",
   "execution_count": null,
   "metadata": {
    "colab": {
     "base_uri": "https://localhost:8080/"
    },
    "executionInfo": {
     "elapsed": 329,
     "status": "ok",
     "timestamp": 1663246585522,
     "user": {
      "displayName": "강사",
      "userId": "16181995035441534154"
     },
     "user_tz": -540
    },
    "id": "kQQ20dNcGJXj",
    "outputId": "aa6019bf-8bcb-42e6-d0cb-431bf1c73f8b"
   },
   "outputs": [
    {
     "name": "stdout",
     "output_type": "stream",
     "text": [
      "a = [1, 2, 3] b = [1, 10, 3]\n"
     ]
    }
   ],
   "source": [
    "a=[1,2,3]\n",
    "b=a.copy()\n",
    "b[1]=10\n",
    "print(\"a =\",a,\"b =\",b)"
   ]
  },
  {
   "cell_type": "code",
   "execution_count": null,
   "metadata": {
    "colab": {
     "base_uri": "https://localhost:8080/"
    },
    "executionInfo": {
     "elapsed": 318,
     "status": "ok",
     "timestamp": 1663246585522,
     "user": {
      "displayName": "강사",
      "userId": "16181995035441534154"
     },
     "user_tz": -540
    },
    "id": "7AYCJajUGPbz",
    "outputId": "30cf7ec8-a3fa-4d0a-e6ef-c5e5d51e5fd4"
   },
   "outputs": [
    {
     "data": {
      "text/plain": [
       "False"
      ]
     },
     "execution_count": 133,
     "metadata": {},
     "output_type": "execute_result"
    }
   ],
   "source": [
    "a=[1,2,3]\n",
    "b=a.copy()\n",
    "a is b # is의 결과가 True면 값이 같이 바뀐다"
   ]
  },
  {
   "cell_type": "code",
   "execution_count": null,
   "metadata": {
    "colab": {
     "base_uri": "https://localhost:8080/"
    },
    "executionInfo": {
     "elapsed": 308,
     "status": "ok",
     "timestamp": 1663246585522,
     "user": {
      "displayName": "강사",
      "userId": "16181995035441534154"
     },
     "user_tz": -540
    },
    "id": "WV-AVBwejz40",
    "outputId": "598647bc-ea4f-4a94-e605-37689559006b"
   },
   "outputs": [
    {
     "name": "stdout",
     "output_type": "stream",
     "text": [
      "1\n",
      "3\n",
      "6\n",
      "1.516\n"
     ]
    }
   ],
   "source": [
    "a=[1,2,3]\n",
    "print(min(a))\n",
    "print(max(a))\n",
    "print(sum(a))\n",
    "print(round(1.51561391,3))"
   ]
  },
  {
   "cell_type": "markdown",
   "metadata": {
    "id": "6nyzSvAMj0_3"
   },
   "source": [
    "## 리스트 표현식"
   ]
  },
  {
   "cell_type": "code",
   "execution_count": null,
   "metadata": {
    "colab": {
     "base_uri": "https://localhost:8080/"
    },
    "executionInfo": {
     "elapsed": 29,
     "status": "ok",
     "timestamp": 1680865817580,
     "user": {
      "displayName": "강사",
      "userId": "16181995035441534154"
     },
     "user_tz": -540
    },
    "id": "mvH8hcwbHPRr",
    "outputId": "1913cff1-1424-4e62-f4af-51223f8cb2ce"
   },
   "outputs": [
    {
     "data": {
      "text/plain": [
       "[0, 1, 2, 3, 4]"
      ]
     },
     "execution_count": 1,
     "metadata": {},
     "output_type": "execute_result"
    }
   ],
   "source": [
    "[i for i in range(5)] # range(5) 안의 각각의 값들을 i라는 이름으로 각각 불러오고 i 값으로 리스트를 형성"
   ]
  },
  {
   "cell_type": "code",
   "execution_count": null,
   "metadata": {
    "colab": {
     "base_uri": "https://localhost:8080/"
    },
    "executionInfo": {
     "elapsed": 28,
     "status": "ok",
     "timestamp": 1680865817581,
     "user": {
      "displayName": "강사",
      "userId": "16181995035441534154"
     },
     "user_tz": -540
    },
    "id": "28Ne6be1lDMU",
    "outputId": "c7b7bcbd-7114-4687-a299-f9e61a1ac8bc"
   },
   "outputs": [
    {
     "data": {
      "text/plain": [
       "[5, 6, 7, 8, 9]"
      ]
     },
     "execution_count": 2,
     "metadata": {},
     "output_type": "execute_result"
    }
   ],
   "source": [
    "[i+5 for i in range(5)] # range(5) 안의 각각의 값들을 i라는 이름으로 각각 불러오고 i+5 값으로 리스트를 형성"
   ]
  },
  {
   "cell_type": "code",
   "execution_count": null,
   "metadata": {
    "colab": {
     "base_uri": "https://localhost:8080/"
    },
    "executionInfo": {
     "elapsed": 24,
     "status": "ok",
     "timestamp": 1680865817581,
     "user": {
      "displayName": "강사",
      "userId": "16181995035441534154"
     },
     "user_tz": -540
    },
    "id": "x21tYhG-lJ8d",
    "outputId": "80e2afde-42ea-4582-97ab-1f5400d5602f"
   },
   "outputs": [
    {
     "data": {
      "text/plain": [
       "[0, 2, 4, 6, 8]"
      ]
     },
     "execution_count": 3,
     "metadata": {},
     "output_type": "execute_result"
    }
   ],
   "source": [
    "[i*2 for i in range(5)] # range(5) 안의 각각의 값들을 i라는 이름으로 각각 불러오고 i*2 값으로 리스트를 형성"
   ]
  },
  {
   "cell_type": "code",
   "execution_count": null,
   "metadata": {
    "colab": {
     "base_uri": "https://localhost:8080/"
    },
    "executionInfo": {
     "elapsed": 21,
     "status": "ok",
     "timestamp": 1680865817581,
     "user": {
      "displayName": "강사",
      "userId": "16181995035441534154"
     },
     "user_tz": -540
    },
    "id": "o6RhzwfclLx0",
    "outputId": "2e10b2db-fe7a-4b74-818a-3dd3980b7763"
   },
   "outputs": [
    {
     "data": {
      "text/plain": [
       "[0, 1, 4, 9, 16]"
      ]
     },
     "execution_count": 4,
     "metadata": {},
     "output_type": "execute_result"
    }
   ],
   "source": [
    "[i**2 for i in range(5)] # range(5) 안의 각각의 값들을 i라는 이름으로 각각 불러오고 i+*2 값으로 리스트를 형성"
   ]
  },
  {
   "cell_type": "code",
   "execution_count": null,
   "metadata": {
    "colab": {
     "base_uri": "https://localhost:8080/"
    },
    "executionInfo": {
     "elapsed": 19,
     "status": "ok",
     "timestamp": 1680865817582,
     "user": {
      "displayName": "강사",
      "userId": "16181995035441534154"
     },
     "user_tz": -540
    },
    "id": "FOKM75HzpwiO",
    "outputId": "76a8fdd5-5c34-4dc2-912d-f17ce709bcc4"
   },
   "outputs": [
    {
     "data": {
      "text/plain": [
       "[0, -1, -2, -3, 1, 0, -1, -2, 2, 1, 0, -1, 3, 2, 1, 0]"
      ]
     },
     "execution_count": 5,
     "metadata": {},
     "output_type": "execute_result"
    }
   ],
   "source": [
    "[i-j for i in range(1,5)\n",
    "     for j in range(1,5)] # 앞에서 부터 읽어라 즉, 뒷 셀에서 for 문으로 풀어쓰면"
   ]
  },
  {
   "cell_type": "code",
   "execution_count": null,
   "metadata": {
    "colab": {
     "base_uri": "https://localhost:8080/"
    },
    "executionInfo": {
     "elapsed": 16,
     "status": "ok",
     "timestamp": 1680865817582,
     "user": {
      "displayName": "강사",
      "userId": "16181995035441534154"
     },
     "user_tz": -540
    },
    "id": "KGzU2mzMQPgQ",
    "outputId": "ca547713-3053-42b7-d9f4-b74771e18c7d"
   },
   "outputs": [
    {
     "name": "stdout",
     "output_type": "stream",
     "text": [
      "[0, -1, -2, -3, 1, 0, -1, -2, 2, 1, 0, -1, 3, 2, 1, 0]\n"
     ]
    }
   ],
   "source": [
    "a=[]\n",
    "for i in range(1,5):\n",
    "    for j in range(1,5):\n",
    "        a += [i-j]\n",
    "print(a)"
   ]
  },
  {
   "cell_type": "code",
   "execution_count": null,
   "metadata": {
    "colab": {
     "base_uri": "https://localhost:8080/"
    },
    "executionInfo": {
     "elapsed": 13,
     "status": "ok",
     "timestamp": 1680865817582,
     "user": {
      "displayName": "강사",
      "userId": "16181995035441534154"
     },
     "user_tz": -540
    },
    "id": "AmwbqqexJdRd",
    "outputId": "e7e579f7-5d80-4632-d068-96a09e888fca"
   },
   "outputs": [
    {
     "data": {
      "text/plain": [
       "[0, 2, 4, 6, 8]"
      ]
     },
     "execution_count": 7,
     "metadata": {},
     "output_type": "execute_result"
    }
   ],
   "source": [
    "[i for i in range(10) if i%2==0] # range(10) 안의 각각의 값들을 i라는 이름으로 각각 불러오고\n",
    "# i 마다 조건문을 보고 True일 때만 i 값으로 리스트를 형성"
   ]
  },
  {
   "cell_type": "code",
   "execution_count": null,
   "metadata": {
    "colab": {
     "base_uri": "https://localhost:8080/"
    },
    "executionInfo": {
     "elapsed": 10,
     "status": "ok",
     "timestamp": 1680865817582,
     "user": {
      "displayName": "강사",
      "userId": "16181995035441534154"
     },
     "user_tz": -540
    },
    "id": "FczQfhKGses3",
    "outputId": "299a86c2-f39f-4227-ae1a-851d2efe81db"
   },
   "outputs": [
    {
     "data": {
      "text/plain": [
       "[0, 1, 2, 3, 4]"
      ]
     },
     "execution_count": 8,
     "metadata": {},
     "output_type": "execute_result"
    }
   ],
   "source": [
    "[i for i in range(10) if i<5] # range(10) 안의 각각의 값들을 i라는 이름으로 각각 불러오고\n",
    "# i 마다 조건문을 보고 True일 때만 i 값으로 리스트를 형성"
   ]
  },
  {
   "cell_type": "code",
   "execution_count": null,
   "metadata": {
    "colab": {
     "base_uri": "https://localhost:8080/"
    },
    "executionInfo": {
     "elapsed": 9,
     "status": "ok",
     "timestamp": 1680865817583,
     "user": {
      "displayName": "강사",
      "userId": "16181995035441534154"
     },
     "user_tz": -540
    },
    "id": "sVRJUxJSsg6Y",
    "outputId": "25c322c1-b4f1-45ed-c31e-8cd9de0f1045"
   },
   "outputs": [
    {
     "name": "stdout",
     "output_type": "stream",
     "text": [
      "[0, -1, -2, -3, 1, 0, -1, -2, 2, 1, 0, -1, 3, 2, 1, 0]\n"
     ]
    }
   ],
   "source": [
    "[i+5 for i in range(10) if i>=5] # range(10) 안의 각각의 값들을 i라는 이름으로 각각 불러오고\n",
    "# i 마다 조건문을 보고 True일 때만 i+5 값으로 리스트를 형성\n",
    "print(a)"
   ]
  },
  {
   "cell_type": "markdown",
   "metadata": {
    "id": "qiq8YyLAw6Rx"
   },
   "source": [
    "## 리스트 속에 리스트"
   ]
  },
  {
   "cell_type": "code",
   "execution_count": null,
   "metadata": {
    "colab": {
     "base_uri": "https://localhost:8080/"
    },
    "executionInfo": {
     "elapsed": 199,
     "status": "ok",
     "timestamp": 1663246585522,
     "user": {
      "displayName": "강사",
      "userId": "16181995035441534154"
     },
     "user_tz": -540
    },
    "id": "PkVppkaCsk-m",
    "outputId": "c9d06eb1-8114-4cdd-e3c8-9af883086019"
   },
   "outputs": [
    {
     "name": "stdout",
     "output_type": "stream",
     "text": [
      "[[1, 2, 3], [4, 6]] len(a) =  2\n",
      "[[1, 2, 3], [4, 5, 6]]\n"
     ]
    }
   ],
   "source": [
    "a=[ [1,2,3], [4,6] ]  # a = [ \"하나\", \"둘\" ] 처럼 두 개의 무언가가 리스트로 적혀있는 것으로 생각!\n",
    "# 즉, 리스트 안에 리스트로 [ 첫 번째 리스트, 두 번째 리스트 ] 인 것임\n",
    "print(a, \"len(a) = \",len(a))\n",
    "b=[ [1,2,3],\n",
    "    [4,5,6] ]\n",
    "print(b)"
   ]
  },
  {
   "cell_type": "code",
   "execution_count": null,
   "metadata": {
    "colab": {
     "base_uri": "https://localhost:8080/"
    },
    "executionInfo": {
     "elapsed": 189,
     "status": "ok",
     "timestamp": 1663246585522,
     "user": {
      "displayName": "강사",
      "userId": "16181995035441534154"
     },
     "user_tz": -540
    },
    "id": "I4uOGxpGxDJH",
    "outputId": "a30c6d67-accd-4918-d9f8-d8670baa3690"
   },
   "outputs": [
    {
     "name": "stdout",
     "output_type": "stream",
     "text": [
      "[1, 2, 3]\n",
      "[4, 6]\n",
      "1 2 3 4 6\n",
      "[[1, 2, 3], [4, 500]]\n"
     ]
    }
   ],
   "source": [
    "a = [ [1,2,3], [4,6] ]\n",
    "print(a[0])\n",
    "print(a[1])\n",
    "print(a[0][0], a[0][1], a[0][2],\n",
    "      a[1][0], a[1][1])\n",
    "\n",
    "a[1][1]=500\n",
    "print(a)"
   ]
  },
  {
   "cell_type": "code",
   "execution_count": null,
   "metadata": {
    "colab": {
     "base_uri": "https://localhost:8080/"
    },
    "executionInfo": {
     "elapsed": 179,
     "status": "ok",
     "timestamp": 1663246585523,
     "user": {
      "displayName": "강사",
      "userId": "16181995035441534154"
     },
     "user_tz": -540
    },
    "id": "GBnVIYJwxQsA",
    "outputId": "42967e71-d66d-4db8-ffc5-ca691b4e8880"
   },
   "outputs": [
    {
     "name": "stdout",
     "output_type": "stream",
     "text": [
      "[1, 2, 3]\n",
      "[4, 5, 6]\n",
      "\n",
      "1 2 3\n",
      "4 5 6\n",
      "\n",
      "1 2 3 \n",
      "4 5 6 \n",
      "\n",
      "1 2 3 \n",
      "4 5 6 \n"
     ]
    }
   ],
   "source": [
    "a= [ [1,2,3], [4,5,6]]\n",
    "\n",
    "for i in a: # 하나씩 꺼낸다\n",
    "    print(i)\n",
    "print()\n",
    "\n",
    "for x, y, z in a:\n",
    "    print(x,y,z)\n",
    "print()\n",
    "\n",
    "a= [ [1,2,3], [4,5]]\n",
    "for i in a:\n",
    "    for j in i:\n",
    "        print(j, end=\" \")\n",
    "    print()\n",
    "print()\n",
    "\n",
    "# 아래꺼는 좀 별로인 듯\n",
    "# for i in range(len(a)):\n",
    "#     for j in range(len(a[i])): # i번째 행이 가지는 열의 개수는 len(a[i])\n",
    "#         print(a[i][j], end=\" \")\n",
    "#     print()"
   ]
  },
  {
   "cell_type": "code",
   "execution_count": null,
   "metadata": {
    "colab": {
     "base_uri": "https://localhost:8080/"
    },
    "executionInfo": {
     "elapsed": 167,
     "status": "ok",
     "timestamp": 1663246585523,
     "user": {
      "displayName": "강사",
      "userId": "16181995035441534154"
     },
     "user_tz": -540
    },
    "id": "IJe6WcTTxyuw",
    "outputId": "1b4eebe4-988a-4f47-dff7-9d467007b80a"
   },
   "outputs": [
    {
     "name": "stdout",
     "output_type": "stream",
     "text": [
      "[[0, 0], [0, 0], [0, 0]]\n"
     ]
    }
   ],
   "source": [
    "a=[]\n",
    "for i in range(3):\n",
    "    line=[]\n",
    "    for j in range(2):\n",
    "        line += [0]\n",
    "    a += [line]\n",
    "print(a)"
   ]
  },
  {
   "cell_type": "code",
   "execution_count": null,
   "metadata": {
    "colab": {
     "base_uri": "https://localhost:8080/"
    },
    "executionInfo": {
     "elapsed": 156,
     "status": "ok",
     "timestamp": 1663246585523,
     "user": {
      "displayName": "강사",
      "userId": "16181995035441534154"
     },
     "user_tz": -540
    },
    "id": "Fjb-97Fk43gC",
    "outputId": "dda70e8e-5607-4eeb-f06c-ac82100a7b1f"
   },
   "outputs": [
    {
     "name": "stdout",
     "output_type": "stream",
     "text": [
      "[[0, 0], [0, 0], [0, 0]]\n",
      "[[0, 0], [0, 0], [0, 0]]\n"
     ]
    }
   ],
   "source": [
    "a=[[0 for i in range(2)] for j in range(3)]\n",
    "print(a)\n",
    "b=[[0 for _ in range(2)] for _ in range(3)] # _로 생략 가능\n",
    "print(b)"
   ]
  },
  {
   "cell_type": "code",
   "execution_count": null,
   "metadata": {
    "colab": {
     "base_uri": "https://localhost:8080/"
    },
    "executionInfo": {
     "elapsed": 145,
     "status": "ok",
     "timestamp": 1663246585523,
     "user": {
      "displayName": "강사",
      "userId": "16181995035441534154"
     },
     "user_tz": -540
    },
    "id": "0o9oDiil76Gc",
    "outputId": "f42c11bf-d421-4fcf-c097-0e2151e33791"
   },
   "outputs": [
    {
     "name": "stdout",
     "output_type": "stream",
     "text": [
      "[[0, 0], [0, 0], [0, 0]]\n",
      "[[0, 0], [0, 0], [0, 0]]\n"
     ]
    }
   ],
   "source": [
    "a=[[0]*2 for _ in range(3)]\n",
    "print(a)\n",
    "b=[[0]*2]*3\n",
    "print(b)"
   ]
  },
  {
   "cell_type": "code",
   "execution_count": null,
   "metadata": {
    "colab": {
     "base_uri": "https://localhost:8080/"
    },
    "executionInfo": {
     "elapsed": 135,
     "status": "ok",
     "timestamp": 1663246585523,
     "user": {
      "displayName": "강사",
      "userId": "16181995035441534154"
     },
     "user_tz": -540
    },
    "id": "VrePRIGr23WJ",
    "outputId": "65618d6a-d0a7-4347-8599-9c5cfdb4291e"
   },
   "outputs": [
    {
     "name": "stdout",
     "output_type": "stream",
     "text": [
      "[[0, 0, 0], [0], [0, 0, 0], [0, 0]]\n"
     ]
    }
   ],
   "source": [
    "a=[3,1,3,2]\n",
    "b=[]\n",
    "for i in a:\n",
    "    line=[]\n",
    "    for j in range(i):\n",
    "        line += [0]\n",
    "    b += [line]\n",
    "print(b)"
   ]
  },
  {
   "cell_type": "code",
   "execution_count": null,
   "metadata": {
    "colab": {
     "base_uri": "https://localhost:8080/"
    },
    "executionInfo": {
     "elapsed": 124,
     "status": "ok",
     "timestamp": 1663246585523,
     "user": {
      "displayName": "강사",
      "userId": "16181995035441534154"
     },
     "user_tz": -540
    },
    "id": "_m4nu75Q8VZS",
    "outputId": "cdc629c3-b1fa-438b-8fe1-67539174aa96"
   },
   "outputs": [
    {
     "name": "stdout",
     "output_type": "stream",
     "text": [
      "[[0, 0, 0], [0], [0, 0, 0], [0, 0]]\n"
     ]
    }
   ],
   "source": [
    "a=[3,1,3,2]\n",
    "b=[[0]*i for i in a]\n",
    "print(b)"
   ]
  },
  {
   "cell_type": "code",
   "execution_count": null,
   "metadata": {
    "colab": {
     "base_uri": "https://localhost:8080/"
    },
    "executionInfo": {
     "elapsed": 114,
     "status": "ok",
     "timestamp": 1663246585523,
     "user": {
      "displayName": "강사",
      "userId": "16181995035441534154"
     },
     "user_tz": -540
    },
    "id": "pOZqFtg1B09M",
    "outputId": "b8c798fe-9803-4496-d284-8a65cb3a4e34"
   },
   "outputs": [
    {
     "name": "stdout",
     "output_type": "stream",
     "text": [
      "[[100, 2], [3, 4]] [[100, 2], [3, 4]]\n"
     ]
    }
   ],
   "source": [
    "a=[[1,2],[3,4]]\n",
    "b=a.copy()\n",
    "b[0][0]=100\n",
    "print(a,b)"
   ]
  },
  {
   "cell_type": "code",
   "execution_count": null,
   "metadata": {
    "colab": {
     "base_uri": "https://localhost:8080/"
    },
    "executionInfo": {
     "elapsed": 103,
     "status": "ok",
     "timestamp": 1663246585523,
     "user": {
      "displayName": "강사",
      "userId": "16181995035441534154"
     },
     "user_tz": -540
    },
    "id": "LQdqrv4R-On8",
    "outputId": "eb6d0f0c-3833-42b5-c403-90c48296fbda"
   },
   "outputs": [
    {
     "name": "stdout",
     "output_type": "stream",
     "text": [
      "[[1, 2], [3, 4]] [[100, 2], [3, 4]]\n"
     ]
    }
   ],
   "source": [
    "import copy\n",
    "a=[[1,2],[3,4]]\n",
    "b=copy.deepcopy(a)\n",
    "b[0][0]=100\n",
    "print(a,b)"
   ]
  },
  {
   "cell_type": "markdown",
   "metadata": {
    "id": "Vhv4CjPpR0d8"
   },
   "source": [
    "## 헷갈리는 리스트 표현식 --> 앞에거 부터 써내려가며 for문 만들면 된다!"
   ]
  },
  {
   "cell_type": "code",
   "execution_count": null,
   "metadata": {
    "colab": {
     "base_uri": "https://localhost:8080/"
    },
    "executionInfo": {
     "elapsed": 93,
     "status": "ok",
     "timestamp": 1663246585523,
     "user": {
      "displayName": "강사",
      "userId": "16181995035441534154"
     },
     "user_tz": -540
    },
    "id": "24QSP6tBBpzL",
    "outputId": "f84cd10e-a551-42ac-c57c-1b6e2c007bda"
   },
   "outputs": [
    {
     "name": "stdout",
     "output_type": "stream",
     "text": [
      "[0, 0, 0, 1, 1, 1, 2, 2, 2]\n",
      "[0, 0, 0, 1, 1, 1, 2, 2, 2]\n"
     ]
    }
   ],
   "source": [
    "print([i for i in range(3) for j in range(3)])\n",
    "a=[]\n",
    "for i in range(3):\n",
    "    for j in range(3):\n",
    "        a += [i]\n",
    "print(a)"
   ]
  },
  {
   "cell_type": "code",
   "execution_count": null,
   "metadata": {
    "colab": {
     "base_uri": "https://localhost:8080/"
    },
    "executionInfo": {
     "elapsed": 82,
     "status": "ok",
     "timestamp": 1663246585523,
     "user": {
      "displayName": "강사",
      "userId": "16181995035441534154"
     },
     "user_tz": -540
    },
    "id": "_-iyun6jRG7g",
    "outputId": "ea1b076d-7b43-4255-aad7-9707361b8bfc"
   },
   "outputs": [
    {
     "name": "stdout",
     "output_type": "stream",
     "text": [
      "[[0, 1, 2], [0, 1, 2], [0, 1, 2]]\n",
      "[[0, 1, 2], [0, 1, 2], [0, 1, 2]]\n"
     ]
    }
   ],
   "source": [
    "print([ [i for i in range(3)] for j in range(3)])\n",
    "\n",
    "b=[]\n",
    "for j in range(3):\n",
    "    line=[]\n",
    "    for i in range(3):\n",
    "        line += [i]\n",
    "    b += [line]\n",
    "print(b)"
   ]
  },
  {
   "cell_type": "markdown",
   "metadata": {
    "id": "raAb5r6R9ysn"
   },
   "source": [
    "## print 응용"
   ]
  },
  {
   "cell_type": "code",
   "execution_count": null,
   "metadata": {
    "colab": {
     "base_uri": "https://localhost:8080/"
    },
    "executionInfo": {
     "elapsed": 71,
     "status": "ok",
     "timestamp": 1663246585523,
     "user": {
      "displayName": "강사",
      "userId": "16181995035441534154"
     },
     "user_tz": -540
    },
    "id": "OKwK0E8nlYup",
    "outputId": "dc1de051-2457-4708-c66d-c5f20f5782a1"
   },
   "outputs": [
    {
     "name": "stdout",
     "output_type": "stream",
     "text": [
      "a = 1 b = 2 c = ㅋㅋ\n"
     ]
    }
   ],
   "source": [
    "a=1\n",
    "b=2\n",
    "c=\"ㅋㅋ\"\n",
    "\n",
    "print(\"a =\", a, \"b =\", b, \"c =\", c)"
   ]
  },
  {
   "cell_type": "code",
   "execution_count": null,
   "metadata": {
    "colab": {
     "base_uri": "https://localhost:8080/"
    },
    "executionInfo": {
     "elapsed": 60,
     "status": "ok",
     "timestamp": 1663246585523,
     "user": {
      "displayName": "강사",
      "userId": "16181995035441534154"
     },
     "user_tz": -540
    },
    "id": "taxR2cklmJuf",
    "outputId": "aa1cd31c-4c9c-49aa-faf4-87c9932851c7"
   },
   "outputs": [
    {
     "name": "stdout",
     "output_type": "stream",
     "text": [
      "a = 1, b = 2, c = ㅋㅋ\n"
     ]
    }
   ],
   "source": [
    "a=1\n",
    "b=2\n",
    "c=\"ㅋㅋ\"\n",
    "\n",
    "print(\"a = {}, b = {}, c = {}\".format(a,b,c))"
   ]
  },
  {
   "cell_type": "code",
   "execution_count": null,
   "metadata": {
    "colab": {
     "base_uri": "https://localhost:8080/"
    },
    "executionInfo": {
     "elapsed": 49,
     "status": "ok",
     "timestamp": 1663246585523,
     "user": {
      "displayName": "강사",
      "userId": "16181995035441534154"
     },
     "user_tz": -540
    },
    "id": "ZwZJUvbW9_Rw",
    "outputId": "569a0801-28bc-4a69-87a7-ba52c50e7236"
   },
   "outputs": [
    {
     "name": "stdout",
     "output_type": "stream",
     "text": [
      "a = 1, b = ㅋㅋ, c = 2\n"
     ]
    }
   ],
   "source": [
    "a=1\n",
    "b=2\n",
    "c=\"ㅋㅋ\"\n",
    "\n",
    "print(\"a = {0}, b = {2}, c = {1}\".format(a,b,c))"
   ]
  },
  {
   "cell_type": "code",
   "execution_count": null,
   "metadata": {
    "colab": {
     "base_uri": "https://localhost:8080/"
    },
    "executionInfo": {
     "elapsed": 39,
     "status": "ok",
     "timestamp": 1663246585523,
     "user": {
      "displayName": "강사",
      "userId": "16181995035441534154"
     },
     "user_tz": -540
    },
    "id": "7y3PW9xn-WHW",
    "outputId": "2e92e152-e69a-470f-c30a-334ec99b4e44"
   },
   "outputs": [
    {
     "name": "stdout",
     "output_type": "stream",
     "text": [
      "a = 1, b = 2, c = ㅋㅋ\n"
     ]
    }
   ],
   "source": [
    "a=1\n",
    "b=2\n",
    "c=\"ㅋㅋ\"\n",
    "\n",
    "print(\"a = {num1}, b = {num2}, c = {str1}\".format(str1=c,num1=a,num2=b))"
   ]
  },
  {
   "cell_type": "code",
   "execution_count": null,
   "metadata": {
    "colab": {
     "base_uri": "https://localhost:8080/"
    },
    "executionInfo": {
     "elapsed": 28,
     "status": "ok",
     "timestamp": 1663246585523,
     "user": {
      "displayName": "강사",
      "userId": "16181995035441534154"
     },
     "user_tz": -540
    },
    "id": "yYq8Kgws-flG",
    "outputId": "76caef4b-8247-494f-9b3d-6f2aac11b1a6"
   },
   "outputs": [
    {
     "name": "stdout",
     "output_type": "stream",
     "text": [
      "a = 1, b = 2, c = ㅋㅋ\n"
     ]
    }
   ],
   "source": [
    "a=1\n",
    "b=2\n",
    "c=\"ㅋㅋ\"\n",
    "\n",
    "print(f\"a = {a}, b = {b}, c = {c}\")\n",
    "# print(\"a =\", a, \",b =\", b, \",c =\", c) # 와 비교"
   ]
  },
  {
   "cell_type": "markdown",
   "metadata": {
    "id": "Z1PXfkVqAthc"
   },
   "source": [
    "## 딕셔너리 응용 (내 필기용)"
   ]
  },
  {
   "cell_type": "code",
   "execution_count": null,
   "metadata": {
    "colab": {
     "base_uri": "https://localhost:8080/"
    },
    "executionInfo": {
     "elapsed": 18,
     "status": "ok",
     "timestamp": 1663246585523,
     "user": {
      "displayName": "강사",
      "userId": "16181995035441534154"
     },
     "user_tz": -540
    },
    "id": "9S5rMcI3-utn",
    "outputId": "d139a6cf-2fc7-4eaa-ed2e-cc97fb65889c"
   },
   "outputs": [
    {
     "name": "stdout",
     "output_type": "stream",
     "text": [
      "{'a': 10, 'b': 20, 'c': 30, 'd': None, 'e': 50, 'f': None}\n"
     ]
    }
   ],
   "source": [
    "dic = {\"a\":10, \"b\":20, \"c\":30}\n",
    "dic.setdefault(\"d\")\n",
    "dic.setdefault(\"e\",50)\n",
    "dic[\"f\"] = None # 이거랑 뭔 차이지\n",
    "print(dic)"
   ]
  },
  {
   "cell_type": "code",
   "execution_count": null,
   "metadata": {
    "colab": {
     "base_uri": "https://localhost:8080/"
    },
    "executionInfo": {
     "elapsed": 7,
     "status": "ok",
     "timestamp": 1663246585523,
     "user": {
      "displayName": "강사",
      "userId": "16181995035441534154"
     },
     "user_tz": -540
    },
    "id": "idV3sTe2Ay1_",
    "outputId": "5fc56d1b-25e9-4a24-a065-30e5b8619672"
   },
   "outputs": [
    {
     "name": "stdout",
     "output_type": "stream",
     "text": [
      "{'a': 100, 'b': 20, 'c': 30, 'd': 40}\n"
     ]
    }
   ],
   "source": [
    "dic = {\"a\":10, \"b\":20, \"c\":30}\n",
    "dic.update(a=100)\n",
    "dic.update(d=40)\n",
    "print(dic)"
   ]
  },
  {
   "cell_type": "code",
   "execution_count": null,
   "metadata": {
    "colab": {
     "base_uri": "https://localhost:8080/"
    },
    "executionInfo": {
     "elapsed": 8,
     "status": "ok",
     "timestamp": 1663246585524,
     "user": {
      "displayName": "강사",
      "userId": "16181995035441534154"
     },
     "user_tz": -540
    },
    "id": "jo2JqdZlBJ6G",
    "outputId": "f42f0ae7-8460-4f5c-b47d-ec4e3dbde0f1"
   },
   "outputs": [
    {
     "name": "stdout",
     "output_type": "stream",
     "text": [
      "{'a': 20, 'b': 30, 'c': 40, 4: 40}\n"
     ]
    }
   ],
   "source": [
    "dic = {\"a\":10, \"b\":20, \"c\":30, 4:40}\n",
    "dic.update(a=20,b=30,c=40) # ,4=50 는 오류 뜬다\n",
    "print(dic)"
   ]
  },
  {
   "cell_type": "code",
   "execution_count": null,
   "metadata": {
    "colab": {
     "base_uri": "https://localhost:8080/"
    },
    "executionInfo": {
     "elapsed": 7,
     "status": "ok",
     "timestamp": 1663246585524,
     "user": {
      "displayName": "강사",
      "userId": "16181995035441534154"
     },
     "user_tz": -540
    },
    "id": "T1_nL_EiCEp3",
    "outputId": "cf1c4280-768d-436c-c3d8-0d66e756291b"
   },
   "outputs": [
    {
     "name": "stdout",
     "output_type": "stream",
     "text": [
      "{'a': 10, 'b': 20, 'c': 40, 4: 50}\n"
     ]
    }
   ],
   "source": [
    "dic = {\"a\":10, \"b\":20, \"c\":30, 4:40}\n",
    "dic.update({\"c\":40,4:50}) # 키에 숫자 있다면 이렇게!\n",
    "print(dic)"
   ]
  },
  {
   "cell_type": "code",
   "execution_count": null,
   "metadata": {
    "colab": {
     "base_uri": "https://localhost:8080/"
    },
    "executionInfo": {
     "elapsed": 772,
     "status": "ok",
     "timestamp": 1663246586289,
     "user": {
      "displayName": "강사",
      "userId": "16181995035441534154"
     },
     "user_tz": -540
    },
    "id": "1BTfzL4iCrSn",
    "outputId": "f733cbfd-ba83-44ba-d512-c43d4d1bacc2"
   },
   "outputs": [
    {
     "name": "stdout",
     "output_type": "stream",
     "text": [
      "{'b': 20, 'c': 30, 4: 40}\n"
     ]
    }
   ],
   "source": [
    "dic = {\"a\":10, \"b\":20, \"c\":30, 4:40}\n",
    "dic.pop(\"a\")\n",
    "print(dic)"
   ]
  },
  {
   "cell_type": "code",
   "execution_count": null,
   "metadata": {
    "colab": {
     "base_uri": "https://localhost:8080/"
    },
    "executionInfo": {
     "elapsed": 243,
     "status": "ok",
     "timestamp": 1663246586289,
     "user": {
      "displayName": "강사",
      "userId": "16181995035441534154"
     },
     "user_tz": -540
    },
    "id": "PjE3E7FrCtjf",
    "outputId": "be761155-d87f-4195-9324-d016423e031b"
   },
   "outputs": [
    {
     "name": "stdout",
     "output_type": "stream",
     "text": [
      "{'b': 20, 'c': 30, 4: 40}\n"
     ]
    }
   ],
   "source": [
    "dic = {\"a\":10, \"b\":20, \"c\":30, 4:40}\n",
    "del dic[\"a\"]\n",
    "print(dic)"
   ]
  },
  {
   "cell_type": "code",
   "execution_count": null,
   "metadata": {
    "colab": {
     "base_uri": "https://localhost:8080/"
    },
    "executionInfo": {
     "elapsed": 241,
     "status": "ok",
     "timestamp": 1663246586289,
     "user": {
      "displayName": "강사",
      "userId": "16181995035441534154"
     },
     "user_tz": -540
    },
    "id": "PVW19M3GDO6H",
    "outputId": "4340c9e3-5629-456c-8a7f-2b41640dbd21"
   },
   "outputs": [
    {
     "name": "stdout",
     "output_type": "stream",
     "text": [
      "{}\n"
     ]
    }
   ],
   "source": [
    "dic = {\"a\":10, \"b\":20, \"c\":30, 4:40}\n",
    "dic.clear()\n",
    "print(dic)"
   ]
  },
  {
   "cell_type": "code",
   "execution_count": null,
   "metadata": {
    "colab": {
     "base_uri": "https://localhost:8080/"
    },
    "executionInfo": {
     "elapsed": 241,
     "status": "ok",
     "timestamp": 1663246586289,
     "user": {
      "displayName": "강사",
      "userId": "16181995035441534154"
     },
     "user_tz": -540
    },
    "id": "xfYQ8e8YEEZw",
    "outputId": "ea6f75bc-c0a6-4d7f-a276-b2ccef4be71b"
   },
   "outputs": [
    {
     "name": "stdout",
     "output_type": "stream",
     "text": [
      "{'a': 10, 'b': 10, 'c': 10, 4: 10}\n"
     ]
    }
   ],
   "source": [
    "keys = [\"a\",\"b\",\"c\",4]\n",
    "dic=dict.fromkeys(keys,10)\n",
    "print(dic)"
   ]
  },
  {
   "cell_type": "code",
   "execution_count": null,
   "metadata": {
    "colab": {
     "base_uri": "https://localhost:8080/"
    },
    "executionInfo": {
     "elapsed": 240,
     "status": "ok",
     "timestamp": 1663246586289,
     "user": {
      "displayName": "강사",
      "userId": "16181995035441534154"
     },
     "user_tz": -540
    },
    "id": "OD2tBTFYE2TQ",
    "outputId": "50954b1a-419a-4392-9aee-1e83e43362d0"
   },
   "outputs": [
    {
     "name": "stdout",
     "output_type": "stream",
     "text": [
      "key = a  value = 10\n",
      "key = b  value = 20\n",
      "key = c  value = 30\n",
      "key = 4  value = 40\n"
     ]
    }
   ],
   "source": [
    "dic = {\"a\":10, \"b\":20, \"c\":30, 4:40}\n",
    "for k, v in dic.items():\n",
    "    print(\"key =\",k, \" value =\",v)"
   ]
  },
  {
   "cell_type": "code",
   "execution_count": null,
   "metadata": {
    "colab": {
     "base_uri": "https://localhost:8080/"
    },
    "executionInfo": {
     "elapsed": 239,
     "status": "ok",
     "timestamp": 1663246586289,
     "user": {
      "displayName": "강사",
      "userId": "16181995035441534154"
     },
     "user_tz": -540
    },
    "id": "2HJnmNyuF-CI",
    "outputId": "5185bc90-e40b-4ca1-87e7-0a6f94ad71fb"
   },
   "outputs": [
    {
     "name": "stdout",
     "output_type": "stream",
     "text": [
      "key = a\n",
      "key = b\n",
      "key = c\n",
      "key = 4\n"
     ]
    }
   ],
   "source": [
    "dic = {\"a\":10, \"b\":20, \"c\":30, 4:40}\n",
    "for k in dic.keys():\n",
    "    print(\"key =\",k)"
   ]
  },
  {
   "cell_type": "code",
   "execution_count": null,
   "metadata": {
    "colab": {
     "base_uri": "https://localhost:8080/"
    },
    "executionInfo": {
     "elapsed": 239,
     "status": "ok",
     "timestamp": 1663246586289,
     "user": {
      "displayName": "강사",
      "userId": "16181995035441534154"
     },
     "user_tz": -540
    },
    "id": "sGpuDxJTF-MQ",
    "outputId": "87be63c9-dcf8-4a71-b2ae-772fed0c950c"
   },
   "outputs": [
    {
     "name": "stdout",
     "output_type": "stream",
     "text": [
      "value = 10\n",
      "value = 20\n",
      "value = 30\n",
      "value = 40\n"
     ]
    }
   ],
   "source": [
    "dic = {\"a\":10, \"b\":20, \"c\":30, 4:40}\n",
    "for v in dic.values():\n",
    "    print(\"value =\",v)"
   ]
  },
  {
   "cell_type": "code",
   "execution_count": null,
   "metadata": {
    "colab": {
     "base_uri": "https://localhost:8080/"
    },
    "executionInfo": {
     "elapsed": 238,
     "status": "ok",
     "timestamp": 1663246586289,
     "user": {
      "displayName": "강사",
      "userId": "16181995035441534154"
     },
     "user_tz": -540
    },
    "id": "PP57qRFzF-Ww",
    "outputId": "a6c974e5-dd3d-4818-bbd5-7b9cac7ebf2d"
   },
   "outputs": [
    {
     "name": "stdout",
     "output_type": "stream",
     "text": [
      "{'a': 0, 'b': 0, 'c': 0, 'd': 0}\n"
     ]
    }
   ],
   "source": [
    "dic={\"a\":1, \"b\":2, \"c\":3, \"d\":4}\n",
    "dic_gen={k:0 for k in dic.keys()}\n",
    "print(dic_gen)"
   ]
  },
  {
   "cell_type": "code",
   "execution_count": null,
   "metadata": {
    "colab": {
     "base_uri": "https://localhost:8080/"
    },
    "executionInfo": {
     "elapsed": 238,
     "status": "ok",
     "timestamp": 1663246586289,
     "user": {
      "displayName": "강사",
      "userId": "16181995035441534154"
     },
     "user_tz": -540
    },
    "id": "2t1Pa1qn7bL4",
    "outputId": "0fcf0fb2-a85f-4b99-9525-a45bcfefebfc"
   },
   "outputs": [
    {
     "name": "stdout",
     "output_type": "stream",
     "text": [
      "{1: 0, 2: 0, 3: 0, 4: 0}\n"
     ]
    }
   ],
   "source": [
    "dic={\"a\":1, \"b\":2, \"c\":3, \"d\":4}\n",
    "dic_gen={k:0 for k in dic.values()}\n",
    "print(dic_gen)"
   ]
  },
  {
   "cell_type": "code",
   "execution_count": null,
   "metadata": {
    "colab": {
     "base_uri": "https://localhost:8080/"
    },
    "executionInfo": {
     "elapsed": 237,
     "status": "ok",
     "timestamp": 1663246586289,
     "user": {
      "displayName": "강사",
      "userId": "16181995035441534154"
     },
     "user_tz": -540
    },
    "id": "Fox7YBCo7zwn",
    "outputId": "5f7cecd2-77ad-40d8-a565-375c6f30671e"
   },
   "outputs": [
    {
     "name": "stdout",
     "output_type": "stream",
     "text": [
      "{'a': 4}\n"
     ]
    }
   ],
   "source": [
    "dic={\"a\":1, \"b\":2, \"c\":3, \"d\":4}\n",
    "dic_gen={\"a\":k for k in dic.values()} # 이렇게는 안쓸 듯! 다른 키 : 같은 벨류 는 여러개 되는데 같은 키 : 다른 벨류는 계속 겹쳐쓰기 할 뿐\n",
    "print(dic_gen)"
   ]
  },
  {
   "cell_type": "code",
   "execution_count": null,
   "metadata": {
    "colab": {
     "base_uri": "https://localhost:8080/"
    },
    "executionInfo": {
     "elapsed": 237,
     "status": "ok",
     "timestamp": 1663246586289,
     "user": {
      "displayName": "강사",
      "userId": "16181995035441534154"
     },
     "user_tz": -540
    },
    "id": "Y_SwqVd774nH",
    "outputId": "25ddc51e-f6a6-4842-a34d-b87bd1f65062"
   },
   "outputs": [
    {
     "name": "stdout",
     "output_type": "stream",
     "text": [
      "{1: 'a', 2: 'b', 3: 'c', 4: 'd'}\n"
     ]
    }
   ],
   "source": [
    "dic={\"a\":1, \"b\":2, \"c\":3, \"d\":4}\n",
    "dic_gen={v:k for k,v in dic.items()}\n",
    "print(dic_gen)"
   ]
  },
  {
   "cell_type": "code",
   "execution_count": null,
   "metadata": {
    "colab": {
     "base_uri": "https://localhost:8080/"
    },
    "executionInfo": {
     "elapsed": 236,
     "status": "ok",
     "timestamp": 1663246586289,
     "user": {
      "displayName": "강사",
      "userId": "16181995035441534154"
     },
     "user_tz": -540
    },
    "id": "uCI4pWbZ-_tZ",
    "outputId": "e5d29721-0456-47b7-b73a-42516753650c"
   },
   "outputs": [
    {
     "name": "stdout",
     "output_type": "stream",
     "text": [
      "{'a': 1, 'b': 2, 'd': 4}\n"
     ]
    }
   ],
   "source": [
    "dic={\"a\":1, \"b\":2, \"c\":3, \"d\":4}\n",
    "dic_gen={k:v for k,v in dic.items() if k!=\"c\"}\n",
    "print(dic_gen)"
   ]
  },
  {
   "cell_type": "code",
   "execution_count": null,
   "metadata": {
    "colab": {
     "base_uri": "https://localhost:8080/"
    },
    "executionInfo": {
     "elapsed": 235,
     "status": "ok",
     "timestamp": 1663246586289,
     "user": {
      "displayName": "강사",
      "userId": "16181995035441534154"
     },
     "user_tz": -540
    },
    "id": "H24tYNfA_dYx",
    "outputId": "38e69e22-19ed-476a-cb9e-1819a4e1575a"
   },
   "outputs": [
    {
     "name": "stdout",
     "output_type": "stream",
     "text": [
      "{'a': 1, 'b': 2, 'd': 4}\n"
     ]
    }
   ],
   "source": [
    "dic={\"a\":1, \"b\":2, \"c\":3, \"d\":4}\n",
    "dic_gen={k:v for k,v in dic.items() if v!=3}\n",
    "print(dic_gen)"
   ]
  },
  {
   "cell_type": "code",
   "execution_count": null,
   "metadata": {
    "colab": {
     "base_uri": "https://localhost:8080/"
    },
    "executionInfo": {
     "elapsed": 235,
     "status": "ok",
     "timestamp": 1663246586289,
     "user": {
      "displayName": "강사",
      "userId": "16181995035441534154"
     },
     "user_tz": -540
    },
    "id": "QaDmNrT3_8qo",
    "outputId": "b5ef0dc3-4315-4704-8630-704b28aa1d85"
   },
   "outputs": [
    {
     "name": "stdout",
     "output_type": "stream",
     "text": [
      "{'a': 1, 'b': 2, 'c': 3}\n",
      "8\n"
     ]
    }
   ],
   "source": [
    "dic= {\"A\":{\"a\":1,\"b\":2,\"c\":3},\n",
    "      \"B\":{\"a\":4,\"b\":5,\"c\":6},\n",
    "      \"C\":{\"a\":7,\"b\":8,\"c\":9}}    # 딕셔너리 안에 딕셔너리\n",
    "print(dic[\"A\"])\n",
    "print(dic[\"C\"][\"b\"])"
   ]
  },
  {
   "cell_type": "code",
   "execution_count": null,
   "metadata": {
    "colab": {
     "base_uri": "https://localhost:8080/"
    },
    "executionInfo": {
     "elapsed": 234,
     "status": "ok",
     "timestamp": 1663246586289,
     "user": {
      "displayName": "강사",
      "userId": "16181995035441534154"
     },
     "user_tz": -540
    },
    "id": "4NdEtWnwCE_o",
    "outputId": "4d87dad1-c153-414d-f272-2cc6ea7c3fd3"
   },
   "outputs": [
    {
     "name": "stdout",
     "output_type": "stream",
     "text": [
      "True\n",
      "True\n",
      "{'a': 100, 'b': 2, 'c': 3, 'd': 4} {'a': 100, 'b': 2, 'c': 3, 'd': 4}\n"
     ]
    }
   ],
   "source": [
    "dic1={\"a\":1, \"b\":2, \"c\":3, \"d\":4}\n",
    "dic2=dic1\n",
    "\n",
    "print(dic1 is dic2) # 같이 바뀌면 이게 True\n",
    "print(dic1 == dic2)\n",
    "dic1[\"a\"]=100\n",
    "print(dic1, dic2)"
   ]
  },
  {
   "cell_type": "code",
   "execution_count": null,
   "metadata": {
    "colab": {
     "base_uri": "https://localhost:8080/"
    },
    "executionInfo": {
     "elapsed": 235,
     "status": "ok",
     "timestamp": 1663246586290,
     "user": {
      "displayName": "강사",
      "userId": "16181995035441534154"
     },
     "user_tz": -540
    },
    "id": "eSvCK3v9Cda5",
    "outputId": "6140c4d3-760f-48e7-b4ae-e90d4f848dd5"
   },
   "outputs": [
    {
     "name": "stdout",
     "output_type": "stream",
     "text": [
      "False\n",
      "True\n",
      "{'a': 100, 'b': 2, 'c': 3, 'd': 4} {'a': 1, 'b': 2, 'c': 3, 'd': 4}\n"
     ]
    }
   ],
   "source": [
    "dic1={\"a\":1, \"b\":2, \"c\":3, \"d\":4}\n",
    "dic2=dic1.copy()\n",
    "\n",
    "print(dic1 is dic2) # 같이 바뀌면 이게 True\n",
    "print(dic1 == dic2)\n",
    "dic1[\"a\"]=100\n",
    "print(dic1, dic2)"
   ]
  },
  {
   "cell_type": "code",
   "execution_count": null,
   "metadata": {
    "colab": {
     "base_uri": "https://localhost:8080/"
    },
    "executionInfo": {
     "elapsed": 234,
     "status": "ok",
     "timestamp": 1663246586290,
     "user": {
      "displayName": "강사",
      "userId": "16181995035441534154"
     },
     "user_tz": -540
    },
    "id": "l0cHkVuqCwWa",
    "outputId": "4b08f771-cc24-4fc0-88fd-30db1e30ee45"
   },
   "outputs": [
    {
     "name": "stdout",
     "output_type": "stream",
     "text": [
      "True\n",
      "True\n",
      "{'A': {'a': 100, 'b': 2, 'c': 3}, 'B': {'a': 4, 'b': 5, 'c': 6}, 'C': {'a': 7, 'b': 8, 'c': 9}}\n",
      "{'A': {'a': 100, 'b': 2, 'c': 3}, 'B': {'a': 4, 'b': 5, 'c': 6}, 'C': {'a': 7, 'b': 8, 'c': 9}}\n"
     ]
    }
   ],
   "source": [
    "dic1= {\"A\":{\"a\":1,\"b\":2,\"c\":3},\n",
    "       \"B\":{\"a\":4,\"b\":5,\"c\":6},\n",
    "       \"C\":{\"a\":7,\"b\":8,\"c\":9}}    # 딕셔너리 안에 딕셔너리\n",
    "dic2=dic1.copy()\n",
    "\n",
    "print(dic1[\"A\"] is dic2[\"A\"]) # 같이 바뀌면 이게 True\n",
    "print(dic1 == dic2)\n",
    "dic1[\"A\"][\"a\"]=100\n",
    "print(dic1)\n",
    "print(dic2)"
   ]
  },
  {
   "cell_type": "code",
   "execution_count": null,
   "metadata": {
    "colab": {
     "base_uri": "https://localhost:8080/"
    },
    "executionInfo": {
     "elapsed": 233,
     "status": "ok",
     "timestamp": 1663246586290,
     "user": {
      "displayName": "강사",
      "userId": "16181995035441534154"
     },
     "user_tz": -540
    },
    "id": "EeHoq0AWDol5",
    "outputId": "5236735a-d730-4de7-954d-d132e8e2df25"
   },
   "outputs": [
    {
     "name": "stdout",
     "output_type": "stream",
     "text": [
      "False\n",
      "True\n",
      "{'A': {'a': 100, 'b': 2, 'c': 3}, 'B': {'a': 4, 'b': 5, 'c': 6}, 'C': {'a': 7, 'b': 8, 'c': 9}}\n",
      "{'A': {'a': 1, 'b': 2, 'c': 3}, 'B': {'a': 4, 'b': 5, 'c': 6}, 'C': {'a': 7, 'b': 8, 'c': 9}}\n"
     ]
    }
   ],
   "source": [
    "import copy\n",
    "dic1= {\"A\":{\"a\":1,\"b\":2,\"c\":3},\n",
    "       \"B\":{\"a\":4,\"b\":5,\"c\":6},\n",
    "       \"C\":{\"a\":7,\"b\":8,\"c\":9}}    # 딕셔너리 안에 딕셔너리\n",
    "dic2=copy.deepcopy(dic1)\n",
    "\n",
    "print(dic1[\"A\"] is dic2[\"A\"]) # 같이 바뀌면 이게 True\n",
    "print(dic1 == dic2)\n",
    "dic1[\"A\"][\"a\"]=100\n",
    "print(dic1)\n",
    "print(dic2)"
   ]
  },
  {
   "cell_type": "markdown",
   "metadata": {
    "id": "8LCDB0PQEvcT"
   },
   "source": [
    "## 집합 (set) (내 필기용)"
   ]
  },
  {
   "cell_type": "code",
   "execution_count": null,
   "metadata": {
    "colab": {
     "base_uri": "https://localhost:8080/"
    },
    "executionInfo": {
     "elapsed": 232,
     "status": "ok",
     "timestamp": 1663246586290,
     "user": {
      "displayName": "강사",
      "userId": "16181995035441534154"
     },
     "user_tz": -540
    },
    "id": "6SwbdE1cEkW6",
    "outputId": "55badd6a-9310-449e-b84a-ff9b59fc7f05"
   },
   "outputs": [
    {
     "name": "stdout",
     "output_type": "stream",
     "text": [
      "{'a', 'c', 'b', 'd'}\n",
      "4\n"
     ]
    }
   ],
   "source": [
    "s={\"a\",\"b\",\"c\",\"d\",\"a\"} # 중복한거는 한번만 나옴\n",
    "print(s)\n",
    "print(len(s))"
   ]
  },
  {
   "cell_type": "code",
   "execution_count": null,
   "metadata": {
    "colab": {
     "base_uri": "https://localhost:8080/"
    },
    "executionInfo": {
     "elapsed": 232,
     "status": "ok",
     "timestamp": 1663246586290,
     "user": {
      "displayName": "강사",
      "userId": "16181995035441534154"
     },
     "user_tz": -540
    },
    "id": "wbrbH_MnEzz6",
    "outputId": "35e10515-9d55-4089-b601-df793776aab2"
   },
   "outputs": [
    {
     "name": "stdout",
     "output_type": "stream",
     "text": [
      "True\n",
      "False\n"
     ]
    }
   ],
   "source": [
    "print(\"a\" in s)\n",
    "print(\"c\" not in s)"
   ]
  },
  {
   "cell_type": "code",
   "execution_count": null,
   "metadata": {
    "colab": {
     "base_uri": "https://localhost:8080/"
    },
    "executionInfo": {
     "elapsed": 232,
     "status": "ok",
     "timestamp": 1663246586290,
     "user": {
      "displayName": "강사",
      "userId": "16181995035441534154"
     },
     "user_tz": -540
    },
    "id": "sInTVKZxE6_6",
    "outputId": "534af79b-c26f-4fb0-fce6-cd87850a39ee"
   },
   "outputs": [
    {
     "name": "stdout",
     "output_type": "stream",
     "text": [
      "{'a', 'p', 'e', 'l'}\n"
     ]
    }
   ],
   "source": [
    "s=set(\"apple\")\n",
    "print(s)"
   ]
  },
  {
   "cell_type": "code",
   "execution_count": null,
   "metadata": {
    "colab": {
     "base_uri": "https://localhost:8080/"
    },
    "executionInfo": {
     "elapsed": 231,
     "status": "ok",
     "timestamp": 1663246586290,
     "user": {
      "displayName": "강사",
      "userId": "16181995035441534154"
     },
     "user_tz": -540
    },
    "id": "ikpJ5Y7gE8Vi",
    "outputId": "684b1f00-275e-45f3-be24-c99ec6f6bfaa"
   },
   "outputs": [
    {
     "name": "stdout",
     "output_type": "stream",
     "text": [
      "{0, 1, 2, 3, 4}\n"
     ]
    }
   ],
   "source": [
    "s=set(range(5))\n",
    "print(s)"
   ]
  },
  {
   "cell_type": "code",
   "execution_count": null,
   "metadata": {
    "colab": {
     "base_uri": "https://localhost:8080/"
    },
    "executionInfo": {
     "elapsed": 230,
     "status": "ok",
     "timestamp": 1663246586290,
     "user": {
      "displayName": "강사",
      "userId": "16181995035441534154"
     },
     "user_tz": -540
    },
    "id": "UFoNM_70Fohy",
    "outputId": "1e344e36-a023-4e43-8c6c-b390408221ed"
   },
   "outputs": [
    {
     "name": "stdout",
     "output_type": "stream",
     "text": [
      "{3, 4}\n",
      "{3, 4}\n",
      "{1, 2, 3, 4, 5, 6}\n",
      "{1, 2, 3, 4, 5, 6}\n",
      "{1, 2}\n",
      "{1, 2}\n",
      "{1, 2, 5, 6}\n",
      "{1, 2, 5, 6}\n"
     ]
    }
   ],
   "source": [
    "s1={1,2,3,4}\n",
    "s2={3,4,5,6}\n",
    "\n",
    "print(s1 & s2)\n",
    "print(set.intersection(s1,s2))\n",
    "print(s1 | s2)\n",
    "print(set.union(s1,s2))\n",
    "print(s1 - s2)\n",
    "print(set.difference(s1,s2))\n",
    "print(s1 ^ s2)\n",
    "print(set.symmetric_difference(s1,s2))"
   ]
  },
  {
   "cell_type": "code",
   "execution_count": null,
   "metadata": {
    "colab": {
     "base_uri": "https://localhost:8080/"
    },
    "executionInfo": {
     "elapsed": 230,
     "status": "ok",
     "timestamp": 1663246586290,
     "user": {
      "displayName": "강사",
      "userId": "16181995035441534154"
     },
     "user_tz": -540
    },
    "id": "9b14mcknFxjS",
    "outputId": "0625e26b-62c3-4073-82cc-3a5d816f0bf7"
   },
   "outputs": [
    {
     "name": "stdout",
     "output_type": "stream",
     "text": [
      "{1, 2, 3, 4, 5, 6, 7}\n",
      "{1, 2, 4, 5, 6, 7}\n",
      "{1, 4, 5, 6, 7}\n",
      "{4, 5, 6, 7}\n",
      "set()\n"
     ]
    }
   ],
   "source": [
    "s={1,2,3,4}\n",
    "s |= {5}\n",
    "s.update({6})\n",
    "s.add(7)\n",
    "print(s)\n",
    "s.remove(3)\n",
    "# s.remove(10) # error!\n",
    "print(s)\n",
    "s.discard(2)\n",
    "s.discard(10)\n",
    "print(s)\n",
    "s.pop()\n",
    "print(s)\n",
    "s.clear()\n",
    "print(s)"
   ]
  },
  {
   "cell_type": "code",
   "execution_count": null,
   "metadata": {
    "colab": {
     "base_uri": "https://localhost:8080/"
    },
    "executionInfo": {
     "elapsed": 229,
     "status": "ok",
     "timestamp": 1663246586290,
     "user": {
      "displayName": "강사",
      "userId": "16181995035441534154"
     },
     "user_tz": -540
    },
    "id": "ldXAeclGGYiD",
    "outputId": "b95a4a79-79af-4135-a2bf-122ad3f21a19"
   },
   "outputs": [
    {
     "name": "stdout",
     "output_type": "stream",
     "text": [
      "{3, 4}\n"
     ]
    }
   ],
   "source": [
    "s={1,2,3,4}\n",
    "s &= {3,4,5,6}\n",
    "print(s)"
   ]
  },
  {
   "cell_type": "code",
   "execution_count": null,
   "metadata": {
    "colab": {
     "base_uri": "https://localhost:8080/"
    },
    "executionInfo": {
     "elapsed": 229,
     "status": "ok",
     "timestamp": 1663246586290,
     "user": {
      "displayName": "강사",
      "userId": "16181995035441534154"
     },
     "user_tz": -540
    },
    "id": "tLHFypUQGlGa",
    "outputId": "b2b4beff-88c6-4c8c-87fe-20bd9c7d6cb3"
   },
   "outputs": [
    {
     "name": "stdout",
     "output_type": "stream",
     "text": [
      "{3, 4}\n"
     ]
    }
   ],
   "source": [
    "s={1,2,3,4}\n",
    "s.intersection_update({3,4,5,6})\n",
    "print(s)"
   ]
  },
  {
   "cell_type": "code",
   "execution_count": null,
   "metadata": {
    "colab": {
     "base_uri": "https://localhost:8080/"
    },
    "executionInfo": {
     "elapsed": 228,
     "status": "ok",
     "timestamp": 1663246586290,
     "user": {
      "displayName": "강사",
      "userId": "16181995035441534154"
     },
     "user_tz": -540
    },
    "id": "MqkhMOAeGoQi",
    "outputId": "51983af9-d12a-4dde-930c-ab79d6a1456e"
   },
   "outputs": [
    {
     "name": "stdout",
     "output_type": "stream",
     "text": [
      "{1, 2, 4}\n"
     ]
    }
   ],
   "source": [
    "s={1,2,3,4}\n",
    "s -= {3}\n",
    "print(s)"
   ]
  },
  {
   "cell_type": "code",
   "execution_count": null,
   "metadata": {
    "colab": {
     "base_uri": "https://localhost:8080/"
    },
    "executionInfo": {
     "elapsed": 228,
     "status": "ok",
     "timestamp": 1663246586290,
     "user": {
      "displayName": "강사",
      "userId": "16181995035441534154"
     },
     "user_tz": -540
    },
    "id": "PIX5_4ieGrPC",
    "outputId": "69a6fd73-4234-4f5a-834c-1c495d514936"
   },
   "outputs": [
    {
     "name": "stdout",
     "output_type": "stream",
     "text": [
      "{1, 2, 4}\n"
     ]
    }
   ],
   "source": [
    "s={1,2,3,4}\n",
    "s.difference_update({3})\n",
    "print(s)"
   ]
  },
  {
   "cell_type": "code",
   "execution_count": null,
   "metadata": {
    "colab": {
     "base_uri": "https://localhost:8080/"
    },
    "executionInfo": {
     "elapsed": 227,
     "status": "ok",
     "timestamp": 1663246586290,
     "user": {
      "displayName": "강사",
      "userId": "16181995035441534154"
     },
     "user_tz": -540
    },
    "id": "DYv57NkzGtN6",
    "outputId": "e63cb1be-1dd0-4b0b-f03e-8d3143627ab5"
   },
   "outputs": [
    {
     "name": "stdout",
     "output_type": "stream",
     "text": [
      "{1, 2, 5, 6}\n"
     ]
    }
   ],
   "source": [
    "s={1,2,3,4}\n",
    "s ^= {3,4,5,6}\n",
    "print(s)"
   ]
  },
  {
   "cell_type": "code",
   "execution_count": null,
   "metadata": {
    "colab": {
     "base_uri": "https://localhost:8080/"
    },
    "executionInfo": {
     "elapsed": 227,
     "status": "ok",
     "timestamp": 1663246586290,
     "user": {
      "displayName": "강사",
      "userId": "16181995035441534154"
     },
     "user_tz": -540
    },
    "id": "rBd5w1dtIwVr",
    "outputId": "0b823307-940b-4381-bd6e-a9439247a02d"
   },
   "outputs": [
    {
     "name": "stdout",
     "output_type": "stream",
     "text": [
      "{1, 2, 5, 6}\n"
     ]
    }
   ],
   "source": [
    "s={1,2,3,4}\n",
    "s.symmetric_difference_update({3,4,5,6})\n",
    "print(s)"
   ]
  },
  {
   "cell_type": "code",
   "execution_count": null,
   "metadata": {
    "colab": {
     "base_uri": "https://localhost:8080/"
    },
    "executionInfo": {
     "elapsed": 226,
     "status": "ok",
     "timestamp": 1663246586290,
     "user": {
      "displayName": "강사",
      "userId": "16181995035441534154"
     },
     "user_tz": -540
    },
    "id": "nHI4ns_LIzAL",
    "outputId": "b691781f-981c-46b8-8b7f-82137b5f23ee"
   },
   "outputs": [
    {
     "name": "stdout",
     "output_type": "stream",
     "text": [
      "True\n",
      "False\n",
      "True\n",
      "\n",
      "True\n",
      "False\n",
      "True\n",
      "\n",
      "True\n",
      "True\n"
     ]
    }
   ],
   "source": [
    "s={1,2,3,4}\n",
    "\n",
    "print(s<={1,2,3,4,5,6,7})\n",
    "print(s<{1,2,3,4})\n",
    "print(s.issubset({1,2,3,4,5,6}))\n",
    "print()\n",
    "print(s>={1,2})\n",
    "print(s>{1,2,3,4})\n",
    "print(s.issuperset({1,2}))\n",
    "print()\n",
    "print(s=={1,2,3,4})\n",
    "print(s!={1,2})"
   ]
  },
  {
   "cell_type": "code",
   "execution_count": null,
   "metadata": {
    "colab": {
     "base_uri": "https://localhost:8080/"
    },
    "executionInfo": {
     "elapsed": 226,
     "status": "ok",
     "timestamp": 1663246586290,
     "user": {
      "displayName": "강사",
      "userId": "16181995035441534154"
     },
     "user_tz": -540
    },
    "id": "yOLpcTpoI_ub",
    "outputId": "b1fb983b-e480-43c3-cf68-008d1284fb47"
   },
   "outputs": [
    {
     "name": "stdout",
     "output_type": "stream",
     "text": [
      "False\n",
      "True\n"
     ]
    }
   ],
   "source": [
    "s1={1,2,3,4}\n",
    "s2={3,4,5,6}\n",
    "s3={5,6,7,8}\n",
    "print(s1.isdisjoint(s2))\n",
    "print(s1.isdisjoint(s3))"
   ]
  },
  {
   "cell_type": "code",
   "execution_count": null,
   "metadata": {
    "colab": {
     "base_uri": "https://localhost:8080/"
    },
    "executionInfo": {
     "elapsed": 225,
     "status": "ok",
     "timestamp": 1663246586290,
     "user": {
      "displayName": "강사",
      "userId": "16181995035441534154"
     },
     "user_tz": -540
    },
    "id": "pHj-RjjtJvfL",
    "outputId": "47c6bb0a-141c-44ce-83a2-551be1594da1"
   },
   "outputs": [
    {
     "name": "stdout",
     "output_type": "stream",
     "text": [
      "True\n",
      "True\n",
      "{1, 2, 3, 4, 7}\n",
      "{1, 2, 3, 4, 7}\n"
     ]
    }
   ],
   "source": [
    "a={1,2,3,4}\n",
    "b=a\n",
    "\n",
    "print(a is b)\n",
    "print(a == b)\n",
    "b.add(7)\n",
    "print(a); print(b)"
   ]
  },
  {
   "cell_type": "code",
   "execution_count": null,
   "metadata": {
    "colab": {
     "base_uri": "https://localhost:8080/"
    },
    "executionInfo": {
     "elapsed": 225,
     "status": "ok",
     "timestamp": 1663246586290,
     "user": {
      "displayName": "강사",
      "userId": "16181995035441534154"
     },
     "user_tz": -540
    },
    "id": "R0KPERvvKkDs",
    "outputId": "d85789bf-2710-43a2-f84c-a1ac87ed8b89"
   },
   "outputs": [
    {
     "name": "stdout",
     "output_type": "stream",
     "text": [
      "False\n",
      "True\n",
      "{1, 2, 3, 4}\n",
      "{1, 2, 3, 4, 7}\n"
     ]
    }
   ],
   "source": [
    "a={1,2,3,4}\n",
    "b=a.copy()\n",
    "\n",
    "print(a is b)\n",
    "print(a == b)\n",
    "b.add(7)\n",
    "print(a); print(b)"
   ]
  },
  {
   "cell_type": "code",
   "execution_count": null,
   "metadata": {
    "colab": {
     "base_uri": "https://localhost:8080/"
    },
    "executionInfo": {
     "elapsed": 225,
     "status": "ok",
     "timestamp": 1663246586291,
     "user": {
      "displayName": "강사",
      "userId": "16181995035441534154"
     },
     "user_tz": -540
    },
    "id": "zfkCKpJWKt3U",
    "outputId": "589f5df0-427b-4419-d28b-65a7cb8d4e99"
   },
   "outputs": [
    {
     "name": "stdout",
     "output_type": "stream",
     "text": [
      "1\n",
      "2\n",
      "3\n",
      "4\n"
     ]
    }
   ],
   "source": [
    "s={1,2,3,4}\n",
    "for i in s:\n",
    "    print(i)"
   ]
  },
  {
   "cell_type": "code",
   "execution_count": null,
   "metadata": {
    "colab": {
     "base_uri": "https://localhost:8080/"
    },
    "executionInfo": {
     "elapsed": 225,
     "status": "ok",
     "timestamp": 1663246586291,
     "user": {
      "displayName": "강사",
      "userId": "16181995035441534154"
     },
     "user_tz": -540
    },
    "id": "KyKWTRQ3RFbG",
    "outputId": "b007952d-ee5e-4563-92cf-31d6721f21d2"
   },
   "outputs": [
    {
     "name": "stdout",
     "output_type": "stream",
     "text": [
      "{'a', 'p', 'e', 'l'}\n"
     ]
    }
   ],
   "source": [
    "s={i for i in \"apple\"}\n",
    "print(s)"
   ]
  },
  {
   "cell_type": "code",
   "execution_count": null,
   "metadata": {
    "colab": {
     "base_uri": "https://localhost:8080/"
    },
    "executionInfo": {
     "elapsed": 225,
     "status": "ok",
     "timestamp": 1663246586291,
     "user": {
      "displayName": "강사",
      "userId": "16181995035441534154"
     },
     "user_tz": -540
    },
    "id": "oFJVGl9WRUT-",
    "outputId": "9ce37ce5-af5b-4678-c868-4dbd59d9cf86"
   },
   "outputs": [
    {
     "name": "stdout",
     "output_type": "stream",
     "text": [
      "{'e', 'n', 'i'}\n"
     ]
    }
   ],
   "source": [
    "s={i for i in \"pineapple\" if i not in \"pla\"}\n",
    "print(s)"
   ]
  },
  {
   "cell_type": "markdown",
   "metadata": {
    "id": "38kRg2Oj2yH6"
   },
   "source": [
    "## 텍스트 파일 만들고 쓰기"
   ]
  },
  {
   "cell_type": "code",
   "execution_count": null,
   "metadata": {
    "id": "0KwwTvnsRlDV"
   },
   "outputs": [],
   "source": [
    "import os\n",
    "folder_name=\"saved\"\n",
    "if not os.path.exists(folder_name):\n",
    "    os.makedirs(folder_name)\n",
    "\n",
    "with open(\"saved/Hello.txt\",\"w\") as f:\n",
    "    f.write(\"Hello World!\\n\")\n",
    "    f.write(\"Hello World!2\\n\")\n",
    "    f.write(\"Hello World!3\")"
   ]
  },
  {
   "cell_type": "code",
   "execution_count": null,
   "metadata": {
    "colab": {
     "base_uri": "https://localhost:8080/"
    },
    "executionInfo": {
     "elapsed": 224,
     "status": "ok",
     "timestamp": 1663246586291,
     "user": {
      "displayName": "강사",
      "userId": "16181995035441534154"
     },
     "user_tz": -540
    },
    "id": "sQ6xV9Uq3JXs",
    "outputId": "c2f20eb9-f6fd-4a52-9909-8095f36a23aa"
   },
   "outputs": [
    {
     "name": "stdout",
     "output_type": "stream",
     "text": [
      "Hello World!\n",
      "Hello World!2\n",
      "Hello World!3\n"
     ]
    },
    {
     "data": {
      "text/plain": [
       "str"
      ]
     },
     "execution_count": 203,
     "metadata": {},
     "output_type": "execute_result"
    }
   ],
   "source": [
    "with open(\"saved/Hello.txt\",\"r\") as f:\n",
    "    s=f.read()\n",
    "    # print(s) # 내 필기용 (한번에 내용 다 읽는다)\n",
    "print(s)\n",
    "type(s)"
   ]
  },
  {
   "cell_type": "code",
   "execution_count": null,
   "metadata": {
    "colab": {
     "base_uri": "https://localhost:8080/"
    },
    "executionInfo": {
     "elapsed": 352,
     "status": "ok",
     "timestamp": 1663246659088,
     "user": {
      "displayName": "강사",
      "userId": "16181995035441534154"
     },
     "user_tz": -540
    },
    "id": "prQjjJFU3PIX",
    "outputId": "0b966bb3-6862-47da-bc64-ada7724f1438"
   },
   "outputs": [
    {
     "name": "stdout",
     "output_type": "stream",
     "text": [
      "['Hello World!\\n', 'Hello World!2\\n', 'Hello World!3']\n"
     ]
    },
    {
     "data": {
      "text/plain": [
       "3"
      ]
     },
     "execution_count": 318,
     "metadata": {},
     "output_type": "execute_result"
    }
   ],
   "source": [
    "with open(\"saved/Hello.txt\",\"r\") as f:\n",
    "    s=f.readlines()\n",
    "    print(s) # 한줄씩 list에 넣는다\n",
    "len(s)"
   ]
  },
  {
   "cell_type": "code",
   "execution_count": null,
   "metadata": {
    "colab": {
     "base_uri": "https://localhost:8080/"
    },
    "executionInfo": {
     "elapsed": 206,
     "status": "ok",
     "timestamp": 1663246586291,
     "user": {
      "displayName": "강사",
      "userId": "16181995035441534154"
     },
     "user_tz": -540
    },
    "id": "MmLOkGg44IDA",
    "outputId": "5cb96e6c-2d35-42f8-b516-ad92ddd5ba71"
   },
   "outputs": [
    {
     "name": "stdout",
     "output_type": "stream",
     "text": [
      "Hello World!\n",
      "\n",
      "Hello World!2\n",
      "\n",
      "Hello World!3\n"
     ]
    }
   ],
   "source": [
    "with open(\"saved/Hello.txt\",\"r\") as f:\n",
    "    for i in range(3):\n",
    "        s=f.readline() # for랑 같이 써서 한줄씩 읽을 수도\n",
    "        print(s)"
   ]
  },
  {
   "cell_type": "code",
   "execution_count": null,
   "metadata": {
    "colab": {
     "base_uri": "https://localhost:8080/"
    },
    "executionInfo": {
     "elapsed": 192,
     "status": "ok",
     "timestamp": 1663246586291,
     "user": {
      "displayName": "강사",
      "userId": "16181995035441534154"
     },
     "user_tz": -540
    },
    "id": "3iuAap074Pz1",
    "outputId": "8f213d4d-eae2-4989-c771-e73ea9f65533"
   },
   "outputs": [
    {
     "name": "stdout",
     "output_type": "stream",
     "text": [
      "Hello World!\n",
      "Hello World!2\n",
      "Hello World!3"
     ]
    }
   ],
   "source": [
    "with open(\"saved/Hello.txt\",\"r\") as f:\n",
    "    line=None # None으로 해야 공백(\"\")과 구별이 돼서 while이 돈다.\n",
    "    while line != \"\":\n",
    "        line = f.readline()\n",
    "        print(line, end=\"\")"
   ]
  },
  {
   "cell_type": "markdown",
   "metadata": {
    "id": "ak7p9W8a5UoI"
   },
   "source": [
    "## pickle로 저장하기 (내 필기용)"
   ]
  },
  {
   "cell_type": "code",
   "execution_count": null,
   "metadata": {
    "id": "-dnBEDOs4jUk"
   },
   "outputs": [],
   "source": [
    "import pickle\n",
    "\n",
    "name=\"James\"\n",
    "age = 20\n",
    "\n",
    "with open(\"saved/james.p\",\"wb\") as file: # .p는 임의의 확장자\n",
    "    pickle.dump(name, file)\n",
    "    pickle.dump(age,file)"
   ]
  },
  {
   "cell_type": "code",
   "execution_count": null,
   "metadata": {
    "colab": {
     "base_uri": "https://localhost:8080/"
    },
    "executionInfo": {
     "elapsed": 181,
     "status": "ok",
     "timestamp": 1663246586291,
     "user": {
      "displayName": "강사",
      "userId": "16181995035441534154"
     },
     "user_tz": -540
    },
    "id": "DQm1O0gx6CZI",
    "outputId": "de46440a-ddc1-407f-e6bd-48ad5a745f41"
   },
   "outputs": [
    {
     "name": "stdout",
     "output_type": "stream",
     "text": [
      "James\n",
      "20\n"
     ]
    }
   ],
   "source": [
    "with open(\"saved/james.p\",\"rb\") as file:\n",
    "    name_load=pickle.load(file)\n",
    "    age_load=pickle.load(file)\n",
    "print(name_load)\n",
    "print(age_load)"
   ]
  },
  {
   "cell_type": "markdown",
   "metadata": {
    "id": "GlacsxQn7eQa"
   },
   "source": [
    "## 회문 판별하기 (내 필기용)"
   ]
  },
  {
   "cell_type": "code",
   "execution_count": null,
   "metadata": {
    "colab": {
     "base_uri": "https://localhost:8080/"
    },
    "executionInfo": {
     "elapsed": 171,
     "status": "ok",
     "timestamp": 1663246586291,
     "user": {
      "displayName": "강사",
      "userId": "16181995035441534154"
     },
     "user_tz": -540
    },
    "id": "xh3aquy27g59",
    "outputId": "0bc91daa-5452-4017-d83b-098175098dc8"
   },
   "outputs": [
    {
     "name": "stdout",
     "output_type": "stream",
     "text": [
      "cycle? (method1) = True\n",
      "\n",
      "cycle? (method2) = True\n",
      "\n",
      "cycle? (method3) = True\n",
      "\n",
      "cycle? (method4) = True\n"
     ]
    }
   ],
   "source": [
    "word=\"level\"\n",
    "\n",
    "is_cycle = True\n",
    "for i in range(len(word)//2):\n",
    "    if word[i] != word[-1-i]:\n",
    "        is_cycle = False\n",
    "        break\n",
    "print(\"cycle? (method1) =\", is_cycle)\n",
    "print()\n",
    "print(\"cycle? (method2) =\",list(word)==list(reversed(word)))\n",
    "print()\n",
    "print(\"cycle? (method3) =\", word==word[::-1])\n",
    "print()\n",
    "print(\"cycle? (method4) =\",word==\"\".join(reversed(word)))"
   ]
  },
  {
   "cell_type": "markdown",
   "metadata": {
    "id": "Vfj8tSR3CKxj"
   },
   "source": [
    "## N-gram (내 필기용)"
   ]
  },
  {
   "cell_type": "code",
   "execution_count": null,
   "metadata": {
    "colab": {
     "base_uri": "https://localhost:8080/"
    },
    "executionInfo": {
     "elapsed": 170,
     "status": "ok",
     "timestamp": 1663246586291,
     "user": {
      "displayName": "강사",
      "userId": "16181995035441534154"
     },
     "user_tz": -540
    },
    "id": "BiQqUhe_Bnr-",
    "outputId": "318817d2-225f-4380-cf81-87df9cd0722f"
   },
   "outputs": [
    {
     "name": "stdout",
     "output_type": "stream",
     "text": [
      "He\n",
      "el\n",
      "ll\n",
      "lo\n"
     ]
    }
   ],
   "source": [
    "text=\"Hello\"\n",
    "\n",
    "for i in range(len(text)-1):\n",
    "    print(text[i:i+2])"
   ]
  },
  {
   "cell_type": "code",
   "execution_count": null,
   "metadata": {
    "colab": {
     "base_uri": "https://localhost:8080/"
    },
    "executionInfo": {
     "elapsed": 170,
     "status": "ok",
     "timestamp": 1663246586291,
     "user": {
      "displayName": "강사",
      "userId": "16181995035441534154"
     },
     "user_tz": -540
    },
    "id": "Y6bm1G_W776S",
    "outputId": "db1b3d0e-399b-42c4-b0c5-d29ae06dd5d1"
   },
   "outputs": [
    {
     "name": "stdout",
     "output_type": "stream",
     "text": [
      "['this', 'is', 'python', 'script']\n",
      "this is\n",
      "is python\n",
      "python script\n"
     ]
    }
   ],
   "source": [
    "text=\"this is python script\"\n",
    "words = text.split()\n",
    "print(words)\n",
    "for i in range(len(words)-1):\n",
    "    print(words[i], words[i+1])"
   ]
  },
  {
   "cell_type": "code",
   "execution_count": null,
   "metadata": {
    "colab": {
     "base_uri": "https://localhost:8080/"
    },
    "executionInfo": {
     "elapsed": 170,
     "status": "ok",
     "timestamp": 1663246586291,
     "user": {
      "displayName": "강사",
      "userId": "16181995035441534154"
     },
     "user_tz": -540
    },
    "id": "xKGIogRzBcYS",
    "outputId": "6e263d9d-cfb5-4838-9434-86ff028027d5"
   },
   "outputs": [
    {
     "name": "stdout",
     "output_type": "stream",
     "text": [
      "('h', 'e')\n",
      "('e', 'l')\n",
      "('l', 'l')\n",
      "('l', 'o')\n"
     ]
    }
   ],
   "source": [
    "text=\"hello\"\n",
    "two_gram = zip(text, text[1:]) # zip 했을 때 뒤에 남는 애는 알아서 걸러짐\n",
    "for i in two_gram:\n",
    "    # print(i[0], i[1], sep=\"\")\n",
    "    print(i)"
   ]
  },
  {
   "cell_type": "code",
   "execution_count": null,
   "metadata": {
    "colab": {
     "base_uri": "https://localhost:8080/"
    },
    "executionInfo": {
     "elapsed": 170,
     "status": "ok",
     "timestamp": 1663246586291,
     "user": {
      "displayName": "강사",
      "userId": "16181995035441534154"
     },
     "user_tz": -540
    },
    "id": "gUz1Op5HOyHt",
    "outputId": "3cf8d40d-dc1b-4734-9623-58e9f8864e01"
   },
   "outputs": [
    {
     "name": "stdout",
     "output_type": "stream",
     "text": [
      "['this', 'is', 'python', 'script']\n"
     ]
    },
    {
     "data": {
      "text/plain": [
       "[('this', 'is'), ('is', 'python'), ('python', 'script')]"
      ]
     },
     "execution_count": 213,
     "metadata": {},
     "output_type": "execute_result"
    }
   ],
   "source": [
    "text=\"this is python script\"\n",
    "words = text.split()\n",
    "print(words)\n",
    "list(zip(words, words[1:])) # zip 했을 때 뒤에 남는 애는 알아서 걸러짐"
   ]
  },
  {
   "cell_type": "code",
   "execution_count": null,
   "metadata": {
    "colab": {
     "base_uri": "https://localhost:8080/"
    },
    "executionInfo": {
     "elapsed": 169,
     "status": "ok",
     "timestamp": 1663246586291,
     "user": {
      "displayName": "강사",
      "userId": "16181995035441534154"
     },
     "user_tz": -540
    },
    "id": "wr8Mqgi2QhGU",
    "outputId": "0f6a333e-9434-409e-c70c-aac2a4e7738c"
   },
   "outputs": [
    {
     "name": "stdout",
     "output_type": "stream",
     "text": [
      "[('h', 'e', 'l'), ('e', 'l', 'l'), ('l', 'l', 'o')]\n",
      "[('h', 'e', 'l'), ('e', 'l', 'l'), ('l', 'l', 'o')]\n",
      "[('h', 'e', 'l'), ('e', 'l', 'l'), ('l', 'l', 'o')]\n"
     ]
    }
   ],
   "source": [
    "print(list(zip(*[\"hello\",\"ello\",\"llo\"])))\n",
    "# zip 했을 때 뒤에 남는 애는 알아서 걸러짐 (hello의 뒤 lo는 걸러졌음)\n",
    "# *이 있어야 단어를 글자단위로 쪼갬\n",
    "# 즉, list를 문자열로 바꿈 [\"hello\"]는 크기 1짜리 list, \"hello\" 는 길이 5짜리 문자열\n",
    "\n",
    "a=\"hello\"\n",
    "b=\"ello\"\n",
    "c=\"llo\"\n",
    "print(list(zip(a,b,c))) # 이것과 같다\n",
    "\n",
    "word=\"hello\"\n",
    "print(list(zip(*[word[i:] for i in range(3)]))) #리스트 표현식"
   ]
  },
  {
   "cell_type": "markdown",
   "metadata": {
    "id": "KsFOQtJzRxrd"
   },
   "source": [
    "## 코딩의 꽃! 함수"
   ]
  },
  {
   "cell_type": "code",
   "execution_count": null,
   "metadata": {
    "colab": {
     "base_uri": "https://localhost:8080/"
    },
    "executionInfo": {
     "elapsed": 169,
     "status": "ok",
     "timestamp": 1663246586291,
     "user": {
      "displayName": "강사",
      "userId": "16181995035441534154"
     },
     "user_tz": -540
    },
    "id": "8TjN_fgXRy5Q",
    "outputId": "d0f89fc7-9537-4503-d60f-66ff98007932"
   },
   "outputs": [
    {
     "data": {
      "text/plain": [
       "4"
      ]
     },
     "execution_count": 215,
     "metadata": {},
     "output_type": "execute_result"
    }
   ],
   "source": [
    "def f(x): # x 라는 이름으로 변수를 입력 받아 x**2 을 출력하는 f라는 이름의 함수를 정의해라 (define)\n",
    "    return x**2\n",
    "\n",
    "f(-2) # function call. print라는 함수를 여태 부른 것이다"
   ]
  },
  {
   "cell_type": "code",
   "execution_count": null,
   "metadata": {
    "colab": {
     "base_uri": "https://localhost:8080/"
    },
    "executionInfo": {
     "elapsed": 169,
     "status": "ok",
     "timestamp": 1663246586291,
     "user": {
      "displayName": "강사",
      "userId": "16181995035441534154"
     },
     "user_tz": -540
    },
    "id": "gD65Soydy5FQ",
    "outputId": "9f262d79-886b-4545-9ccc-0f1ac3ad6e55"
   },
   "outputs": [
    {
     "name": "stdout",
     "output_type": "stream",
     "text": [
      "Hello World!\n",
      "Hello World!\n",
      "Hello World!\n"
     ]
    }
   ],
   "source": [
    "def say():\n",
    "    print(\"Hello World!\")\n",
    "say()\n",
    "say()\n",
    "say()"
   ]
  },
  {
   "cell_type": "code",
   "execution_count": null,
   "metadata": {
    "colab": {
     "base_uri": "https://localhost:8080/"
    },
    "executionInfo": {
     "elapsed": 986,
     "status": "ok",
     "timestamp": 1671693870631,
     "user": {
      "displayName": "강사",
      "userId": "16181995035441534154"
     },
     "user_tz": -540
    },
    "id": "JorWkHF6R7GT",
    "outputId": "1ea693cb-18c9-4b74-8cb4-add73cd2a3f9"
   },
   "outputs": [
    {
     "name": "stdout",
     "output_type": "stream",
     "text": [
      "3\n"
     ]
    }
   ],
   "source": [
    "def add(a,b):\n",
    "    print(a+b)\n",
    "add(1,2)\n",
    "# x=add(1,2) # 내 필기용\n",
    "# print(x)"
   ]
  },
  {
   "cell_type": "code",
   "execution_count": null,
   "metadata": {
    "colab": {
     "base_uri": "https://localhost:8080/"
    },
    "executionInfo": {
     "elapsed": 151,
     "status": "ok",
     "timestamp": 1663246586292,
     "user": {
      "displayName": "강사",
      "userId": "16181995035441534154"
     },
     "user_tz": -540
    },
    "id": "9e4IWfOTSEdS",
    "outputId": "546739f3-90fd-4e97-f84b-94cc91eb2c58"
   },
   "outputs": [
    {
     "name": "stdout",
     "output_type": "stream",
     "text": [
      "3\n"
     ]
    }
   ],
   "source": [
    "def add(a,b):\n",
    "    return a+b\n",
    "\n",
    "c = add(1,2)\n",
    "c"
   ]
  },
  {
   "cell_type": "code",
   "execution_count": null,
   "metadata": {
    "colab": {
     "base_uri": "https://localhost:8080/"
    },
    "executionInfo": {
     "elapsed": 142,
     "status": "ok",
     "timestamp": 1663246586292,
     "user": {
      "displayName": "강사",
      "userId": "16181995035441534154"
     },
     "user_tz": -540
    },
    "id": "FQlls1w3uH9F",
    "outputId": "c20ccaab-c7a7-4aa8-c348-58689fd07ee8"
   },
   "outputs": [
    {
     "name": "stdout",
     "output_type": "stream",
     "text": [
      "3\n"
     ]
    }
   ],
   "source": [
    "def add(a,b):\n",
    "    c = a+b\n",
    "    return c\n",
    "\n",
    "add(1,2)\n",
    "# c # 런타임 다시 시작 이후 실행 -> a,b,c 변수명은 함수 안에서만 쓰인 것!"
   ]
  },
  {
   "cell_type": "code",
   "execution_count": null,
   "metadata": {
    "colab": {
     "base_uri": "https://localhost:8080/"
    },
    "executionInfo": {
     "elapsed": 424,
     "status": "ok",
     "timestamp": 1671694169552,
     "user": {
      "displayName": "강사",
      "userId": "16181995035441534154"
     },
     "user_tz": -540
    },
    "id": "AmAO6LPaqbQ8",
    "outputId": "69fd6493-c5aa-4d16-962c-b589b7b02b88"
   },
   "outputs": [
    {
     "name": "stdout",
     "output_type": "stream",
     "text": [
      "3\n",
      "[5, 2]\n"
     ]
    }
   ],
   "source": [
    "def f(a):\n",
    "    a=5\n",
    "a=3\n",
    "f(a)\n",
    "print(a)\n",
    "\n",
    "# call by assignment\n",
    "def f(x):\n",
    "    x[0]=5 # 내부에서 리스트 자체에 접근하면 (mutable하면 속 값이 변해서 밖에서도 변해있음!)\n",
    "\n",
    "a=[1,2]\n",
    "f(a)\n",
    "print(a)"
   ]
  },
  {
   "cell_type": "code",
   "execution_count": null,
   "metadata": {
    "colab": {
     "base_uri": "https://localhost:8080/"
    },
    "executionInfo": {
     "elapsed": 345,
     "status": "ok",
     "timestamp": 1663247979353,
     "user": {
      "displayName": "강사",
      "userId": "16181995035441534154"
     },
     "user_tz": -540
    },
    "id": "0YFL8asZZAZU",
    "outputId": "5d6b05a0-93fd-4adb-a786-e00a15077a4e"
   },
   "outputs": [
    {
     "name": "stdout",
     "output_type": "stream",
     "text": [
      "30 -10\n",
      "(30, -10)\n"
     ]
    }
   ],
   "source": [
    "def add_sub(a,b):\n",
    "    c=a+b\n",
    "    d=a-b\n",
    "    return c, d\n",
    "\n",
    "x,y=add_sub(10,20)\n",
    "print(x,y)\n",
    "\n",
    "x = add_sub(10,20) # 하나로 받으면? 튜플로 묶어서 줌\n",
    "print(x)"
   ]
  },
  {
   "cell_type": "code",
   "execution_count": null,
   "metadata": {
    "colab": {
     "base_uri": "https://localhost:8080/"
    },
    "executionInfo": {
     "elapsed": 114,
     "status": "ok",
     "timestamp": 1663246586292,
     "user": {
      "displayName": "강사",
      "userId": "16181995035441534154"
     },
     "user_tz": -540
    },
    "id": "hjrQxIgLajYj",
    "outputId": "5e4b54bf-ad2d-4351-8981-e6880062a63b"
   },
   "outputs": [
    {
     "name": "stdout",
     "output_type": "stream",
     "text": [
      "30\n",
      "200\n"
     ]
    }
   ],
   "source": [
    "def add(a,b):\n",
    "    return a+b\n",
    "def mul(a,b):\n",
    "    return a*b\n",
    "def show_addmul(a,b): # a=10, b=20\n",
    "    print(add(a,b))\n",
    "    print(mul(a,b))\n",
    "\n",
    "show_addmul(10,20)"
   ]
  },
  {
   "cell_type": "code",
   "execution_count": null,
   "metadata": {
    "colab": {
     "base_uri": "https://localhost:8080/"
    },
    "executionInfo": {
     "elapsed": 105,
     "status": "ok",
     "timestamp": 1663246586292,
     "user": {
      "displayName": "강사",
      "userId": "16181995035441534154"
     },
     "user_tz": -540
    },
    "id": "yUjBbc6Wbicr",
    "outputId": "8572597f-b5c7-4614-d307-b6d83585d89c"
   },
   "outputs": [
    {
     "name": "stdout",
     "output_type": "stream",
     "text": [
      "(10, 20)\n",
      "10 20\n",
      "30\n",
      "200\n"
     ]
    }
   ],
   "source": [
    "x=(10,20)\n",
    "print(x)\n",
    "print(*x) # 언패킹\n",
    "# show_addmul(x) # error!\n",
    "show_addmul(*x)"
   ]
  },
  {
   "cell_type": "code",
   "execution_count": null,
   "metadata": {
    "colab": {
     "base_uri": "https://localhost:8080/"
    },
    "executionInfo": {
     "elapsed": 95,
     "status": "ok",
     "timestamp": 1663246586292,
     "user": {
      "displayName": "강사",
      "userId": "16181995035441534154"
     },
     "user_tz": -540
    },
    "id": "bNyOYhExu1-4",
    "outputId": "bdd291fd-7ed9-4106-afdb-c617c92f46c0"
   },
   "outputs": [
    {
     "name": "stdout",
     "output_type": "stream",
     "text": [
      "a 에는 (1,) 가 들어가있다. 타입은 <class 'tuple'> 라고 한다\n"
     ]
    }
   ],
   "source": [
    "def my_func(*a): # 첨엔 a로 하셈 # a는 튜플로 패킹되어있다\n",
    "    print(f\"a 에는 {a} 가 들어가있다. 타입은 {type(a)} 라고 한다\" )\n",
    "\n",
    "my_func(1) # my_func(1,2,3,4,5,6) 도 보여주셈"
   ]
  },
  {
   "cell_type": "code",
   "execution_count": null,
   "metadata": {
    "colab": {
     "base_uri": "https://localhost:8080/"
    },
    "executionInfo": {
     "elapsed": 85,
     "status": "ok",
     "timestamp": 1663246586292,
     "user": {
      "displayName": "강사",
      "userId": "16181995035441534154"
     },
     "user_tz": -540
    },
    "id": "jXM3FGxWbEyT",
    "outputId": "f0dbbdd6-b8f3-4a41-c935-d7bc547d6fa8"
   },
   "outputs": [
    {
     "name": "stdout",
     "output_type": "stream",
     "text": [
      "args 에는 (1, 2, 'ㅋ', 4, 5) 가 들어가있다. 타입은 <class 'tuple'> 라고 한다\n",
      "1\n",
      "2\n",
      "ㅋ\n",
      "4\n",
      "5\n"
     ]
    }
   ],
   "source": [
    "def my_func(*args): # args: arguments\n",
    "    print(f\"args 에는 {args} 가 들어가있다. 타입은 {type(args)} 라고 한다\" )\n",
    "    for i in args:\n",
    "        print(i)\n",
    "\n",
    "my_func(1,2,\"ㅋ\",4,5)"
   ]
  },
  {
   "cell_type": "code",
   "execution_count": null,
   "metadata": {
    "id": "im7RpAd56QUx"
   },
   "outputs": [],
   "source": [
    "# 이건 별로다\n",
    "# def my_func(*args):\n",
    "#     for i in args:\n",
    "#         print(i)\n",
    "\n",
    "# my_func(\"구독자1\")\n",
    "# my_func(\"구독자1\",\"구독자2\",\"구독자3\")\n",
    "# # 구독자 이름을 print 하려는데 가변적임 (리스트를 넘기면 되지 않을까하는 의문은 남음)"
   ]
  },
  {
   "cell_type": "code",
   "execution_count": null,
   "metadata": {
    "colab": {
     "base_uri": "https://localhost:8080/"
    },
    "executionInfo": {
     "elapsed": 65,
     "status": "ok",
     "timestamp": 1663246586292,
     "user": {
      "displayName": "강사",
      "userId": "16181995035441534154"
     },
     "user_tz": -540
    },
    "id": "85wpFn0C-le_",
    "outputId": "c5aa99e0-fba5-4d52-c4d0-cc229308edd7"
   },
   "outputs": [
    {
     "name": "stdout",
     "output_type": "stream",
     "text": [
      "이름은 혁펜이고 나이는 100살이고 사는 데는 한국이다\n",
      "이름은 혁펜이고 나이는 한국살이고 사는 데는 100이다\n",
      "이름은 혁펜이고 나이는 100살이고 사는 데는 한국이다\n",
      "이름은 혁펜이고 나이는 100살이고 사는 데는 한국이다\n"
     ]
    }
   ],
   "source": [
    "def introduce(name, age, address):\n",
    "    print(f\"이름은 {name}이고 나이는 {age}살이고 사는 데는 {address}이다\")\n",
    "\n",
    "introduce(\"혁펜\",100,\"한국\")\n",
    "introduce(\"혁펜\",\"한국\",100)\n",
    "introduce(name=\"혁펜\", address=\"한국\",age=100)\n",
    "\n",
    "name = \"혁펜\"\n",
    "address = \"한국\"\n",
    "age = 100\n",
    "introduce(name=name, address=address, age=age)"
   ]
  },
  {
   "cell_type": "code",
   "execution_count": null,
   "metadata": {
    "colab": {
     "base_uri": "https://localhost:8080/"
    },
    "executionInfo": {
     "elapsed": 56,
     "status": "ok",
     "timestamp": 1663246586292,
     "user": {
      "displayName": "강사",
      "userId": "16181995035441534154"
     },
     "user_tz": -540
    },
    "id": "HSqx5_sj-ln-",
    "outputId": "5ed7c11b-6dfd-455f-93e2-17fd8c4f84a5"
   },
   "outputs": [
    {
     "name": "stdout",
     "output_type": "stream",
     "text": [
      "이름은 혁펜이고 나이는 100살이고 사는데는 한국이다\n",
      "이름은 혁펜이고 나이는 100살이고 사는데는 비밀이다\n",
      "이름은 혁펜이고 나이는 비밀살이고 사는데는 비밀이다\n"
     ]
    }
   ],
   "source": [
    "def introduce1(name, age, address):\n",
    "    print(f\"이름은 {name}이고 나이는 {age}살이고 사는데는 {address}이다\")\n",
    "\n",
    "def introduce2(name, age=\"비밀\", address=\"비밀\"): # 디폴트 값이다!\n",
    "    print(f\"이름은 {name}이고 나이는 {age}살이고 사는데는 {address}이다\")\n",
    "\n",
    "introduce1(name=\"혁펜\", age=100, address=\"한국\")\n",
    "# introduce1(name=\"혁펜\", age=100) # error!\n",
    "introduce2(name=\"혁펜\", age=100) # 나머지는 디폴트로!\n",
    "introduce2(name=\"혁펜\") # 나머지는 디폴트로!\n",
    "# introduce2(age=100, address=\"한국\") # 이름은 꼭 써야함"
   ]
  },
  {
   "cell_type": "code",
   "execution_count": null,
   "metadata": {
    "colab": {
     "base_uri": "https://localhost:8080/"
    },
    "executionInfo": {
     "elapsed": 46,
     "status": "ok",
     "timestamp": 1663246586292,
     "user": {
      "displayName": "강사",
      "userId": "16181995035441534154"
     },
     "user_tz": -540
    },
    "id": "2wBswpQ6-lqi",
    "outputId": "271ae5d0-aaac-4e63-e3de-0645af6fb41a"
   },
   "outputs": [
    {
     "name": "stdout",
     "output_type": "stream",
     "text": [
      "이름은 비밀이고 나이는 비밀살이고 사는데는 비밀이다\n"
     ]
    }
   ],
   "source": [
    "# def introduce3(name=\"비밀\", age, address=\"비밀\"): # 디폴트 값을 정할 녀석들은 모두 뒤쪽으로\n",
    "#     print(f\"이름은 {name}이고 나이는 {age}살이고 사는데는 {address}이다\")\n",
    "\n",
    "def introduce4(name=\"비밀\", age=\"비밀\", address=\"비밀\"):\n",
    "    print(f\"이름은 {name}이고 나이는 {age}살이고 사는데는 {address}이다\")\n",
    "\n",
    "introduce4()"
   ]
  },
  {
   "cell_type": "code",
   "execution_count": null,
   "metadata": {
    "colab": {
     "base_uri": "https://localhost:8080/"
    },
    "executionInfo": {
     "elapsed": 36,
     "status": "ok",
     "timestamp": 1663246586292,
     "user": {
      "displayName": "강사",
      "userId": "16181995035441534154"
     },
     "user_tz": -540
    },
    "id": "zZXwxHXW8jET",
    "outputId": "7af3de38-ed1b-4ed1-8b5a-91aef109d7d1"
   },
   "outputs": [
    {
     "name": "stdout",
     "output_type": "stream",
     "text": [
      "name age address\n",
      "이름은 name이고 나이는 age살이고 사는데는 address이다\n",
      "{'name': '혁펜', 'age': 100, 'address': '한국'}\n",
      "이름은 혁펜이고 나이는 100살이고 사는데는 한국이다\n"
     ]
    }
   ],
   "source": [
    "d = {\"name\":\"혁펜\", \"address\":\"한국\", \"age\":100,}\n",
    "print(*d)\n",
    "introduce4(*d) # introduce4(\"name\",\"address\",\"age\") 와 동일\n",
    "print({**d})\n",
    "introduce4(**d) # introduce4(name=\"혁펜\", address=\"한국\", age=100) 와 동일"
   ]
  },
  {
   "cell_type": "code",
   "execution_count": null,
   "metadata": {
    "colab": {
     "base_uri": "https://localhost:8080/"
    },
    "executionInfo": {
     "elapsed": 26,
     "status": "ok",
     "timestamp": 1663246586292,
     "user": {
      "displayName": "강사",
      "userId": "16181995035441534154"
     },
     "user_tz": -540
    },
    "id": "G32VTFxW8kAA",
    "outputId": "7a455a2d-e73c-4ede-a6a7-338caf034ec0"
   },
   "outputs": [
    {
     "name": "stdout",
     "output_type": "stream",
     "text": [
      "kwargs 에는 {'name': '혁펜'} 가 들어가있다. 타입은 <class 'dict'> 라고 한다\n",
      "kwargs 에는 {'name': '혁펜', 'age': 100, 'address': '한국'} 가 들어가있다. 타입은 <class 'dict'> 라고 한다\n"
     ]
    }
   ],
   "source": [
    "def my_func(**kwargs): # kwargs: keyward arguments, 딕셔너리로 묶어 받는다\n",
    "    print(f\"kwargs 에는 {kwargs} 가 들어가있다. 타입은 {type(kwargs)} 라고 한다\")\n",
    "\n",
    "my_func(name=\"혁펜\")\n",
    "my_func(name=\"혁펜\", age=100, address=\"한국\")\n",
    "# my_func(\"혁펜\", 100, \"한국\") # value만 줬기 땜에 dict를 못 만든다."
   ]
  },
  {
   "cell_type": "code",
   "execution_count": null,
   "metadata": {
    "colab": {
     "base_uri": "https://localhost:8080/"
    },
    "executionInfo": {
     "elapsed": 17,
     "status": "ok",
     "timestamp": 1663246586292,
     "user": {
      "displayName": "강사",
      "userId": "16181995035441534154"
     },
     "user_tz": -540
    },
    "id": "QJnit6m08kx6",
    "outputId": "aa8a1112-eac7-4fdc-9f8c-3370acf393db"
   },
   "outputs": [
    {
     "name": "stdout",
     "output_type": "stream",
     "text": [
      "이름은 혁펜 입니다\n",
      "나이는 100 입니다\n",
      "사는 곳은 한국 입니다\n",
      "이름은 혁펜 입니다\n"
     ]
    }
   ],
   "source": [
    "def introduce(**kwargs):\n",
    "    if \"name\" in kwargs: # \"name\"이라는 key가 kwargs에 있다면\n",
    "        print(\"이름은\", kwargs[\"name\"], \"입니다\")\n",
    "    if \"age\" in kwargs:\n",
    "        print(\"나이는\", kwargs[\"age\"], \"입니다\")\n",
    "    if \"address\" in kwargs:\n",
    "        print(\"사는 곳은\", kwargs[\"address\"], \"입니다\")\n",
    "\n",
    "introduce(name=\"혁펜\", age=100, address=\"한국\")\n",
    "introduce(name=\"혁펜\") # 아깐 안 주면 \"비밀\"로 떴는데, 여기선 아예 뜨지도 않게 만듦"
   ]
  },
  {
   "cell_type": "code",
   "execution_count": null,
   "metadata": {
    "colab": {
     "base_uri": "https://localhost:8080/"
    },
    "executionInfo": {
     "elapsed": 1262,
     "status": "ok",
     "timestamp": 1685004965213,
     "user": {
      "displayName": "강사",
      "userId": "16181995035441534154"
     },
     "user_tz": -540
    },
    "id": "AM-7kAasFxTK",
    "outputId": "5c4ba879-daa0-41e3-f90d-3f75bac0bdea"
   },
   "outputs": [
    {
     "name": "stdout",
     "output_type": "stream",
     "text": [
      "Hello World!\n"
     ]
    }
   ],
   "source": [
    "def say(): # 이런걸 재귀 함수라고 함\n",
    "    print(\"Hello World!\")\n",
    "    # say() # error 방지\n",
    "\n",
    "say()"
   ]
  },
  {
   "cell_type": "code",
   "execution_count": null,
   "metadata": {
    "colab": {
     "base_uri": "https://localhost:8080/"
    },
    "executionInfo": {
     "elapsed": 61,
     "status": "ok",
     "timestamp": 1663246586855,
     "user": {
      "displayName": "강사",
      "userId": "16181995035441534154"
     },
     "user_tz": -540
    },
    "id": "-2_Iv5f3FxVK",
    "outputId": "46c42ca4-bdd1-4a33-9dd9-4352618c7cd4"
   },
   "outputs": [
    {
     "name": "stdout",
     "output_type": "stream",
     "text": [
      "Hello World!\n",
      "Hello World!\n",
      "Hello World!\n"
     ]
    }
   ],
   "source": [
    "def say(count):\n",
    "    if count==0:\n",
    "        return # return을 만나면 함수가 종료된다!\n",
    "\n",
    "    print(\"Hello World!\")\n",
    "    count -= 1\n",
    "    say(count)\n",
    "\n",
    "say(3)"
   ]
  },
  {
   "cell_type": "code",
   "execution_count": null,
   "metadata": {
    "colab": {
     "base_uri": "https://localhost:8080/"
    },
    "executionInfo": {
     "elapsed": 43,
     "status": "ok",
     "timestamp": 1663246586855,
     "user": {
      "displayName": "강사",
      "userId": "16181995035441534154"
     },
     "user_tz": -540
    },
    "id": "qaA9ofLHFxW6",
    "outputId": "d32a3c25-10ed-498a-c88b-a8f4096def6c"
   },
   "outputs": [
    {
     "name": "stdout",
     "output_type": "stream",
     "text": [
      "120\n"
     ]
    }
   ],
   "source": [
    "def factorial(n):\n",
    "    if n==1:\n",
    "        return 1\n",
    "    return n*factorial(n-1)\n",
    "\n",
    "print(factorial(5))"
   ]
  },
  {
   "cell_type": "markdown",
   "metadata": {
    "id": "OAXj7AS77CQN"
   },
   "source": [
    "## 로컬변수와 글로벌 변수"
   ]
  },
  {
   "cell_type": "code",
   "execution_count": null,
   "metadata": {
    "colab": {
     "base_uri": "https://localhost:8080/"
    },
    "executionInfo": {
     "elapsed": 27,
     "status": "ok",
     "timestamp": 1663246586855,
     "user": {
      "displayName": "강사",
      "userId": "16181995035441534154"
     },
     "user_tz": -540
    },
    "id": "12hYHB8jWisv",
    "outputId": "f192b06e-d885-4d7a-866e-8c834180925d"
   },
   "outputs": [
    {
     "name": "stdout",
     "output_type": "stream",
     "text": [
      "0 번째 Epoch 이며  0 번째 batch 입니다\n",
      "0 번째 Epoch 이며  1 번째 batch 입니다\n",
      "0 번째 Epoch 이며  2 번째 batch 입니다\n",
      "0 번째 Epoch 이며  3 번째 batch 입니다\n",
      "0 번째 Epoch 이며  4 번째 batch 입니다\n",
      "1 번째 Epoch 이며  0 번째 batch 입니다\n",
      "1 번째 Epoch 이며  1 번째 batch 입니다\n",
      "1 번째 Epoch 이며  2 번째 batch 입니다\n",
      "1 번째 Epoch 이며  3 번째 batch 입니다\n",
      "1 번째 Epoch 이며  4 번째 batch 입니다\n"
     ]
    },
    {
     "data": {
      "text/plain": [
       "10"
      ]
     },
     "execution_count": 236,
     "metadata": {},
     "output_type": "execute_result"
    }
   ],
   "source": [
    "EPOCH = 2\n",
    "BATCH = 5 # 글로벌 변수\n",
    "\n",
    "def train(weight): # weight는 매개변수 여기서 weight=0을 실행\n",
    "    x = 1 # x는 로컬 변수\n",
    "    for i in range(EPOCH): # 글로벌은 안에서도 쓸 수 있다\n",
    "        for j in range(BATCH):\n",
    "            print(f\"{i} 번째 Epoch 이며  {j} 번째 batch 입니다\")\n",
    "            weight += 1\n",
    "    return weight\n",
    "\n",
    "train(0)\n",
    "# print(x) # 로컬변수라서 밖에서 보면 없는 존재"
   ]
  },
  {
   "cell_type": "code",
   "execution_count": null,
   "metadata": {
    "colab": {
     "base_uri": "https://localhost:8080/"
    },
    "executionInfo": {
     "elapsed": 14,
     "status": "ok",
     "timestamp": 1663246586856,
     "user": {
      "displayName": "강사",
      "userId": "16181995035441534154"
     },
     "user_tz": -540
    },
    "id": "GQBCXhMK6bRe",
    "outputId": "324c4370-9c3a-4944-e4cf-27e105c61dbc"
   },
   "outputs": [
    {
     "name": "stdout",
     "output_type": "stream",
     "text": [
      "20\n",
      "20\n"
     ]
    }
   ],
   "source": [
    "def f():\n",
    "    global x # 안에서 글로벌 변수를 만들 수 있다 (밖에서는 굳이 global 안붙여도 알아서 global 인거고)\n",
    "    x=20\n",
    "    print(x)\n",
    "\n",
    "f()\n",
    "print(x)"
   ]
  },
  {
   "cell_type": "code",
   "execution_count": null,
   "metadata": {
    "colab": {
     "base_uri": "https://localhost:8080/"
    },
    "executionInfo": {
     "elapsed": 13,
     "status": "ok",
     "timestamp": 1663246586856,
     "user": {
      "displayName": "강사",
      "userId": "16181995035441534154"
     },
     "user_tz": -540
    },
    "id": "uwzOXkH95g2l",
    "outputId": "c5c46dd4-9752-4bd0-b7dd-c493301fa62e"
   },
   "outputs": [
    {
     "name": "stdout",
     "output_type": "stream",
     "text": [
      "100\n",
      "10\n"
     ]
    }
   ],
   "source": [
    "x=10\n",
    "def f():\n",
    "    x=100\n",
    "    print(x)\n",
    "\n",
    "\n",
    "f() # 로컬 변수가 출력됨\n",
    "print(x) # 글로벌 변수가 출력됨"
   ]
  },
  {
   "cell_type": "code",
   "execution_count": null,
   "metadata": {
    "colab": {
     "base_uri": "https://localhost:8080/"
    },
    "executionInfo": {
     "elapsed": 13,
     "status": "ok",
     "timestamp": 1663246586856,
     "user": {
      "displayName": "강사",
      "userId": "16181995035441534154"
     },
     "user_tz": -540
    },
    "id": "z-qleTfj5-FG",
    "outputId": "d0f47362-993a-4be8-b89a-496d5c87bb4e"
   },
   "outputs": [
    {
     "name": "stdout",
     "output_type": "stream",
     "text": [
      "20\n",
      "20\n"
     ]
    }
   ],
   "source": [
    "x=10\n",
    "def f():\n",
    "    global x\n",
    "    x=20\n",
    "    print(x)\n",
    "\n",
    "f()\n",
    "print(x) # global이 변해버림"
   ]
  },
  {
   "cell_type": "code",
   "execution_count": null,
   "metadata": {
    "colab": {
     "base_uri": "https://localhost:8080/"
    },
    "executionInfo": {
     "elapsed": 13,
     "status": "ok",
     "timestamp": 1663246586856,
     "user": {
      "displayName": "강사",
      "userId": "16181995035441534154"
     },
     "user_tz": -540
    },
    "id": "A06o4kfC7b3E",
    "outputId": "1f885409-0fb5-4752-ecad-7ab04a50b7e7"
   },
   "outputs": [
    {
     "name": "stdout",
     "output_type": "stream",
     "text": [
      "1\n"
     ]
    }
   ],
   "source": [
    "# 이건 내 필기용\n",
    "# x=1 # 이건 big, small 둘다한테 글로벌\n",
    "def func_big():\n",
    "    x=1\n",
    "    def func_small():\n",
    "        print(x) # small 입장에선 x가 global 임 (global은 상대적인 것)\n",
    "    func_small() # 정의를 하고 사용해야 함\n",
    "\n",
    "# func_small() # 밖에서는 두 번 안으로 들어가면 안보임\n",
    "func_big()"
   ]
  },
  {
   "cell_type": "code",
   "execution_count": null,
   "metadata": {
    "colab": {
     "base_uri": "https://localhost:8080/"
    },
    "executionInfo": {
     "elapsed": 12,
     "status": "ok",
     "timestamp": 1663246586856,
     "user": {
      "displayName": "강사",
      "userId": "16181995035441534154"
     },
     "user_tz": -540
    },
    "id": "OoTqDMnM-Tp1",
    "outputId": "81e9c712-e402-4b9c-8608-c75bfb2a6aa6"
   },
   "outputs": [
    {
     "name": "stdout",
     "output_type": "stream",
     "text": [
      "10\n"
     ]
    }
   ],
   "source": [
    "# 이건 내 필기용\n",
    "def func_big():\n",
    "    x=10\n",
    "    def func_small():\n",
    "        x=20\n",
    "    func_small()\n",
    "    print(x)\n",
    "\n",
    "func_big()"
   ]
  },
  {
   "cell_type": "code",
   "execution_count": null,
   "metadata": {
    "colab": {
     "base_uri": "https://localhost:8080/"
    },
    "executionInfo": {
     "elapsed": 12,
     "status": "ok",
     "timestamp": 1663246586856,
     "user": {
      "displayName": "강사",
      "userId": "16181995035441534154"
     },
     "user_tz": -540
    },
    "id": "vYj_MBa1-shu",
    "outputId": "3c5f1760-f529-4584-e3e2-1f436c291b38"
   },
   "outputs": [
    {
     "name": "stdout",
     "output_type": "stream",
     "text": [
      "20\n"
     ]
    }
   ],
   "source": [
    "# 이건 내 필기용\n",
    "def func_big():\n",
    "    x=10\n",
    "    def func_small():\n",
    "        nonlocal x # global x 는 완전 global이라 nonlocal 이라는 것으로 구별 (가장 가까운 global)\n",
    "        # global x # 이건 완전 global x 가 새롭게 선언되는 셈\n",
    "        x=20\n",
    "    func_small()\n",
    "    print(x)\n",
    "\n",
    "func_big()"
   ]
  },
  {
   "cell_type": "code",
   "execution_count": null,
   "metadata": {
    "colab": {
     "base_uri": "https://localhost:8080/"
    },
    "executionInfo": {
     "elapsed": 12,
     "status": "ok",
     "timestamp": 1663246586856,
     "user": {
      "displayName": "강사",
      "userId": "16181995035441534154"
     },
     "user_tz": -540
    },
    "id": "ym0z7gEo_Q2W",
    "outputId": "a4831153-e508-4691-9d15-26d7962250d8"
   },
   "outputs": [
    {
     "name": "stdout",
     "output_type": "stream",
     "text": [
      "30 300\n",
      "10 300\n"
     ]
    }
   ],
   "source": [
    "# 이건 내 필기용\n",
    "def func_big():\n",
    "    x=10\n",
    "    y=100\n",
    "    def func_small():\n",
    "        x=20\n",
    "        def func_very_small():\n",
    "            nonlocal x # 한칸 위에 x를 바꿈\n",
    "            nonlocal y # 두칸 위에 y를 바꿈 (가장 가까운 global을 가져옴)\n",
    "            x=30\n",
    "            y=300\n",
    "        func_very_small()\n",
    "        print(x,y)\n",
    "    func_small()\n",
    "    print(x,y)\n",
    "\n",
    "func_big()"
   ]
  },
  {
   "cell_type": "code",
   "execution_count": null,
   "metadata": {
    "colab": {
     "base_uri": "https://localhost:8080/"
    },
    "executionInfo": {
     "elapsed": 11,
     "status": "ok",
     "timestamp": 1663246586856,
     "user": {
      "displayName": "강사",
      "userId": "16181995035441534154"
     },
     "user_tz": -540
    },
    "id": "vWAhkQdpU0tr",
    "outputId": "e3c97393-0851-4b7e-9daa-7d53580ebb6a"
   },
   "outputs": [
    {
     "name": "stdout",
     "output_type": "stream",
     "text": [
      "1000\n"
     ]
    }
   ],
   "source": [
    "# 이건 내 필기용\n",
    "x=1\n",
    "def func_big():\n",
    "    x=10\n",
    "    def func_small():\n",
    "        x=100\n",
    "        def func_very_small():\n",
    "            global x # global 은 가장 바깥쪽 변수를 가리킴\n",
    "            x=1000\n",
    "        func_very_small()\n",
    "    func_small()\n",
    "\n",
    "func_big()\n",
    "print(x)"
   ]
  },
  {
   "cell_type": "markdown",
   "metadata": {
    "id": "UlQA1WVbVZ_L"
   },
   "source": [
    "## 람다 표현식"
   ]
  },
  {
   "cell_type": "code",
   "execution_count": null,
   "metadata": {
    "colab": {
     "base_uri": "https://localhost:8080/"
    },
    "executionInfo": {
     "elapsed": 11,
     "status": "ok",
     "timestamp": 1663246586856,
     "user": {
      "displayName": "강사",
      "userId": "16181995035441534154"
     },
     "user_tz": -540
    },
    "id": "Y238pF45FxZq",
    "outputId": "749cd621-b630-440c-b7a2-d0a5040ee8bf"
   },
   "outputs": [
    {
     "data": {
      "text/plain": [
       "20"
      ]
     },
     "execution_count": 245,
     "metadata": {},
     "output_type": "execute_result"
    }
   ],
   "source": [
    "def plus_ten(x):\n",
    "    return x+10\n",
    "plus_ten(10)"
   ]
  },
  {
   "cell_type": "code",
   "execution_count": null,
   "metadata": {
    "colab": {
     "base_uri": "https://localhost:8080/"
    },
    "executionInfo": {
     "elapsed": 11,
     "status": "ok",
     "timestamp": 1663246586856,
     "user": {
      "displayName": "강사",
      "userId": "16181995035441534154"
     },
     "user_tz": -540
    },
    "id": "GsCogFlWFxb6",
    "outputId": "d182a476-8479-465a-c2e5-19ac9bcf7e91"
   },
   "outputs": [
    {
     "data": {
      "text/plain": [
       "20"
      ]
     },
     "execution_count": 246,
     "metadata": {},
     "output_type": "execute_result"
    }
   ],
   "source": [
    "plus_ten = lambda x: x+10 # 입력이 x, 출력이 x+10\n",
    "plus_ten(10)"
   ]
  },
  {
   "cell_type": "code",
   "execution_count": null,
   "metadata": {
    "colab": {
     "base_uri": "https://localhost:8080/"
    },
    "executionInfo": {
     "elapsed": 11,
     "status": "ok",
     "timestamp": 1663246586856,
     "user": {
      "displayName": "강사",
      "userId": "16181995035441534154"
     },
     "user_tz": -540
    },
    "id": "JJhFHc_IWMa9",
    "outputId": "d927b897-cdc3-493c-f86d-147359d0b8bb"
   },
   "outputs": [
    {
     "data": {
      "text/plain": [
       "20"
      ]
     },
     "execution_count": 247,
     "metadata": {},
     "output_type": "execute_result"
    }
   ],
   "source": [
    "(lambda x: x+10)(10)"
   ]
  },
  {
   "cell_type": "code",
   "execution_count": null,
   "metadata": {
    "colab": {
     "base_uri": "https://localhost:8080/"
    },
    "executionInfo": {
     "elapsed": 10,
     "status": "ok",
     "timestamp": 1663246586856,
     "user": {
      "displayName": "강사",
      "userId": "16181995035441534154"
     },
     "user_tz": -540
    },
    "id": "Fl-7Q_s3elXH",
    "outputId": "0634734a-80bd-42aa-d256-30ef57973bd2"
   },
   "outputs": [
    {
     "name": "stdout",
     "output_type": "stream",
     "text": [
      "[11, 12, 13]\n",
      "[11, 12, 13]\n"
     ]
    }
   ],
   "source": [
    "def plus_ten(x):\n",
    "    return x+10\n",
    "print(list(map(plus_ten, [1,2,3]))) # map이라는 녀석은 함수를 입력으로 받는 함수다. 함수, 넣을 녀석들(list) 을 넣어주면 여러번 call해서 값을 얻는다\n",
    "print(list(map(lambda x:x+10, [1,2,3])))"
   ]
  },
  {
   "cell_type": "code",
   "execution_count": null,
   "metadata": {
    "colab": {
     "base_uri": "https://localhost:8080/"
    },
    "executionInfo": {
     "elapsed": 10,
     "status": "ok",
     "timestamp": 1663246586856,
     "user": {
      "displayName": "강사",
      "userId": "16181995035441534154"
     },
     "user_tz": -540
    },
    "id": "6flVO4GR55mm",
    "outputId": "b5e59afc-5845-48a4-f972-3fdddd14d0b6"
   },
   "outputs": [
    {
     "data": {
      "text/plain": [
       "30"
      ]
     },
     "execution_count": 249,
     "metadata": {},
     "output_type": "execute_result"
    }
   ],
   "source": [
    "f = lambda a,b: a+b\n",
    "f(10,20)"
   ]
  },
  {
   "cell_type": "code",
   "execution_count": null,
   "metadata": {
    "colab": {
     "base_uri": "https://localhost:8080/"
    },
    "executionInfo": {
     "elapsed": 10,
     "status": "ok",
     "timestamp": 1663246586856,
     "user": {
      "displayName": "강사",
      "userId": "16181995035441534154"
     },
     "user_tz": -540
    },
    "id": "UBolPjmgfqq9",
    "outputId": "2978bbaf-1791-4920-e4f7-818696892d14"
   },
   "outputs": [
    {
     "name": "stdout",
     "output_type": "stream",
     "text": [
      "[3, 5, 7]\n"
     ]
    }
   ],
   "source": [
    "f = lambda a,b: a+b\n",
    "list(map(f, [1,2,3],[2,3,4]))"
   ]
  },
  {
   "cell_type": "code",
   "execution_count": null,
   "metadata": {
    "colab": {
     "base_uri": "https://localhost:8080/"
    },
    "executionInfo": {
     "elapsed": 10,
     "status": "ok",
     "timestamp": 1663246586857,
     "user": {
      "displayName": "강사",
      "userId": "16181995035441534154"
     },
     "user_tz": -540
    },
    "id": "QZfsoOp4f893",
    "outputId": "fe0b5c91-aeb6-48d0-91b9-8845fdb9f5c0"
   },
   "outputs": [
    {
     "name": "stdout",
     "output_type": "stream",
     "text": [
      "31\n"
     ]
    }
   ],
   "source": [
    "def add_1(a,b):\n",
    "    c=1\n",
    "    return a+b+c\n",
    "print(add_1(10,20))\n",
    "\n",
    "# f = lambda a,b: c=1; a+b+c # def 안에서 변수 선언해서 쓸 수 있는데 lambda는 아님"
   ]
  },
  {
   "cell_type": "code",
   "execution_count": null,
   "metadata": {
    "colab": {
     "base_uri": "https://localhost:8080/"
    },
    "executionInfo": {
     "elapsed": 10,
     "status": "ok",
     "timestamp": 1663246586857,
     "user": {
      "displayName": "강사",
      "userId": "16181995035441534154"
     },
     "user_tz": -540
    },
    "id": "5Vs7-J6sggpw",
    "outputId": "e0d210fd-b6b8-4a72-ce88-46b737803703"
   },
   "outputs": [
    {
     "name": "stdout",
     "output_type": "stream",
     "text": [
      "[1, 4, 3, 8]\n",
      "[1, 4, 3, 8]\n"
     ]
    }
   ],
   "source": [
    "def func(x):\n",
    "    if x%2==0:\n",
    "        return 2*x\n",
    "    else:\n",
    "        return x\n",
    "print(list(map(func,[1,2,3,4])))\n",
    "\n",
    "f = lambda x:2*x if x%2==0 else x\n",
    "print(list(map(f,[1,2,3,4])))\n",
    "\n",
    "# f = lambda x:2*x if x%2==0 # 람다 표현식에서 if 썼으면 반드시 else도 필요!"
   ]
  },
  {
   "cell_type": "code",
   "execution_count": null,
   "metadata": {
    "colab": {
     "base_uri": "https://localhost:8080/"
    },
    "executionInfo": {
     "elapsed": 10,
     "status": "ok",
     "timestamp": 1663246586857,
     "user": {
      "displayName": "강사",
      "userId": "16181995035441534154"
     },
     "user_tz": -540
    },
    "id": "sAqB3v2uhquo",
    "outputId": "28a37720-09f6-40e6-d8d7-9522e0247fbb"
   },
   "outputs": [
    {
     "name": "stdout",
     "output_type": "stream",
     "text": [
      "[2, 6, 3, 4]\n",
      "[2, 6, 3, 4]\n"
     ]
    }
   ],
   "source": [
    "def func(x):\n",
    "    if x==1:\n",
    "        return 2*x\n",
    "    elif x==2:\n",
    "        return 3*x\n",
    "    else:\n",
    "        return x\n",
    "print(list(map(func,[1,2,3,4])))\n",
    "\n",
    "f = lambda x:2*x if x==1 else 3*x if x==2 else x # elif는 안쓰고 else 이거 출력 if ~ 이런 식으로 표현해야 함\n",
    "print(list(map(f,[1,2,3,4])))"
   ]
  },
  {
   "cell_type": "markdown",
   "metadata": {
    "id": "ZAWagAA_jTUY"
   },
   "source": [
    "## filter와 reduce (내 필기용)"
   ]
  },
  {
   "cell_type": "code",
   "execution_count": null,
   "metadata": {
    "colab": {
     "base_uri": "https://localhost:8080/"
    },
    "executionInfo": {
     "elapsed": 10,
     "status": "ok",
     "timestamp": 1663246586857,
     "user": {
      "displayName": "강사",
      "userId": "16181995035441534154"
     },
     "user_tz": -540
    },
    "id": "FhKEBnJziRDY",
    "outputId": "9bb5b7e8-8c88-4b79-fd5d-8701704525b5"
   },
   "outputs": [
    {
     "name": "stdout",
     "output_type": "stream",
     "text": [
      "[7, 9]\n"
     ]
    }
   ],
   "source": [
    "def fil(x):\n",
    "    # print(x>5)\n",
    "    return x > 5\n",
    "a=[1,3,5,7,9]\n",
    "print(list(filter(fil,a))) # filter는 함수의 출력이 True 일 때의 해당 입력값만을 보여줌!\n",
    "# 체에 쳐서 거른다는 느낌"
   ]
  },
  {
   "cell_type": "code",
   "execution_count": null,
   "metadata": {
    "colab": {
     "base_uri": "https://localhost:8080/"
    },
    "executionInfo": {
     "elapsed": 10,
     "status": "ok",
     "timestamp": 1663246586857,
     "user": {
      "displayName": "강사",
      "userId": "16181995035441534154"
     },
     "user_tz": -540
    },
    "id": "FjFlObREjqT4",
    "outputId": "2de505a4-1e79-438a-8379-5d59997230b7"
   },
   "outputs": [
    {
     "name": "stdout",
     "output_type": "stream",
     "text": [
      "[7, 9]\n"
     ]
    }
   ],
   "source": [
    "fil = lambda x: x>5\n",
    "a=[1,3,5,7,9]\n",
    "print(list(filter(fil,a)))"
   ]
  },
  {
   "cell_type": "code",
   "execution_count": null,
   "metadata": {
    "colab": {
     "base_uri": "https://localhost:8080/"
    },
    "executionInfo": {
     "elapsed": 9,
     "status": "ok",
     "timestamp": 1663246586857,
     "user": {
      "displayName": "강사",
      "userId": "16181995035441534154"
     },
     "user_tz": -540
    },
    "id": "h_uYWpPdkK__",
    "outputId": "c27bf689-3158-4fa9-e900-119055de06fa"
   },
   "outputs": [
    {
     "data": {
      "text/plain": [
       "10"
      ]
     },
     "execution_count": 256,
     "metadata": {},
     "output_type": "execute_result"
    }
   ],
   "source": [
    "from functools import reduce\n",
    "a=[1,2,3,4]\n",
    "reduce(lambda x,y:x+y, a) # 이전 결과를 누적해서 함수를 수행함 (일단 1+2를 하고 그다음 3과 더하고 그다음 4와 더하는 방식)"
   ]
  },
  {
   "cell_type": "markdown",
   "metadata": {
    "id": "J4kq1_LaVTJG"
   },
   "source": [
    "## 클로저 (내 필기용)"
   ]
  },
  {
   "cell_type": "code",
   "execution_count": null,
   "metadata": {
    "colab": {
     "base_uri": "https://localhost:8080/"
    },
    "executionInfo": {
     "elapsed": 9,
     "status": "ok",
     "timestamp": 1663246586857,
     "user": {
      "displayName": "강사",
      "userId": "16181995035441534154"
     },
     "user_tz": -540
    },
    "id": "vRyXZCM9kefw",
    "outputId": "e964254e-e39f-45d6-d645-0c8fd6cea978"
   },
   "outputs": [
    {
     "name": "stdout",
     "output_type": "stream",
     "text": [
      "<class 'function'>\n",
      "6\n"
     ]
    }
   ],
   "source": [
    "def func():\n",
    "    def double(x):\n",
    "        return 2*x\n",
    "    return double # 함수를 뱉었다\n",
    "\n",
    "f=func()\n",
    "print(type(f)) # function 객체다\n",
    "print(f(3))"
   ]
  },
  {
   "cell_type": "code",
   "execution_count": null,
   "metadata": {
    "colab": {
     "base_uri": "https://localhost:8080/"
    },
    "executionInfo": {
     "elapsed": 9,
     "status": "ok",
     "timestamp": 1663246586857,
     "user": {
      "displayName": "강사",
      "userId": "16181995035441534154"
     },
     "user_tz": -540
    },
    "id": "ifUiXLAKYOoc",
    "outputId": "16b37df6-473e-48f1-d36c-e97f05f7683d"
   },
   "outputs": [
    {
     "name": "stdout",
     "output_type": "stream",
     "text": [
      "<class 'function'>\n",
      "1\n",
      "3\n",
      "6\n"
     ]
    }
   ],
   "source": [
    "def func():\n",
    "    total=0\n",
    "    def accu(x):\n",
    "        nonlocal total\n",
    "        total = total+x\n",
    "        return total\n",
    "    return accu # 함수를 뱉었다\n",
    "\n",
    "f=func()\n",
    "print(type(f)) # function 객체다\n",
    "print(f(1)) # total 이라는 변수는 func 안에서만 접근가능. 즉, 밖에서는 손도 못댄다. 그래서 클로져\n",
    "print(f(2))\n",
    "print(f(3))"
   ]
  },
  {
   "cell_type": "markdown",
   "metadata": {
    "id": "mU_iYB024iEG"
   },
   "source": [
    "## 클래스"
   ]
  },
  {
   "cell_type": "code",
   "execution_count": null,
   "metadata": {
    "colab": {
     "base_uri": "https://localhost:8080/"
    },
    "executionInfo": {
     "elapsed": 8,
     "status": "ok",
     "timestamp": 1687402272407,
     "user": {
      "displayName": "ppen hyuk",
      "userId": "06590780498642875598"
     },
     "user_tz": -540
    },
    "id": "JwFJpISkhFTX",
    "outputId": "807227de-7876-4514-f10d-2a9ea7296bf4"
   },
   "outputs": [
    {
     "name": "stdout",
     "output_type": "stream",
     "text": [
      "Hello\n"
     ]
    }
   ],
   "source": [
    "# 로봇을 만든다고 해보자 -> 로봇의 키가 몇이고 몸무게가 몇이고, 안녕이라고 말하면서 인사를 하는 기능이 있고..\n",
    "# 클래스는 좀 큰 변수를 만든다고 봐야.. a=1 은 숫자 한 개 들어간 변수\n",
    "# a에 숫자 한 개도 넣고 리스트도 넣고 그것들을 가지고 뭔가 기능을 하는 함수를 만들어 넣고 그럴 순 없을까?\n",
    "# 객체(object) 지향(oriented) 프로그래밍(programming)\n",
    "class Robot:\n",
    "    def greeting(self): # 메서드(method): 클래스 내부의 함수, 첫 번째 매개변수는 무조건 self (인스턴스 자기자신)\n",
    "        print(\"Hello\")\n",
    "\n",
    "bot1 = Robot() # Robot 이라는 클래스에 해당하는 instance 만들기(실체화), 나중에는 ()에 여러가지 입력도 넣을 것임\n",
    "bot1.greeting() # 쩜은 \"이놈이 가지고 있는\" 정도의 의미"
   ]
  },
  {
   "cell_type": "code",
   "execution_count": null,
   "metadata": {
    "id": "A_031sKl8X4-"
   },
   "outputs": [],
   "source": [
    "# 내 필기용\n",
    "# dir(Person) # Person 클래스 내부의 매서드들 열람"
   ]
  },
  {
   "cell_type": "code",
   "execution_count": null,
   "metadata": {
    "colab": {
     "base_uri": "https://localhost:8080/"
    },
    "executionInfo": {
     "elapsed": 7,
     "status": "ok",
     "timestamp": 1687402272408,
     "user": {
      "displayName": "ppen hyuk",
      "userId": "06590780498642875598"
     },
     "user_tz": -540
    },
    "id": "1uHwR_fwikE2",
    "outputId": "62a1a051-18fb-4dfd-85ff-421648b43762"
   },
   "outputs": [
    {
     "name": "stdout",
     "output_type": "stream",
     "text": [
      "<class 'list'>\n",
      "<class '__main__.Robot'>\n"
     ]
    }
   ],
   "source": [
    "a=[1,2,3] # 인스턴스 생성\n",
    "a.append(4) # a 라는 이름의 인스턴스가 append라는 이름의 method 실행\n",
    "print(type(a)) # 정체는 사실 (list라는 이름의) 클래스다!\n",
    "print(type(bot1)) # 정체는 사실 (Robot이라는 이름의)클래스다!"
   ]
  },
  {
   "cell_type": "code",
   "execution_count": null,
   "metadata": {
    "colab": {
     "base_uri": "https://localhost:8080/"
    },
    "executionInfo": {
     "elapsed": 8,
     "status": "ok",
     "timestamp": 1663246586857,
     "user": {
      "displayName": "강사",
      "userId": "16181995035441534154"
     },
     "user_tz": -540
    },
    "id": "oKxKwNN-k3JX",
    "outputId": "5d3e8cf9-f08e-4b7e-f292-0fd02fc6ae21"
   },
   "outputs": [
    {
     "name": "stdout",
     "output_type": "stream",
     "text": [
      "__init__으로 들어옴\n"
     ]
    }
   ],
   "source": [
    "class Robot:\n",
    "    def __init__(self): # initialize 라서 init, 인스턴스 생성 즉시 이 함수로 들어옴\n",
    "    # 이 함수명은 약속된 이름이다 (special method 라고 한다)\n",
    "        print(\"__init__으로 들어옴\")\n",
    "\n",
    "bot1 = Robot() # 인스턴스 만드는 동시에 __init__ 함수 실행"
   ]
  },
  {
   "cell_type": "code",
   "execution_count": null,
   "metadata": {
    "colab": {
     "base_uri": "https://localhost:8080/"
    },
    "executionInfo": {
     "elapsed": 4,
     "status": "ok",
     "timestamp": 1687404140718,
     "user": {
      "displayName": "ppen hyuk",
      "userId": "06590780498642875598"
     },
     "user_tz": -540
    },
    "id": "HwEydKDY9krp",
    "outputId": "fd4bbb05-5b46-484d-c0f9-2deea489af10"
   },
   "outputs": [
    {
     "name": "stdout",
     "output_type": "stream",
     "text": [
      "안뇽\n"
     ]
    }
   ],
   "source": [
    "class Robot:\n",
    "    def __init__(self):\n",
    "        self.sentence = \"안뇽\"\n",
    "        # self는 만들어진 인스턴스 자기자신 자체를 가리킴. self.무엇 은 self 내부의 것(변수,함수)을 가리킴\n",
    "        # 클래스 내부의 변수는 속성(attribute)이라고 한다.\n",
    "    def greeting(self):\n",
    "        # print(sentence) # error!\n",
    "        print(self.sentence) # 주머니에서 sentence를 꺼내 쓴다\n",
    "\n",
    "bot1 = Robot()\n",
    "bot1.greeting()"
   ]
  },
  {
   "cell_type": "code",
   "execution_count": null,
   "metadata": {
    "colab": {
     "base_uri": "https://localhost:8080/"
    },
    "executionInfo": {
     "elapsed": 296,
     "status": "ok",
     "timestamp": 1687404468811,
     "user": {
      "displayName": "ppen hyuk",
      "userId": "06590780498642875598"
     },
     "user_tz": -540
    },
    "id": "yyBsyDQ2opuO",
    "outputId": "08560e6a-d5d8-402c-d7b9-64bfaeb38ccc"
   },
   "outputs": [
    {
     "name": "stdout",
     "output_type": "stream",
     "text": [
      "안녕\n",
      "제 키는 180 이에요\n",
      "180\n",
      "안녕\n",
      "안녕\n",
      "제 키는 170 이에요\n",
      "하이\n",
      "제 키는 160 이에요\n",
      "160\n",
      "하이\n"
     ]
    }
   ],
   "source": [
    "class Robot:\n",
    "    def __init__(self, sentence, height): # 밖에서 넘어오는 매개변수는 무조건 self 뒤에\n",
    "        self.sentence = sentence\n",
    "        self.height = height # self.height는 밖에서 들어온 height 랑은 다른 거임. 클래스 내부에서 써먹을라고 주머니에 넣은 것\n",
    "    def greeting(self):\n",
    "        print(self.sentence)\n",
    "        print(f\"제 키는 {self.height} 이에요\")\n",
    "\n",
    "bot1 = Robot(\"안녕\", 180)\n",
    "bot1.greeting()\n",
    "print(bot1.height) # self.height가 들어가 있다\n",
    "print(bot1.sentence) # self.sentence가 들어가 있다\n",
    "bot1.height -= 10\n",
    "bot1.greeting()\n",
    "\n",
    "bot2 = Robot(\"하이\", 160)\n",
    "bot2.greeting()\n",
    "print(bot2.height)\n",
    "print(bot2.sentence)"
   ]
  },
  {
   "cell_type": "code",
   "execution_count": null,
   "metadata": {
    "colab": {
     "base_uri": "https://localhost:8080/"
    },
    "executionInfo": {
     "elapsed": 317,
     "status": "ok",
     "timestamp": 1687404753729,
     "user": {
      "displayName": "ppen hyuk",
      "userId": "06590780498642875598"
     },
     "user_tz": -540
    },
    "id": "s-mJFnNAq54I",
    "outputId": "c6f17751-b200-48bd-800f-1f8df067b5a0"
   },
   "outputs": [
    {
     "name": "stdout",
     "output_type": "stream",
     "text": [
      "hi\n",
      "제 키는 170 이에요\n",
      "ㅋ\n"
     ]
    }
   ],
   "source": [
    "class Robot:\n",
    "    def __init__(self, sentence, height):\n",
    "        self.sentence = sentence\n",
    "        self.__height = height # 비공개로 만들고 싶은 속성은 앞에 밑줄 두 개\n",
    "\n",
    "    def greeting(self):\n",
    "        print(self.sentence)\n",
    "        self.__height -= 10 # 클래스 내부에서는 변형 가능\n",
    "        print(f\"제 키는 {self.__height} 이에요\")\n",
    "\n",
    "bot1 = Robot(\"hi\", 180)\n",
    "bot1.greeting()\n",
    "# print(bot1.__height)\n",
    "# bot1.__height -= 10 # error! self.__height 는 밖에서 접근이 안된다..!\n",
    "\n",
    "bot1.sentence = \"ㅋ\"\n",
    "print(bot1.sentence)"
   ]
  },
  {
   "cell_type": "code",
   "execution_count": null,
   "metadata": {
    "colab": {
     "base_uri": "https://localhost:8080/"
    },
    "executionInfo": {
     "elapsed": 1300,
     "status": "ok",
     "timestamp": 1670825192298,
     "user": {
      "displayName": "강사",
      "userId": "16181995035441534154"
     },
     "user_tz": -540
    },
    "id": "YZQVyIPSsgS_",
    "outputId": "7c65091a-13ac-47ce-91b5-9bb15d05a1c9"
   },
   "outputs": [
    {
     "name": "stdout",
     "output_type": "stream",
     "text": [
      "['충전기']\n",
      "['선크림']\n"
     ]
    }
   ],
   "source": [
    "# 클래스 속성 설명을 위한 것. 이건 그냥 넘어가자\n",
    "class Person:\n",
    "    def __init__(self):\n",
    "        self.bag = [] # 이건 인스턴스 속성\n",
    "    def put_bag(self, stuff):\n",
    "        self.bag += [stuff]\n",
    "hyuk = Person()\n",
    "hyuk.put_bag(\"충전기\")\n",
    "\n",
    "friend = Person()\n",
    "friend.put_bag(\"선크림\")\n",
    "\n",
    "print(hyuk.bag)\n",
    "print(friend.bag)\n",
    "\n",
    "# print(Person.bag) # error!"
   ]
  },
  {
   "cell_type": "code",
   "execution_count": null,
   "metadata": {
    "colab": {
     "base_uri": "https://localhost:8080/"
    },
    "executionInfo": {
     "elapsed": 5,
     "status": "ok",
     "timestamp": 1670825192299,
     "user": {
      "displayName": "강사",
      "userId": "16181995035441534154"
     },
     "user_tz": -540
    },
    "id": "eCa0eJcMtT2B",
    "outputId": "56915de2-f3bf-4ef1-b795-9e29aa697a37"
   },
   "outputs": [
    {
     "name": "stdout",
     "output_type": "stream",
     "text": [
      "['충전기', '선크림']\n",
      "['충전기', '선크림']\n",
      "['충전기', '선크림']\n"
     ]
    }
   ],
   "source": [
    "# 클래스 속성 설명을 위한 것. 이건 그냥 넘어가자\n",
    "class Person:\n",
    "    bag=[] # 클래스 속성이라는 놈. 공유된다!\n",
    "    def put_bag(self, stuff):\n",
    "        Person.bag += [stuff]\n",
    "hyuk = Person()\n",
    "hyuk.put_bag(\"충전기\")\n",
    "\n",
    "friend = Person()\n",
    "friend.put_bag(\"선크림\")\n",
    "\n",
    "print(hyuk.bag)\n",
    "print(friend.bag)\n",
    "\n",
    "print(Person.bag)"
   ]
  },
  {
   "cell_type": "code",
   "execution_count": null,
   "metadata": {
    "colab": {
     "base_uri": "https://localhost:8080/"
    },
    "executionInfo": {
     "elapsed": 7,
     "status": "ok",
     "timestamp": 1663246586858,
     "user": {
      "displayName": "강사",
      "userId": "16181995035441534154"
     },
     "user_tz": -540
    },
    "id": "cKg3bhP6tVuA",
    "outputId": "a841c446-65ea-4a09-e64e-291ef4f2569e"
   },
   "outputs": [
    {
     "name": "stdout",
     "output_type": "stream",
     "text": [
      "30\n",
      "200\n"
     ]
    }
   ],
   "source": [
    "# 이건 설명은 생략하자 -> 내 기록용 : 정적 메서드\n",
    "class Calc:\n",
    "    @staticmethod # 데코레이터라 함, 메서드에 추가 기능을 구현할 떄 사용\n",
    "    def add(a,b): # self 안넘겨도 됨\n",
    "        print(a+b) # 인스턴스 속성에는 접근 안된다고 함\n",
    "\n",
    "    @staticmethod\n",
    "    def mul(a,b): # 정적 메서드는 그냥 일반적인 함수랑 같다고 보면 됨\n",
    "        print(a*b)\n",
    "\n",
    "Calc.add(10,20)\n",
    "Calc.mul(10,20)"
   ]
  },
  {
   "cell_type": "code",
   "execution_count": null,
   "metadata": {
    "colab": {
     "base_uri": "https://localhost:8080/"
    },
    "executionInfo": {
     "elapsed": 7,
     "status": "ok",
     "timestamp": 1663246586858,
     "user": {
      "displayName": "강사",
      "userId": "16181995035441534154"
     },
     "user_tz": -540
    },
    "id": "5iptrV7FxwEp",
    "outputId": "22ca64dc-dd88-453d-ad90-7106a740ea5d"
   },
   "outputs": [
    {
     "name": "stdout",
     "output_type": "stream",
     "text": [
      "2 명 생성되었습니다.\n"
     ]
    }
   ],
   "source": [
    "# 이건 설명은 생략하자 -> 내 기록용 : 클래스 메서드\n",
    "class Person:\n",
    "    count = 0 # 클래스 속성\n",
    "\n",
    "    def __init__(self):\n",
    "        Person.count += 1\n",
    "\n",
    "    @classmethod\n",
    "    def print_count(cls): # 반드시 cls를 써줘야 한다고 함\n",
    "        print(cls.count, \"명 생성되었습니다.\")\n",
    "\n",
    "\n",
    "hyuk = Person()\n",
    "hyuk2 = Person()\n",
    "\n",
    "Person.print_count()"
   ]
  },
  {
   "cell_type": "code",
   "execution_count": null,
   "metadata": {
    "colab": {
     "base_uri": "https://localhost:8080/"
    },
    "executionInfo": {
     "elapsed": 7,
     "status": "ok",
     "timestamp": 1663246586858,
     "user": {
      "displayName": "강사",
      "userId": "16181995035441534154"
     },
     "user_tz": -540
    },
    "id": "FUcPjJhDzcmw",
    "outputId": "8c25b5ae-2fd2-42f3-a4ab-48365db175d3"
   },
   "outputs": [
    {
     "name": "stdout",
     "output_type": "stream",
     "text": [
      "안녕하세요\n",
      "열심열심!!\n"
     ]
    }
   ],
   "source": [
    "# 상속 -> 효율화\n",
    "class Robot: # 부모 클래스\n",
    "    def greeting(self):\n",
    "        print(\"로봇입니다\")\n",
    "\n",
    "class Study_bot(Robot): # 자식 클래스, Robot 클래스를 상속 받음 -> Robot이 가지는 함수 사용 가능!\n",
    "    def study(self):\n",
    "        print(\"열심열심!\")\n",
    "\n",
    "bot = Study_bot()\n",
    "bot.study()\n",
    "bot.greeting() # Study_bot 클래스에는 분명 greeting이 없지만 물려받았기 때문에 사용 가능!"
   ]
  },
  {
   "cell_type": "code",
   "execution_count": null,
   "metadata": {
    "colab": {
     "base_uri": "https://localhost:8080/"
    },
    "executionInfo": {
     "elapsed": 7,
     "status": "ok",
     "timestamp": 1663246586858,
     "user": {
      "displayName": "강사",
      "userId": "16181995035441534154"
     },
     "user_tz": -540
    },
    "id": "75fZGqHB7cyD",
    "outputId": "929a61aa-4537-4581-bce8-748b43daab62"
   },
   "outputs": [
    {
     "name": "stdout",
     "output_type": "stream",
     "text": [
      "공부하는 로봇입니다\n"
     ]
    }
   ],
   "source": [
    "# 메서드 오버라이딩 (overriding)\n",
    "class Robot:\n",
    "    def greeting(self):\n",
    "        print(\"로봇입니다\")\n",
    "\n",
    "class Study_bot(Robot):\n",
    "    def greeting(self): # 부모의 greeting을 물려받았으나 여기서 다시 정의하면 덮어써버림\n",
    "        print(\"공부하는 로봇입니다\")\n",
    "\n",
    "bot1 = Study_bot()\n",
    "bot1.greeting()"
   ]
  },
  {
   "cell_type": "code",
   "execution_count": null,
   "metadata": {
    "colab": {
     "base_uri": "https://localhost:8080/"
    },
    "executionInfo": {
     "elapsed": 6,
     "status": "ok",
     "timestamp": 1663246586858,
     "user": {
      "displayName": "강사",
      "userId": "16181995035441534154"
     },
     "user_tz": -540
    },
    "id": "0LWOao9F9B6M",
    "outputId": "7fbabb24-7c1b-4f0c-b13a-ba72d7793a85"
   },
   "outputs": [
    {
     "name": "stdout",
     "output_type": "stream",
     "text": [
      "로봇입니다\n",
      "공부하는 로봇입니다\n"
     ]
    }
   ],
   "source": [
    "class Robot:\n",
    "    def greeting(self):\n",
    "        print(\"로봇입니다\")\n",
    "\n",
    "class Study_bot(Robot):\n",
    "    def greeting(self):\n",
    "        super().greeting() # super()가 부모 클래스를 가리킴 # 부모의 것을 이렇게 사용하는 것 가능\n",
    "        print(\"공부하는 로봇입니다\") # 부모의 원래 기능은 유지, 거기에 덧붙이고 싶을 때 오버라이딩 사용 가능\n",
    "\n",
    "bot1 = Study_bot()\n",
    "bot1.greeting()"
   ]
  },
  {
   "cell_type": "code",
   "execution_count": null,
   "metadata": {
    "colab": {
     "base_uri": "https://localhost:8080/"
    },
    "executionInfo": {
     "elapsed": 316,
     "status": "ok",
     "timestamp": 1687412583535,
     "user": {
      "displayName": "ppen hyuk",
      "userId": "06590780498642875598"
     },
     "user_tz": -540
    },
    "id": "L9nEN7LWLhtk",
    "outputId": "cb6c2250-4a6d-4684-ae79-c9006b2f10c0"
   },
   "outputs": [
    {
     "name": "stdout",
     "output_type": "stream",
     "text": [
      "부모 클래스의 func1 실행\n",
      "자식 클래스의 func2 실행\n",
      "10\n",
      "100\n"
     ]
    }
   ],
   "source": [
    "class Robot:\n",
    "    def func1(self):\n",
    "        print(\"부모 클래스의 func1 실행\")\n",
    "        self.money=100\n",
    "\n",
    "class Study_bot(Robot):\n",
    "    def func2(self):\n",
    "        print(\"자식 클래스의 func2 실행\")\n",
    "        self.book = 10\n",
    "\n",
    "bot1 = Study_bot()\n",
    "bot1.func1() # 처음엔 없이 실행하셈 # 부모 함수를 실행해야 부모의 속성도 가져오게 된다.\n",
    "bot1.func2()\n",
    "print(bot1.book)\n",
    "print(bot1.money)"
   ]
  },
  {
   "cell_type": "code",
   "execution_count": null,
   "metadata": {
    "id": "TsNya2szCYtS"
   },
   "outputs": [],
   "source": [
    "class Robot:\n",
    "    def func1(self):\n",
    "        print(\"부모 클래스의 func1 실행\")\n",
    "        self.money=100\n",
    "\n",
    "class Study_bot(Robot):\n",
    "    def func2(self):\n",
    "        super().func1()\n",
    "        print(\"자식 클래스의 func2 실행\")\n",
    "        self.book = 10\n",
    "\n",
    "bot1 = Study_bot()\n",
    "bot1.func2() # super().func1() 했으니까 func1()을 굳이 안해줘도 됨\n",
    "print(bot1.book)\n",
    "print(bot1.money)"
   ]
  },
  {
   "cell_type": "code",
   "execution_count": null,
   "metadata": {
    "colab": {
     "base_uri": "https://localhost:8080/"
    },
    "executionInfo": {
     "elapsed": 236,
     "status": "ok",
     "timestamp": 1663246587583,
     "user": {
      "displayName": "강사",
      "userId": "16181995035441534154"
     },
     "user_tz": -540
    },
    "id": "PHM4CxeHLhxO",
    "outputId": "500b3ef4-e423-4669-8e2f-195d021c3f84"
   },
   "outputs": [
    {
     "name": "stdout",
     "output_type": "stream",
     "text": [
      "자식 클래스의 init 실행\n",
      "부모 클래스의 init 실행\n",
      "10\n",
      "100\n"
     ]
    }
   ],
   "source": [
    "# 딥러닝 코드에선 아래와 같은 걸 많이 보게 됨\n",
    "class Robot:\n",
    "    def __init__(self):\n",
    "        print(\"부모 클래스의 init 실행\")\n",
    "        self.money=100\n",
    "\n",
    "class Study_bot(Robot):\n",
    "    def __init__(self):\n",
    "        super().__init__()\n",
    "        print(\"자식 클래스의 init 실행\")\n",
    "        self.book = 10\n",
    "\n",
    "bot1 = Study_bot()\n",
    "print(bot1.book)\n",
    "print(bot1.money)"
   ]
  },
  {
   "cell_type": "code",
   "execution_count": null,
   "metadata": {
    "colab": {
     "base_uri": "https://localhost:8080/"
    },
    "executionInfo": {
     "elapsed": 235,
     "status": "ok",
     "timestamp": 1663246587583,
     "user": {
      "displayName": "강사",
      "userId": "16181995035441534154"
     },
     "user_tz": -540
    },
    "id": "Yh0eFF-JLh0-",
    "outputId": "e74cec11-70a2-4eb4-a4c3-d015b88812ab"
   },
   "outputs": [
    {
     "name": "stdout",
     "output_type": "stream",
     "text": [
      "부모 클래스의 init 실행\n",
      "자식 클래스의 func2 실행\n",
      "10\n",
      "100\n"
     ]
    }
   ],
   "source": [
    "class Robot:\n",
    "    def __init__(self):\n",
    "        print(\"부모 클래스의 init 실행\")\n",
    "        self.money=100\n",
    "\n",
    "class Study_bot(Robot):\n",
    "    def func2(self): # 자식 클래스에 __init__이 없다면 부모 클래스의 __init__ 이 자동 호출\n",
    "        print(\"자식 클래스의 func2 실행\")\n",
    "        self.book = 10\n",
    "\n",
    "bot1 = Study_bot()\n",
    "bot1.func2()\n",
    "print(bot1.book)\n",
    "print(bot1.money)"
   ]
  },
  {
   "cell_type": "code",
   "execution_count": null,
   "metadata": {
    "colab": {
     "base_uri": "https://localhost:8080/"
    },
    "executionInfo": {
     "elapsed": 235,
     "status": "ok",
     "timestamp": 1663246587583,
     "user": {
      "displayName": "강사",
      "userId": "16181995035441534154"
     },
     "user_tz": -540
    },
    "id": "S1YwfK1o9vIM",
    "outputId": "0f2d5f84-b6cb-455c-b899-febf227d51f3"
   },
   "outputs": [
    {
     "name": "stdout",
     "output_type": "stream",
     "text": [
      "로봇입니다\n",
      "냠냠\n",
      "열심열심!\n"
     ]
    }
   ],
   "source": [
    "class Robot:\n",
    "    def greeting(self):\n",
    "        print(\"로봇입니다\")\n",
    "\n",
    "class Life:\n",
    "    def eat(self):\n",
    "        print(\"냠냠\")\n",
    "\n",
    "class Study_bot(Robot, Life):\n",
    "    def study(self):\n",
    "        print(\"열심열심!\")\n",
    "\n",
    "bot1 = Study_bot()\n",
    "bot1.greeting()\n",
    "bot1.eat()\n",
    "bot1.study()"
   ]
  },
  {
   "cell_type": "code",
   "execution_count": null,
   "metadata": {
    "colab": {
     "base_uri": "https://localhost:8080/"
    },
    "executionInfo": {
     "elapsed": 235,
     "status": "ok",
     "timestamp": 1663246587583,
     "user": {
      "displayName": "강사",
      "userId": "16181995035441534154"
     },
     "user_tz": -540
    },
    "id": "QhYkd5Fp-s3K",
    "outputId": "9ec5a7ac-1142-4507-92c5-6ef8a2f16e56"
   },
   "outputs": [
    {
     "name": "stdout",
     "output_type": "stream",
     "text": [
      "D 생성\n",
      "B\n"
     ]
    }
   ],
   "source": [
    "# 알쏭달쏭 다이아몬드 상속\n",
    "class A:\n",
    "    def greeting(self):\n",
    "        print(\"A\")\n",
    "\n",
    "class B(A):\n",
    "    def greeting(self):\n",
    "        print(\"B\")\n",
    "\n",
    "class C(A):\n",
    "    def greeting(self):\n",
    "        print(\"C\")\n",
    "\n",
    "class D(B,C): # 가장 왼쪽 것의 greeting을 사용하게 된다 (C,B도 해보셈)\n",
    "    def __init__(self):\n",
    "        print(\"D 생성\")\n",
    "\n",
    "x = D()\n",
    "x.greeting()"
   ]
  },
  {
   "cell_type": "code",
   "execution_count": null,
   "metadata": {
    "colab": {
     "base_uri": "https://localhost:8080/"
    },
    "executionInfo": {
     "elapsed": 234,
     "status": "ok",
     "timestamp": 1663246587583,
     "user": {
      "displayName": "강사",
      "userId": "16181995035441534154"
     },
     "user_tz": -540
    },
    "id": "ooVRgeJk_1iu",
    "outputId": "ebf88dfd-d224-4894-8205-b0fd9c38cc83"
   },
   "outputs": [
    {
     "name": "stdout",
     "output_type": "stream",
     "text": [
      "공부하기\n"
     ]
    }
   ],
   "source": [
    "# 이건 설명은 생략하자 -> 내 기록용 : 추상 클래스\n",
    "from abc import *\n",
    "\n",
    "class StudentBase(metaclass=ABCMeta): # 메서드 목록만 가지고 있는 클래스가 추상 클래스\n",
    "    # 상속 받는 클래스에서 메서드 구현을 강제하기 위해서 사용됨.\n",
    "    @abstractmethod\n",
    "    def study(self):\n",
    "        pass # 추가 클래스는 인스턴스화 하지 않기 때문에 호출할 일도 없음.\n",
    "        # 그냥 어떤 method를 반드시 구현해야 하는지를 알려주기 위한 존재라서 pass로 채움\n",
    "\n",
    "    @abstractmethod\n",
    "    def go_to_school(self):\n",
    "        pass\n",
    "\n",
    "class Student(StudentBase):\n",
    "    def study(self):\n",
    "        print(\"공부하기\")\n",
    "\n",
    "    def go_to_school(self):\n",
    "        print(\"학교가기\")\n",
    "\n",
    "hyuk = Student() # go_to_school 이 주석되어있으면 여기서 error 뜸\n",
    "hyuk.study()\n",
    "\n",
    "# hyuk = StudentBase() # error!"
   ]
  },
  {
   "cell_type": "markdown",
   "metadata": {
    "id": "Rcj8O6U-REgR"
   },
   "source": [
    "## 예외처리하기 (내 필기용)"
   ]
  },
  {
   "cell_type": "code",
   "execution_count": null,
   "metadata": {
    "id": "McL1y6PQRFiw"
   },
   "outputs": [],
   "source": [
    "# 10/0 # error 방지용"
   ]
  },
  {
   "cell_type": "code",
   "execution_count": null,
   "metadata": {
    "colab": {
     "base_uri": "https://localhost:8080/"
    },
    "executionInfo": {
     "elapsed": 234,
     "status": "ok",
     "timestamp": 1663246587583,
     "user": {
      "displayName": "강사",
      "userId": "16181995035441534154"
     },
     "user_tz": -540
    },
    "id": "ieBwoKF2Rlpp",
    "outputId": "a7052d59-013b-4747-9c7b-937bf49d5482"
   },
   "outputs": [
    {
     "name": "stdout",
     "output_type": "stream",
     "text": [
      "0으로 나눈 듯?\n"
     ]
    }
   ],
   "source": [
    "try:\n",
    "    print(10/0)\n",
    "except:\n",
    "    print(\"0으로 나눈 듯?\")"
   ]
  },
  {
   "cell_type": "code",
   "execution_count": null,
   "metadata": {
    "colab": {
     "base_uri": "https://localhost:8080/"
    },
    "executionInfo": {
     "elapsed": 234,
     "status": "ok",
     "timestamp": 1663246587583,
     "user": {
      "displayName": "강사",
      "userId": "16181995035441534154"
     },
     "user_tz": -540
    },
    "id": "XRTdivs9Ty4B",
    "outputId": "67005637-6ed3-4812-f831-b3fb874caced"
   },
   "outputs": [
    {
     "name": "stdout",
     "output_type": "stream",
     "text": [
      "숫자로 나누셔야죠\n"
     ]
    }
   ],
   "source": [
    "try:\n",
    "    print(10/\"a\") # 문자열로 나누면 뜨는 에러에 대한 대처\n",
    "except TypeError:\n",
    "    print(\"숫자로 나누셔야죠\")\n",
    "except ZeroDivisionError:\n",
    "    print(\"0이 아닌 수로 나눠주세요\")"
   ]
  },
  {
   "cell_type": "code",
   "execution_count": null,
   "metadata": {
    "colab": {
     "base_uri": "https://localhost:8080/"
    },
    "executionInfo": {
     "elapsed": 223,
     "status": "ok",
     "timestamp": 1663246587583,
     "user": {
      "displayName": "강사",
      "userId": "16181995035441534154"
     },
     "user_tz": -540
    },
    "id": "q_k8GSjmVaFZ",
    "outputId": "fadfe22c-9b48-4057-cffc-7c54890e4d08"
   },
   "outputs": [
    {
     "name": "stdout",
     "output_type": "stream",
     "text": [
      "0이 아닌 수로 나눠주세요\n",
      "에러 메세지:  division by zero\n"
     ]
    }
   ],
   "source": [
    "try:\n",
    "    print(10/0)\n",
    "except TypeError as e: # as 로 에러 메세지를 저장\n",
    "    print(\"숫자로 나누셔야죠\")\n",
    "    print(\"에러 메세지: \", e)\n",
    "except ZeroDivisionError as e:\n",
    "    print(\"0이 아닌 수로 나눠주세요\")\n",
    "    print(\"에러 메세지: \", e)"
   ]
  },
  {
   "cell_type": "code",
   "execution_count": null,
   "metadata": {
    "colab": {
     "base_uri": "https://localhost:8080/"
    },
    "executionInfo": {
     "elapsed": 213,
     "status": "ok",
     "timestamp": 1663246587583,
     "user": {
      "displayName": "강사",
      "userId": "16181995035441534154"
     },
     "user_tz": -540
    },
    "id": "r5JJ1KY8WVPY",
    "outputId": "4cd44420-0376-4823-f2b9-30ed31cd11bc"
   },
   "outputs": [
    {
     "name": "stdout",
     "output_type": "stream",
     "text": [
      "뭔가 잘못됨\n",
      "에러 메세지:  division by zero\n"
     ]
    }
   ],
   "source": [
    "try:\n",
    "    print(10/0)\n",
    "except Exception as e:\n",
    "    print(\"뭔가 잘못됨\")\n",
    "    print(\"에러 메세지: \", e)"
   ]
  },
  {
   "cell_type": "code",
   "execution_count": null,
   "metadata": {
    "colab": {
     "base_uri": "https://localhost:8080/"
    },
    "executionInfo": {
     "elapsed": 203,
     "status": "ok",
     "timestamp": 1663246587583,
     "user": {
      "displayName": "강사",
      "userId": "16181995035441534154"
     },
     "user_tz": -540
    },
    "id": "76-tKOEFXCR5",
    "outputId": "1c659a0c-fe94-49dd-af9b-de050d93a42c"
   },
   "outputs": [
    {
     "name": "stdout",
     "output_type": "stream",
     "text": [
      "문제 없움\n",
      "여긴 try 밖이니까 try 이후 실행\n"
     ]
    }
   ],
   "source": [
    "try:\n",
    "    a=10/1\n",
    "except:\n",
    "    print(\"뭔가 잘못됨\")\n",
    "else:\n",
    "    print(\"문제 없움\") # 에러가 안나올 때만 이거 실행\n",
    "\n",
    "print(\"여긴 try 밖이니까 try 이후 실행\")"
   ]
  },
  {
   "cell_type": "code",
   "execution_count": null,
   "metadata": {
    "colab": {
     "base_uri": "https://localhost:8080/"
    },
    "executionInfo": {
     "elapsed": 193,
     "status": "ok",
     "timestamp": 1663246587583,
     "user": {
      "displayName": "강사",
      "userId": "16181995035441534154"
     },
     "user_tz": -540
    },
    "id": "b14GuongX3vK",
    "outputId": "f9c355ed-2a13-491a-c70c-30be6381ea29"
   },
   "outputs": [
    {
     "name": "stdout",
     "output_type": "stream",
     "text": [
      "문제 없움\n",
      "문제 있든 없든 여긴 옴\n"
     ]
    },
    {
     "data": {
      "text/plain": [
       "10.0"
      ]
     },
     "execution_count": 285,
     "metadata": {},
     "output_type": "execute_result"
    }
   ],
   "source": [
    "def div(num):\n",
    "    try:\n",
    "        a=10/num\n",
    "    except:\n",
    "        print(\"뭔가 잘못됨\")\n",
    "    else:\n",
    "        print(\"문제 없움\")\n",
    "        return a\n",
    "    finally:\n",
    "        print(\"문제 있든 없든 여긴 옴\") # 문제 있으면 except로, 없으면 else로 가는 것\n",
    "    print(\"문제 없을 땐 여기를 못 본다. 그래서 finally가 존재\")\n",
    "div(1)"
   ]
  },
  {
   "cell_type": "code",
   "execution_count": null,
   "metadata": {
    "colab": {
     "base_uri": "https://localhost:8080/"
    },
    "executionInfo": {
     "elapsed": 5,
     "status": "ok",
     "timestamp": 1674359346010,
     "user": {
      "displayName": "강사",
      "userId": "16181995035441534154"
     },
     "user_tz": -540
    },
    "id": "tp23fhTQatOi",
    "outputId": "45cdcb85-2281-48e1-ecff-6926aad08af1"
   },
   "outputs": [
    {
     "name": "stdout",
     "output_type": "stream",
     "text": [
      "나이는 10\n"
     ]
    }
   ],
   "source": [
    "# 에러 정의하기! t\n",
    "age=10\n",
    "assert age >= 0 , \"나이가 음수입니다?\"\n",
    "print(\"나이는\",age)"
   ]
  },
  {
   "cell_type": "code",
   "execution_count": null,
   "metadata": {
    "colab": {
     "base_uri": "https://localhost:8080/"
    },
    "executionInfo": {
     "elapsed": 176,
     "status": "ok",
     "timestamp": 1663246587584,
     "user": {
      "displayName": "강사",
      "userId": "16181995035441534154"
     },
     "user_tz": -540
    },
    "id": "aXR-8CE-GTyg",
    "outputId": "ee209eff-d26f-4412-de1f-8829d7701982"
   },
   "outputs": [
    {
     "name": "stdout",
     "output_type": "stream",
     "text": [
      "6\n"
     ]
    }
   ],
   "source": [
    "# 이건 설명 생략 내 기록용 -> 예외 발생시키기\n",
    "x=6\n",
    "try:\n",
    "    if x % 3 !=0:\n",
    "        raise Exception(\"3의 배수가 아님\")\n",
    "    print(x)\n",
    "except Exception as e:\n",
    "    print(\"예외 발생\",e)"
   ]
  },
  {
   "cell_type": "markdown",
   "metadata": {
    "id": "TmApXMBDiDCq"
   },
   "source": [
    "## 이터레이터"
   ]
  },
  {
   "cell_type": "code",
   "execution_count": null,
   "metadata": {
    "colab": {
     "base_uri": "https://localhost:8080/"
    },
    "executionInfo": {
     "elapsed": 167,
     "status": "ok",
     "timestamp": 1663246587584,
     "user": {
      "displayName": "강사",
      "userId": "16181995035441534154"
     },
     "user_tz": -540
    },
    "id": "6o0Af5cfiEK-",
    "outputId": "ee5158fa-300a-4f42-b638-b2ff94f91fba"
   },
   "outputs": [
    {
     "name": "stdout",
     "output_type": "stream",
     "text": [
      "1\n",
      "2\n",
      "3\n"
     ]
    }
   ],
   "source": [
    "# 내 필기용\n",
    "a=[1,2,3] # a 는 list 클래스의 인스턴스다\n",
    "it=a.__iter__() # 인스턴스가 가진 메서드 중 __iter__ 함수를 사용한다 (dir(a)해보면 함수들 나옴)\n",
    "print(it.__next__()) # it 이라는 이름의 이터레이터가 가진 __next__ 함수를 사용한다\n",
    "print(it.__next__())\n",
    "print(it.__next__())\n",
    "# print(it.__next__()) # error!"
   ]
  },
  {
   "cell_type": "code",
   "execution_count": null,
   "metadata": {
    "colab": {
     "base_uri": "https://localhost:8080/"
    },
    "executionInfo": {
     "elapsed": 158,
     "status": "ok",
     "timestamp": 1663246587584,
     "user": {
      "displayName": "강사",
      "userId": "16181995035441534154"
     },
     "user_tz": -540
    },
    "id": "XcdgYfcP9dRd",
    "outputId": "9830e6f2-39db-4f1a-f13c-daf2b205ad6e"
   },
   "outputs": [
    {
     "name": "stdout",
     "output_type": "stream",
     "text": [
      "H\n",
      "e\n"
     ]
    }
   ],
   "source": [
    "# 내 필기용\n",
    "s=\"Hello\"\n",
    "it=s.__iter__()\n",
    "print(it.__next__())\n",
    "print(it.__next__())"
   ]
  },
  {
   "cell_type": "code",
   "execution_count": null,
   "metadata": {
    "colab": {
     "base_uri": "https://localhost:8080/"
    },
    "executionInfo": {
     "elapsed": 150,
     "status": "ok",
     "timestamp": 1663246587584,
     "user": {
      "displayName": "강사",
      "userId": "16181995035441534154"
     },
     "user_tz": -540
    },
    "id": "Dutb3xOV96l1",
    "outputId": "45314e86-2c73-421f-f1d5-d1ac88c2e723"
   },
   "outputs": [
    {
     "name": "stdout",
     "output_type": "stream",
     "text": [
      "a\n",
      "b\n"
     ]
    }
   ],
   "source": [
    "# 내 필기용\n",
    "d={\"a\":1, \"b\":2}\n",
    "it=d.__iter__()\n",
    "print(it.__next__())\n",
    "print(it.__next__())"
   ]
  },
  {
   "cell_type": "code",
   "execution_count": null,
   "metadata": {
    "id": "pRV3_ruV-vcj"
   },
   "outputs": [],
   "source": [
    "# 내 필기용\n",
    "# | ㅡ 반복 가능한 객체 ㅡ |\n",
    "# |  ㅡ 시퀀스 객체 ㅡ    |\n",
    "# |  | 리스트, 튜플,  |   |\n",
    "# |  | range,  문자열 |   |\n",
    "# |  ㅡㅡㅡㅡㅡㅡㅡㅡㅡ   |\n",
    "# |  딕셔너리, 세트       |\n",
    "# |ㅡㅡㅡㅡㅡㅡㅡㅡㅡㅡㅡ |\n",
    "# 딕셔너리, 세트는 요소의 순서가 정해져 있지 않기 때문"
   ]
  },
  {
   "cell_type": "code",
   "execution_count": null,
   "metadata": {
    "colab": {
     "base_uri": "https://localhost:8080/"
    },
    "executionInfo": {
     "elapsed": 140,
     "status": "ok",
     "timestamp": 1663246587584,
     "user": {
      "displayName": "강사",
      "userId": "16181995035441534154"
     },
     "user_tz": -540
    },
    "id": "r7rnnKwWFrs_",
    "outputId": "79489b94-6776-45ef-f7ea-f9ce88cb8843"
   },
   "outputs": [
    {
     "name": "stdout",
     "output_type": "stream",
     "text": [
      "<class 'list_iterator'>\n",
      "1\n",
      "2\n",
      "3\n"
     ]
    }
   ],
   "source": [
    "a=[1,2,3]\n",
    "a_it=iter(a)\n",
    "print(type(a_it))\n",
    "print(next(a_it))\n",
    "print(next(a_it))\n",
    "print(next(a_it))\n",
    "# print(next(a_it))"
   ]
  },
  {
   "cell_type": "code",
   "execution_count": null,
   "metadata": {
    "colab": {
     "base_uri": "https://localhost:8080/"
    },
    "executionInfo": {
     "elapsed": 131,
     "status": "ok",
     "timestamp": 1663246587584,
     "user": {
      "displayName": "강사",
      "userId": "16181995035441534154"
     },
     "user_tz": -540
    },
    "id": "usi59ZzD24Oc",
    "outputId": "1e63cb35-32d4-4d24-e86f-f247a5f82b96"
   },
   "outputs": [
    {
     "name": "stdout",
     "output_type": "stream",
     "text": [
      "1\n"
     ]
    }
   ],
   "source": [
    "a=[1,2,3]\n",
    "a_i = next(iter(a)) # 한 국자 떠봐\n",
    "print(a_i)"
   ]
  },
  {
   "cell_type": "code",
   "execution_count": null,
   "metadata": {
    "colab": {
     "base_uri": "https://localhost:8080/"
    },
    "executionInfo": {
     "elapsed": 122,
     "status": "ok",
     "timestamp": 1663246587584,
     "user": {
      "displayName": "강사",
      "userId": "16181995035441534154"
     },
     "user_tz": -540
    },
    "id": "GdMfAf_wP8I5",
    "outputId": "242a6fba-c5e5-4969-fbc6-956e7c89427c"
   },
   "outputs": [
    {
     "name": "stdout",
     "output_type": "stream",
     "text": [
      "1\n",
      "2\n",
      "3\n"
     ]
    }
   ],
   "source": [
    "# 내 필기용\n",
    "it=iter([1,2,3])\n",
    "for i in it:\n",
    "    print(i)"
   ]
  },
  {
   "cell_type": "code",
   "execution_count": null,
   "metadata": {
    "id": "XDkwsTjLPCfx"
   },
   "outputs": [],
   "source": [
    "# 이건 내 필기용 -> iter에 함수 넣기\n",
    "import random\n",
    "it = iter(lambda: random.randint(0,5), 2)\n",
    "# print(next(it),end=\" \") # error 방지용\n",
    "# print(next(it),end=\" \")\n",
    "# print(next(it),end=\" \")\n",
    "# print(next(it))"
   ]
  },
  {
   "cell_type": "code",
   "execution_count": null,
   "metadata": {
    "colab": {
     "base_uri": "https://localhost:8080/"
    },
    "executionInfo": {
     "elapsed": 112,
     "status": "ok",
     "timestamp": 1663246587584,
     "user": {
      "displayName": "강사",
      "userId": "16181995035441534154"
     },
     "user_tz": -540
    },
    "id": "liW-yGczLDZH",
    "outputId": "37ef77ad-fb8b-466b-ab00-55dde351467d"
   },
   "outputs": [
    {
     "name": "stdout",
     "output_type": "stream",
     "text": [
      "5 1 1 5 4 "
     ]
    }
   ],
   "source": [
    "# 이건 내 필기용 -> iter에 함수 넣기\n",
    "import random\n",
    "for i in iter(lambda: random.randint(0,5), 2):\n",
    "    print(i, end=\" \")"
   ]
  },
  {
   "cell_type": "code",
   "execution_count": null,
   "metadata": {
    "colab": {
     "base_uri": "https://localhost:8080/"
    },
    "executionInfo": {
     "elapsed": 103,
     "status": "ok",
     "timestamp": 1663246587584,
     "user": {
      "displayName": "강사",
      "userId": "16181995035441534154"
     },
     "user_tz": -540
    },
    "id": "ZFVGSoeXNMXh",
    "outputId": "ea44a87f-178d-4143-f3ee-8dff88aebbc2"
   },
   "outputs": [
    {
     "name": "stdout",
     "output_type": "stream",
     "text": [
      "0\n",
      "1\n",
      "2\n",
      "100\n",
      "100\n"
     ]
    }
   ],
   "source": [
    "# 이것도 굳이 알려줄 필욘 없을 듯 (next 함수에 기본값도 주기)\n",
    "it = iter(range(3))\n",
    "print(next(it,100))\n",
    "print(next(it,100))\n",
    "print(next(it,100))\n",
    "print(next(it,100)) # 오류가 아닌 100이 나온다 (기본값 설정)\n",
    "print(next(it,100))"
   ]
  },
  {
   "cell_type": "code",
   "execution_count": null,
   "metadata": {
    "colab": {
     "base_uri": "https://localhost:8080/"
    },
    "executionInfo": {
     "elapsed": 94,
     "status": "ok",
     "timestamp": 1663246587584,
     "user": {
      "displayName": "강사",
      "userId": "16181995035441534154"
     },
     "user_tz": -540
    },
    "id": "0nJ-OhevCj_2",
    "outputId": "cc520b7e-0b8c-469b-9172-b6488dad63dc"
   },
   "outputs": [
    {
     "name": "stdout",
     "output_type": "stream",
     "text": [
      "0 1 2 "
     ]
    }
   ],
   "source": [
    "# 이건 그냥 내 기록용 -> 이터레이터 만들기\n",
    "class Counter:\n",
    "    def __init__(self, stop):\n",
    "        self.current=0\n",
    "        self.stop=stop\n",
    "\n",
    "    def __iter__(self):\n",
    "        return self\n",
    "\n",
    "    def __next__(self):\n",
    "        if self.current < self.stop:\n",
    "            r=self.current\n",
    "            self.current+=1\n",
    "            return r\n",
    "        else:\n",
    "            raise StopIteration\n",
    "\n",
    "\n",
    "for i in Counter(3):\n",
    "    print(i, end=\" \")"
   ]
  },
  {
   "cell_type": "code",
   "execution_count": null,
   "metadata": {
    "colab": {
     "base_uri": "https://localhost:8080/"
    },
    "executionInfo": {
     "elapsed": 84,
     "status": "ok",
     "timestamp": 1663246587584,
     "user": {
      "displayName": "강사",
      "userId": "16181995035441534154"
     },
     "user_tz": -540
    },
    "id": "AzUMsuQQFL6X",
    "outputId": "f071ee2c-4246-4705-af5c-a57e3fe4d789"
   },
   "outputs": [
    {
     "name": "stdout",
     "output_type": "stream",
     "text": [
      "0 1 2 \n",
      "0\n",
      "1\n",
      "2\n"
     ]
    }
   ],
   "source": [
    "# 이건 그냥 내 기록용 -> 인덱스로 접근할 수 있는 이터레이터 만들기\n",
    "class Counter:\n",
    "    def __init__(self, stop):\n",
    "        self.stop=stop\n",
    "\n",
    "    def __getitem__(self, index):\n",
    "        if index < self.stop:\n",
    "            return index\n",
    "        else:\n",
    "            raise IndexError\n",
    "\n",
    "for i in Counter(3):\n",
    "    print(i, end=\" \")\n",
    "\n",
    "print()\n",
    "\n",
    "c=Counter(3)\n",
    "print(c[0])\n",
    "print(c[1])\n",
    "print(c[2])"
   ]
  },
  {
   "cell_type": "markdown",
   "metadata": {
    "id": "g82jyzfOSoNx"
   },
   "source": [
    "## 제너레이터 (내 필기용)"
   ]
  },
  {
   "cell_type": "code",
   "execution_count": null,
   "metadata": {
    "colab": {
     "base_uri": "https://localhost:8080/"
    },
    "executionInfo": {
     "elapsed": 75,
     "status": "ok",
     "timestamp": 1663246587584,
     "user": {
      "displayName": "강사",
      "userId": "16181995035441534154"
     },
     "user_tz": -540
    },
    "id": "jsYV2EqDSpcp",
    "outputId": "0b2791a5-09f5-46e4-bd75-d4a4a24433e5"
   },
   "outputs": [
    {
     "name": "stdout",
     "output_type": "stream",
     "text": [
      "0\n",
      "3\n",
      "5\n",
      "0\n",
      "3\n",
      "5\n"
     ]
    }
   ],
   "source": [
    "def number_generator():\n",
    "    yield 0 # yield를 만나면 return 처럼 끝남\n",
    "    yield 3 # 두번째 들어올 때는 첫번째 yield는 안하고 여기서 끝남\n",
    "    yield 5\n",
    "\n",
    "for i in number_generator():\n",
    "    print(i)\n",
    "\n",
    "g=number_generator() # 이건 함수를 call하는 게 아니고 제너레이터 객체를 만드는 것임\n",
    "print(next(g)) # next를 만나야 number_generator라는 함수(제너레이터)에 들어간다\n",
    "print(next(g))\n",
    "print(next(g))\n",
    "# print(next(g)) # error!"
   ]
  },
  {
   "cell_type": "code",
   "execution_count": null,
   "metadata": {
    "colab": {
     "base_uri": "https://localhost:8080/"
    },
    "executionInfo": {
     "elapsed": 66,
     "status": "ok",
     "timestamp": 1663246587584,
     "user": {
      "displayName": "강사",
      "userId": "16181995035441534154"
     },
     "user_tz": -540
    },
    "id": "tcBiq_OgS5-Z",
    "outputId": "76932d30-4f37-4ee3-d983-cb7055fcdf05"
   },
   "outputs": [
    {
     "name": "stdout",
     "output_type": "stream",
     "text": [
      "0\n",
      "1\n",
      "2\n",
      "0\n",
      "1\n",
      "2\n"
     ]
    }
   ],
   "source": [
    "def number_generator(stop):\n",
    "    n=0\n",
    "    while(n<stop):\n",
    "        yield n\n",
    "        n+=1\n",
    "\n",
    "for i in number_generator(3):\n",
    "    print(i)\n",
    "\n",
    "g=number_generator(3)\n",
    "print(next(g))\n",
    "print(next(g))\n",
    "print(next(g))\n",
    "# print(next(g)) # error!"
   ]
  },
  {
   "cell_type": "code",
   "execution_count": null,
   "metadata": {
    "colab": {
     "base_uri": "https://localhost:8080/"
    },
    "executionInfo": {
     "elapsed": 57,
     "status": "ok",
     "timestamp": 1663246587584,
     "user": {
      "displayName": "강사",
      "userId": "16181995035441534154"
     },
     "user_tz": -540
    },
    "id": "GzxgEBh613fx",
    "outputId": "af4a267a-f9a4-4181-beee-4710ed9ff863"
   },
   "outputs": [
    {
     "name": "stdout",
     "output_type": "stream",
     "text": [
      "APPLE\n",
      "PEAR\n",
      "GRAPE\n",
      "PINEAPPLE\n",
      "ORANGE\n"
     ]
    }
   ],
   "source": [
    "def upper_generator(x):\n",
    "    for i in x:\n",
    "        yield i.upper()\n",
    "\n",
    "fruits = [\"apple\", \"pear\", \"grape\", \"pineapple\", \"orange\"]\n",
    "for i in upper_generator(fruits):\n",
    "    print(i)"
   ]
  },
  {
   "cell_type": "code",
   "execution_count": null,
   "metadata": {
    "colab": {
     "base_uri": "https://localhost:8080/"
    },
    "executionInfo": {
     "elapsed": 49,
     "status": "ok",
     "timestamp": 1663246587585,
     "user": {
      "displayName": "강사",
      "userId": "16181995035441534154"
     },
     "user_tz": -540
    },
    "id": "V9bC0w-u2e1h",
    "outputId": "a89ed562-496f-44e1-b03c-0130b16efb64"
   },
   "outputs": [
    {
     "name": "stdout",
     "output_type": "stream",
     "text": [
      "1\n",
      "2\n",
      "3\n",
      "1\n",
      "2\n",
      "3\n"
     ]
    }
   ],
   "source": [
    "def number_generator():\n",
    "    x = [1,2,3]\n",
    "    yield from x # 아래 반복문과 동일함\n",
    "    # for i in x:\n",
    "    #     yield i\n",
    "\n",
    "for i in number_generator():\n",
    "    print(i)\n",
    "\n",
    "g=number_generator()\n",
    "print(next(g))\n",
    "print(next(g))\n",
    "print(next(g))"
   ]
  },
  {
   "cell_type": "code",
   "execution_count": null,
   "metadata": {
    "colab": {
     "base_uri": "https://localhost:8080/"
    },
    "executionInfo": {
     "elapsed": 40,
     "status": "ok",
     "timestamp": 1663246587585,
     "user": {
      "displayName": "강사",
      "userId": "16181995035441534154"
     },
     "user_tz": -540
    },
    "id": "3UkM2f-12iJE",
    "outputId": "73946a7b-f298-4c90-e200-de4c4796bc58"
   },
   "outputs": [
    {
     "name": "stdout",
     "output_type": "stream",
     "text": [
      "0\n",
      "1\n",
      "2\n"
     ]
    }
   ],
   "source": [
    "def number_generator(stop):\n",
    "    n=0\n",
    "    while n < stop:\n",
    "        yield n\n",
    "        n += 1\n",
    "\n",
    "def three_generator():\n",
    "    yield from number_generator(3)\n",
    "\n",
    "for i in three_generator():\n",
    "    print(i)"
   ]
  },
  {
   "cell_type": "markdown",
   "metadata": {
    "id": "EHsngypP3kx5"
   },
   "source": [
    "## 코루틴 (cooperative routine) (내 필기용)"
   ]
  },
  {
   "cell_type": "code",
   "execution_count": null,
   "metadata": {
    "colab": {
     "base_uri": "https://localhost:8080/"
    },
    "executionInfo": {
     "elapsed": 31,
     "status": "ok",
     "timestamp": 1663246587585,
     "user": {
      "displayName": "강사",
      "userId": "16181995035441534154"
     },
     "user_tz": -540
    },
    "id": "geYlwE2G3lgc",
    "outputId": "0aef76c5-a240-430a-809e-1fbba2e83e9b"
   },
   "outputs": [
    {
     "name": "stdout",
     "output_type": "stream",
     "text": [
      "<class 'generator'>\n",
      "1\n",
      "2\n",
      "3\n"
     ]
    }
   ],
   "source": [
    "# 코루틴은 제너레이터의 특별한 형태임\n",
    "# 제너레이터는 yield로 값을 발생 시킨 반면, 코루틴은 yield로 값을 받아올 수 있다\n",
    "# 왜 cooperative냐면 함수 call하면 return 하고 끝나는 방식이 아닌 대기 상태에 들어가기 때문\n",
    "def number_coroutine():\n",
    "    while True:\n",
    "        x=(yield) # 코루틴은 (yield) 와 같이 값을 받아올 수 있다.\n",
    "        # (yield) 를 만나면 자동으로 대기상태에 들어가고 main 루틴으로 간다.\n",
    "        # co.send와 같이 값이 들어오면 그때 x에 전달받은 값을 넣고 그 다음 줄 실행\n",
    "        print(x)\n",
    "\n",
    "co = number_coroutine(); print(type(co)) # 제너레이터이긴 함\n",
    "next(co) # 코루틴 안의 yield까지 코드 실행(최초 실행)\n",
    "\n",
    "co.send(1)\n",
    "co.send(2)\n",
    "co.send(3)"
   ]
  },
  {
   "cell_type": "code",
   "execution_count": null,
   "metadata": {
    "colab": {
     "base_uri": "https://localhost:8080/"
    },
    "executionInfo": {
     "elapsed": 22,
     "status": "ok",
     "timestamp": 1663246587585,
     "user": {
      "displayName": "강사",
      "userId": "16181995035441534154"
     },
     "user_tz": -540
    },
    "id": "d_6hwr6289PD",
    "outputId": "46415ed7-309f-496e-de54-6072f14d3392"
   },
   "outputs": [
    {
     "name": "stdout",
     "output_type": "stream",
     "text": [
      "0\n",
      "1\n",
      "3\n",
      "6\n"
     ]
    }
   ],
   "source": [
    "def sum_coroutine():\n",
    "    total= 0\n",
    "    while True:\n",
    "        x= (yield total) # send를 통해 값을 받아와서 (받아와야 하니까 대기상태로) x에 저장, 동시에 total은 내보냄\n",
    "        total += x\n",
    "\n",
    "co = sum_coroutine()\n",
    "print(next(co))\n",
    "\n",
    "print(co.send(1))\n",
    "print(co.send(2))\n",
    "print(co.send(3))"
   ]
  },
  {
   "cell_type": "code",
   "execution_count": null,
   "metadata": {
    "colab": {
     "base_uri": "https://localhost:8080/"
    },
    "executionInfo": {
     "elapsed": 13,
     "status": "ok",
     "timestamp": 1663246587585,
     "user": {
      "displayName": "강사",
      "userId": "16181995035441534154"
     },
     "user_tz": -540
    },
    "id": "HMiT9uXl_GQ8",
    "outputId": "839a208f-64b5-4150-ab01-e35c69eb3567"
   },
   "outputs": [
    {
     "name": "stdout",
     "output_type": "stream",
     "text": [
      "0 1 2 3 4 \n",
      "코루틴 종료!\n"
     ]
    }
   ],
   "source": [
    "def number_coroutine():\n",
    "    try:\n",
    "        while True:\n",
    "            x = (yield)\n",
    "            print(x, end=\" \")\n",
    "    except GeneratorExit:\n",
    "        print()\n",
    "        print(\"코루틴 종료!\")\n",
    "co=number_coroutine()\n",
    "next(co)\n",
    "\n",
    "for i in range(5):\n",
    "    co.send(i)\n",
    "\n",
    "co.close() # 이게 실행되면 GeneratorExit 쪽으로 간다.\n",
    "# 하지만 try 구문을 없앤다고 해서 오류가 뜨는 건 아님"
   ]
  },
  {
   "cell_type": "code",
   "execution_count": null,
   "metadata": {
    "colab": {
     "base_uri": "https://localhost:8080/"
    },
    "executionInfo": {
     "elapsed": 446,
     "status": "ok",
     "timestamp": 1663246588026,
     "user": {
      "displayName": "강사",
      "userId": "16181995035441534154"
     },
     "user_tz": -540
    },
    "id": "rxScjFEP_vVr",
    "outputId": "b6e84044-d932-4710-c656-bcb70bc8799f"
   },
   "outputs": [
    {
     "name": "stdout",
     "output_type": "stream",
     "text": [
      "예외로 코루틴 끝내기\n",
      "10\n"
     ]
    }
   ],
   "source": [
    "def sum_coroutine():\n",
    "    try:\n",
    "        total=0\n",
    "        while True:\n",
    "            x = (yield)\n",
    "            total+=x\n",
    "\n",
    "    except RuntimeError as e:\n",
    "        print(e)\n",
    "        yield total # 바깥으로 값 전달\n",
    "\n",
    "co=sum_coroutine()\n",
    "next(co)\n",
    "\n",
    "for i in range(5):\n",
    "    co.send(i)\n",
    "\n",
    "print(co.throw(RuntimeError,\"예외로 코루틴 끝내기\")) #throw로 RuntimeError를 발생시켜버림"
   ]
  },
  {
   "cell_type": "code",
   "execution_count": null,
   "metadata": {
    "colab": {
     "base_uri": "https://localhost:8080/"
    },
    "executionInfo": {
     "elapsed": 77,
     "status": "ok",
     "timestamp": 1663246588026,
     "user": {
      "displayName": "강사",
      "userId": "16181995035441534154"
     },
     "user_tz": -540
    },
    "id": "SaZXiHbODwhr",
    "outputId": "9e223a2f-e0cf-466d-cb0d-a4418d6a1288"
   },
   "outputs": [
    {
     "name": "stdout",
     "output_type": "stream",
     "text": [
      "55\n"
     ]
    }
   ],
   "source": [
    "def accumulate():\n",
    "    total=0\n",
    "    while True:\n",
    "        x=(yield)\n",
    "        if x is None:\n",
    "            return total\n",
    "        total += x\n",
    "def sum_coroutine():\n",
    "    while True:\n",
    "        total = yield from accumulate()\n",
    "        print(total)\n",
    "\n",
    "co=sum_coroutine()\n",
    "next(co)\n",
    "\n",
    "for i in range(1,11):\n",
    "    co.send(i)\n",
    "co.send(None)"
   ]
  },
  {
   "cell_type": "markdown",
   "metadata": {
    "id": "O2UrBSRcEctB"
   },
   "source": [
    "## 데코레이터 (내 필기용)"
   ]
  },
  {
   "cell_type": "code",
   "execution_count": null,
   "metadata": {
    "colab": {
     "base_uri": "https://localhost:8080/"
    },
    "executionInfo": {
     "elapsed": 69,
     "status": "ok",
     "timestamp": 1663246588027,
     "user": {
      "displayName": "강사",
      "userId": "16181995035441534154"
     },
     "user_tz": -540
    },
    "id": "RX8LkimSEdt2",
    "outputId": "f8b7c423-a510-44ef-e1e1-08c8978cf2db"
   },
   "outputs": [
    {
     "name": "stdout",
     "output_type": "stream",
     "text": [
      "hello 함수 시작\n",
      "hello\n",
      "hello 함수 끝\n",
      "world 함수 시작\n",
      "world\n",
      "world 함수 끝\n"
     ]
    }
   ],
   "source": [
    "def trace(func):\n",
    "    def wrapper():\n",
    "        print(func.__name__, \"함수 시작\")\n",
    "        func()\n",
    "        print(func.__name__, \"함수 끝\")\n",
    "    return wrapper\n",
    "\n",
    "def hello():\n",
    "    print(\"hello\")\n",
    "\n",
    "def world():\n",
    "    print(\"world\")\n",
    "\n",
    "trace_hello = trace(hello)\n",
    "trace_hello()\n",
    "trace_world = trace(world)\n",
    "trace_world()"
   ]
  },
  {
   "cell_type": "code",
   "execution_count": null,
   "metadata": {
    "colab": {
     "base_uri": "https://localhost:8080/"
    },
    "executionInfo": {
     "elapsed": 60,
     "status": "ok",
     "timestamp": 1663246588027,
     "user": {
      "displayName": "강사",
      "userId": "16181995035441534154"
     },
     "user_tz": -540
    },
    "id": "3B_mf8RDE1ld",
    "outputId": "6de6737a-f7cb-4107-f366-b017226cbe2f"
   },
   "outputs": [
    {
     "name": "stdout",
     "output_type": "stream",
     "text": [
      "hello 함수 시작\n",
      "hello\n",
      "hello 함수 끝\n",
      "world 함수 시작\n",
      "world\n",
      "world 함수 끝\n"
     ]
    }
   ],
   "source": [
    "def trace(func):\n",
    "    def wrapper():\n",
    "        print(func.__name__, \"함수 시작\")\n",
    "        func()\n",
    "        print(func.__name__, \"함수 끝\")\n",
    "    return wrapper\n",
    "\n",
    "@trace # trace라는 함수 안에 hello라는 함수를 넣게 된다.\n",
    "def hello():\n",
    "    print(\"hello\")\n",
    "\n",
    "@trace\n",
    "def world():\n",
    "    print(\"world\")\n",
    "\n",
    "hello() # trace라는 함수 통과시켜서 함수를 반환받고 실행할 필요 없다\n",
    "world() # world를 trace에 한번 담궜다가 꺼낸 함수를 call하게 된다."
   ]
  },
  {
   "cell_type": "code",
   "execution_count": null,
   "metadata": {
    "colab": {
     "base_uri": "https://localhost:8080/"
    },
    "executionInfo": {
     "elapsed": 50,
     "status": "ok",
     "timestamp": 1663246588027,
     "user": {
      "displayName": "강사",
      "userId": "16181995035441534154"
     },
     "user_tz": -540
    },
    "id": "kux9d2NFFywi",
    "outputId": "067b5149-bf67-49ed-8f3b-16a07ea2e542"
   },
   "outputs": [
    {
     "name": "stdout",
     "output_type": "stream",
     "text": [
      "add(a=10, b=10) -> 30\n",
      "30\n"
     ]
    }
   ],
   "source": [
    "def trace(func):\n",
    "    def wrapper(a,b):\n",
    "        r = func(a,b)\n",
    "        print(func.__name__, \"(a=\", a, \", b=\", a, \") -> \", r , sep=\"\")\n",
    "        return r\n",
    "    return wrapper\n",
    "\n",
    "@trace\n",
    "def add(a,b):\n",
    "    return a+b\n",
    "\n",
    "print(add(10,20))"
   ]
  },
  {
   "cell_type": "code",
   "execution_count": null,
   "metadata": {
    "colab": {
     "base_uri": "https://localhost:8080/"
    },
    "executionInfo": {
     "elapsed": 40,
     "status": "ok",
     "timestamp": 1663246588027,
     "user": {
      "displayName": "강사",
      "userId": "16181995035441534154"
     },
     "user_tz": -540
    },
    "id": "t1D_KtCeeA1Y",
    "outputId": "0cf24292-5513-4259-bea4-69f208c83173"
   },
   "outputs": [
    {
     "name": "stdout",
     "output_type": "stream",
     "text": [
      "get_max(args=(10, 20, 30, 40, 50, 60, 1, 2, 3, 4, 5), kwargs={}) -> 60\n",
      "60\n",
      "add(args=(10, 20), kwargs={}) -> 30\n",
      "30\n"
     ]
    }
   ],
   "source": [
    "def trace(func):\n",
    "    def wrapper(*args,**kwargs): # 가변인수? 여기만 바꿔주면 된다\n",
    "        r = func(*args,**kwargs)\n",
    "        print(func.__name__, \"(args=\", args, \", kwargs=\", kwargs, \") -> \", r , sep=\"\")\n",
    "        return r\n",
    "    return wrapper\n",
    "\n",
    "@trace\n",
    "def get_max(*args,**kwargs):\n",
    "    return max(args)\n",
    "\n",
    "@trace\n",
    "def add(a,b): # 평범한 애도 된다!\n",
    "    return a+b\n",
    "\n",
    "print(get_max(10,20,30,40,50,60,1,2,3,4,5))\n",
    "print(add(10,20))"
   ]
  },
  {
   "cell_type": "code",
   "execution_count": null,
   "metadata": {
    "colab": {
     "base_uri": "https://localhost:8080/"
    },
    "executionInfo": {
     "elapsed": 31,
     "status": "ok",
     "timestamp": 1663246588027,
     "user": {
      "displayName": "강사",
      "userId": "16181995035441534154"
     },
     "user_tz": -540
    },
    "id": "tJKEXtP8jHxB",
    "outputId": "9d9ba42d-37b8-456c-be61-830ddc2ef626"
   },
   "outputs": [
    {
     "name": "stdout",
     "output_type": "stream",
     "text": [
      "add 의 반환값은 3 의 배수가 아닙니다\n",
      "30\n",
      "add 의 반환값은 3 의 배수가 아닙니다\n",
      "7\n"
     ]
    }
   ],
   "source": [
    "# 매개변수를 받는 데코레이터 만들기\n",
    "def is_multiple(x):\n",
    "    def real_decorator(func):\n",
    "        def wrapper(a,b):\n",
    "            r=func(a,b)\n",
    "            if r & x == 0:\n",
    "                print(func.__name__, \"의 반환값은\", x, \"의 배수입니다\")\n",
    "            else:\n",
    "                print(func.__name__, \"의 반환값은\", x, \"의 배수가 아닙니다\")\n",
    "            return r\n",
    "        return wrapper\n",
    "    return real_decorator\n",
    "\n",
    "@is_multiple(3)\n",
    "def add(a,b):\n",
    "    return a+b\n",
    "\n",
    "print(add(10,20))\n",
    "print(add(2,5))"
   ]
  },
  {
   "cell_type": "code",
   "execution_count": null,
   "metadata": {
    "colab": {
     "base_uri": "https://localhost:8080/"
    },
    "executionInfo": {
     "elapsed": 22,
     "status": "ok",
     "timestamp": 1663246588027,
     "user": {
      "displayName": "강사",
      "userId": "16181995035441534154"
     },
     "user_tz": -540
    },
    "id": "-jIUp3fBpThB",
    "outputId": "9f77f3ba-8b05-4d8a-9e36-e4ccbfc66843"
   },
   "outputs": [
    {
     "name": "stdout",
     "output_type": "stream",
     "text": [
      "hello 함수 시작\n",
      "Hello\n",
      "hello 함수 끝\n",
      "hello 함수 시작\n",
      "Hello\n",
      "hello 함수 끝\n"
     ]
    }
   ],
   "source": [
    "# 클래스로 데코레이터 만들기\n",
    "class Trace:\n",
    "    def __init__(self, func):\n",
    "        self.func = func\n",
    "\n",
    "    def __call__(self):\n",
    "        print(self.func.__name__, \"함수 시작\")\n",
    "        self.func()\n",
    "        print(self.func.__name__, \"함수 끝\")\n",
    "\n",
    "@Trace\n",
    "def hello():\n",
    "    print(\"Hello\")\n",
    "\n",
    "hello()\n",
    "# 혹은\n",
    "\n",
    "def hello():\n",
    "    print(\"Hello\")\n",
    "trace_hello = Trace(hello)\n",
    "trace_hello()"
   ]
  },
  {
   "cell_type": "code",
   "execution_count": null,
   "metadata": {
    "colab": {
     "base_uri": "https://localhost:8080/"
    },
    "executionInfo": {
     "elapsed": 14,
     "status": "ok",
     "timestamp": 1663246588027,
     "user": {
      "displayName": "강사",
      "userId": "16181995035441534154"
     },
     "user_tz": -540
    },
    "id": "Gd1J81Rtqr2y",
    "outputId": "052a5188-04d9-42f6-cf9a-a398ddb613b6"
   },
   "outputs": [
    {
     "name": "stdout",
     "output_type": "stream",
     "text": [
      "add(args=(10, 20), kwargs={}) -> 30\n",
      "add(args=(), kwargs={'a': 10, 'b': 20}) -> 30\n"
     ]
    }
   ],
   "source": [
    "# 클래스로 데코레이터 만들기, 매개변수 받는거\n",
    "class Trace:\n",
    "    def __init__(self, func):\n",
    "        self.func = func\n",
    "\n",
    "    def __call__(self, *args, **kwargs):\n",
    "        r = self.func(*args, **kwargs)\n",
    "        print(self.func.__name__, \"(args=\", args, \", kwargs=\", kwargs, \") -> \", r , sep=\"\")\n",
    "\n",
    "@Trace\n",
    "def add(a,b):\n",
    "    return a+b\n",
    "\n",
    "add(10,20)\n",
    "add(a=10,b=20)"
   ]
  }
 ],
 "metadata": {
  "colab": {
   "collapsed_sections": [
    "Z1PXfkVqAthc",
    "8LCDB0PQEvcT",
    "38kRg2Oj2yH6",
    "ak7p9W8a5UoI",
    "GlacsxQn7eQa",
    "Vfj8tSR3CKxj",
    "ZAWagAA_jTUY",
    "J4kq1_LaVTJG",
    "Rcj8O6U-REgR",
    "TmApXMBDiDCq",
    "g82jyzfOSoNx",
    "EHsngypP3kx5",
    "O2UrBSRcEctB"
   ],
   "provenance": []
  },
  "kernelspec": {
   "display_name": "Python 3",
   "name": "python3"
  },
  "language_info": {
   "name": "python"
  }
 },
 "nbformat": 4,
 "nbformat_minor": 0
}
