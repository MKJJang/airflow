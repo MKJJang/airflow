{
  "nbformat": 4,
  "nbformat_minor": 0,
  "metadata": {
    "colab": {
      "provenance": [],
      "authorship_tag": "ABX9TyNV7lkrKB1+c2pwlz0EqsBd",
      "include_colab_link": true
    },
    "kernelspec": {
      "name": "python3",
      "display_name": "Python 3"
    },
    "language_info": {
      "name": "python"
    }
  },
  "cells": [
    {
      "cell_type": "markdown",
      "metadata": {
        "id": "view-in-github",
        "colab_type": "text"
      },
      "source": [
        "<a href=\"https://colab.research.google.com/github/MKJJang/airflow/blob/master/LSTM.ipynb\" target=\"_parent\"><img src=\"https://colab.research.google.com/assets/colab-badge.svg\" alt=\"Open In Colab\"/></a>"
      ]
    },
    {
      "cell_type": "markdown",
      "source": [
        "**LSTM + Transformer 모델 구조**\n",
        "\n",
        "**(1) 입력 데이터**\n",
        "X: 광고 노출 수, 클릭률(CTR), 전환율(CVR), 할인율, 계절성 지수\n",
        "y: 일별/주별/월별 매출\n",
        "\n",
        "**(2) 모델 아키텍처**\n",
        "LSTM Layer: 단기적인 패턴 학습\n",
        "Transformer Encoder Layer: Self-Attention을 활용하여 장기 패턴 학습\n",
        "Fully Connected Layer: 예측값 출력 (최종 매출, 광고 성과 예측)"
      ],
      "metadata": {
        "id": "D59bvf9JyPyo"
      }
    },
    {
      "cell_type": "code",
      "source": [
        "import torch\n",
        "import torch.nn as nn\n",
        "\n",
        "class LSTM_Transformer(nn.Module):\n",
        "    def __init__(self, input_dim, hidden_dim, num_layers, output_dim, seq_length):\n",
        "        super(LSTM_Transformer, self).__init__()\n",
        "\n",
        "        # LSTM Layer\n",
        "        self.lstm = nn.LSTM(input_dim, hidden_dim, num_layers, batch_first=True)\n",
        "\n",
        "        # Transformer Encoder\n",
        "        encoder_layer = nn.TransformerEncoderLayer(d_model=hidden_dim, nhead=4)\n",
        "        self.transformer = nn.TransformerEncoder(encoder_layer, num_layers=2)\n",
        "\n",
        "        # Fully Connected Output Layer\n",
        "        self.fc = nn.Linear(hidden_dim, output_dim)\n",
        "\n",
        "    def forward(self, x):\n",
        "        lstm_out, _ = self.lstm(x)  # LSTM Forward Pass\n",
        "        transformer_out = self.transformer(lstm_out)  # Transformer Forward Pass\n",
        "        output = self.fc(transformer_out[:, -1, :])  # Fully Connected Layer\n",
        "        return output\n",
        "\n",
        "# 모델 초기화\n",
        "model = LSTM_Transformer(input_dim=10, hidden_dim=64, num_layers=2, output_dim=1, seq_length=30)"
      ],
      "metadata": {
        "id": "yBDw5zsFzqvr"
      },
      "execution_count": null,
      "outputs": []
    },
    {
      "cell_type": "markdown",
      "source": [
        "**LSTM + Transformer 모델 평가 및 튜닝**\n",
        "\n",
        "**평가 지표**\n",
        "MAE (Mean Absolute Error): 절대 오차\n",
        "\n",
        "RMSE (Root Mean Squared Error): 제곱 평균 오차\n",
        "\n",
        "MAPE (Mean Absolute Percentage Error): 백분율 오차"
      ],
      "metadata": {
        "id": "p8nltIPW0Crb"
      }
    },
    {
      "cell_type": "code",
      "source": [
        "from sklearn.metrics import mean_absolute_error, mean_squared_error\n",
        "\n",
        "def evaluate(y_true, y_pred):\n",
        "    mae = mean_absolute_error(y_true, y_pred)\n",
        "    rmse = mean_squared_error(y_true, y_pred, squared=False)\n",
        "    return mae, rmse\n",
        "\n",
        "# 실제 값 vs 예측 값 평가\n",
        "mae, rmse = evaluate(y_test, y_pred)\n",
        "print(f\"MAE: {mae}, RMSE: {rmse}\")"
      ],
      "metadata": {
        "id": "nLJ3vowS0MCz"
      },
      "execution_count": null,
      "outputs": []
    },
    {
      "cell_type": "markdown",
      "source": [
        "**하이퍼파라미터 튜닝**\n",
        "\n",
        "*   LSTM: Hidden Size, Number of Layers, Dropout\n",
        "*   Transformer: Number of Heads, Attention Layers, Feedforward Size\n",
        "*   Learning Rate: 0.001 ~ 0.0001 튜닝 (Adam Optimizer)"
      ],
      "metadata": {
        "id": "iTfC21JJ1_Bl"
      }
    },
    {
      "cell_type": "markdown",
      "source": [
        "**6. 실제 적용 사례**\n",
        "\n",
        "📌 Case 1: 이커머스 광고 성과 예측\n",
        "\n",
        "목표: 광고 예산 대비 ROAS (Return on Ad Spend) 최적화\n",
        "\n",
        "*   목표: 광고 예산 대비 ROAS (Return on Ad Spend) 최적화\n",
        "*   모델 적용: LSTM + Transformer로 광고 예산과 CTR, CVR 학습\n",
        "*   성과: 기존 XGBoost 모델 대비 광고 예측 정확도 18% 향상\n",
        "\n",
        "📌 Case 2: 프로모션 매출 예측\n",
        "\n",
        "*   목표: 특정 할인 프로모션이 매출에 미치는 영향 분석\n",
        "*   모델 적용: Transformer로 장기적인 프로모션 효과 분석\n",
        "*   성과: 기존 LSTM 모델 대비 장기 매출 예측 정확도 22% 향상"
      ],
      "metadata": {
        "id": "ccS0rJTb2_Wx"
      }
    },
    {
      "cell_type": "markdown",
      "source": [
        "**향후 발전 방향**\n",
        "\n",
        "*   Reinforcement Learning 결합 → 광고 예산 자동 최적화\n",
        "*   Graph Neural Network (GNN) 적용 → 고객 네트워크 분석 통한 예측 개선\n",
        "*   AutoML 활용 → 최적의 모델 자동 탐색\n",
        "\n",
        "이커머스 매출 & 광고 최적화에 LSTM +Transformer 모델을 활용하면 더 높은 예측 정확도와 비즈니스 성과를 달성할 수 있다."
      ],
      "metadata": {
        "id": "77e3ux_94oQv"
      }
    },
    {
      "cell_type": "markdown",
      "source": [
        "1. LSTM 학습셋 & 테스트셋 split\n",
        "\n",
        "(1) 일반적인 머신러닝과의 차이\n",
        "\n",
        "일반적인 머신러닝에서는 데이터를 랜덤하게 섞어서 훈련(train), 검증(validation), 테스트(test) 데이터로 분리한다.\n",
        "\n",
        "하지만 LSTM은 시계열 데이터를 다루므로, 시간 순서를 유지하면서 데이터를 분리해야 합니다."
      ],
      "metadata": {
        "id": "To-R56s56Rq-"
      }
    },
    {
      "cell_type": "markdown",
      "source": [
        "(2) 데이터 분할 예시\n",
        "\n",
        "예제: 지난 3년간의 광고 및 매출 데이터를 학습하고, 최근 6개월 데이터를 테스트\n",
        "\n",
        "램덤 분할이 아닌 \"시간순으로\" 과거 데이터를 학습하고 미래 데이터를 평가함"
      ],
      "metadata": {
        "id": "gzD-ai4n64Ka"
      }
    },
    {
      "cell_type": "code",
      "source": [
        "import numpy as np\n",
        "import pandas as pd\n",
        "from sklearn.model_selection import train_test_split\n",
        "\n",
        "# 샘플 데이터 생성\n",
        "data = pd.DataFrame({\n",
        "    'date': pd.date_range(start='2020-01-01', periods=1000, freq='D'),  # 1000일간의 데이터\n",
        "    'ad_spend': np.random.randint(100, 500, size=1000),  # 광고비\n",
        "    'clicks': np.random.randint(1000, 5000, size=1000),  # 클릭 수\n",
        "    'sales': np.random.randint(50, 500, size=1000)  # 매출량 (타겟 변수)\n",
        "})\n",
        "\n",
        "# 날짜 기준 정렬 (시계열 데이터이므로 랜덤 섞지 않음)\n",
        "data = data.sort_values(by='date')\n",
        "\n",
        "# 훈련 데이터(80%)와 테스트 데이터(20%) 분리\n",
        "train_size = int(len(data) * 0.8)\n",
        "train_data = data.iloc[:train_size]\n",
        "test_data = data.iloc[train_size:]\n",
        "\n",
        "# 출력\n",
        "print(train_size)\n",
        "print(f\"Train Data: {len(train_data)} rows\")\n",
        "print(f\"Test Data: {len(test_data)} rows\")"
      ],
      "metadata": {
        "colab": {
          "base_uri": "https://localhost:8080/"
        },
        "id": "Tm82wTXQ2yCz",
        "outputId": "a2f69ad1-6ac9-4c08-ac45-05e9d70e5444"
      },
      "execution_count": 3,
      "outputs": [
        {
          "output_type": "stream",
          "name": "stdout",
          "text": [
            "800\n",
            "Train Data: 800 rows\n",
            "Test Data: 200 rows\n"
          ]
        }
      ]
    },
    {
      "cell_type": "code",
      "source": [
        "data.head()"
      ],
      "metadata": {
        "colab": {
          "base_uri": "https://localhost:8080/",
          "height": 206
        },
        "id": "xKR5tUrm7vMh",
        "outputId": "f2f5c4ae-fe36-47cf-b448-8fd8965120d5"
      },
      "execution_count": 5,
      "outputs": [
        {
          "output_type": "execute_result",
          "data": {
            "text/plain": [
              "        date  ad_spend  clicks  sales\n",
              "0 2020-01-01       291    1931    150\n",
              "1 2020-01-02       200    2429    219\n",
              "2 2020-01-03       311    2084    156\n",
              "3 2020-01-04       446    2463    105\n",
              "4 2020-01-05       157    1319    460"
            ],
            "text/html": [
              "\n",
              "  <div id=\"df-08a76f9f-9990-427b-b88d-9e82faef27e2\" class=\"colab-df-container\">\n",
              "    <div>\n",
              "<style scoped>\n",
              "    .dataframe tbody tr th:only-of-type {\n",
              "        vertical-align: middle;\n",
              "    }\n",
              "\n",
              "    .dataframe tbody tr th {\n",
              "        vertical-align: top;\n",
              "    }\n",
              "\n",
              "    .dataframe thead th {\n",
              "        text-align: right;\n",
              "    }\n",
              "</style>\n",
              "<table border=\"1\" class=\"dataframe\">\n",
              "  <thead>\n",
              "    <tr style=\"text-align: right;\">\n",
              "      <th></th>\n",
              "      <th>date</th>\n",
              "      <th>ad_spend</th>\n",
              "      <th>clicks</th>\n",
              "      <th>sales</th>\n",
              "    </tr>\n",
              "  </thead>\n",
              "  <tbody>\n",
              "    <tr>\n",
              "      <th>0</th>\n",
              "      <td>2020-01-01</td>\n",
              "      <td>291</td>\n",
              "      <td>1931</td>\n",
              "      <td>150</td>\n",
              "    </tr>\n",
              "    <tr>\n",
              "      <th>1</th>\n",
              "      <td>2020-01-02</td>\n",
              "      <td>200</td>\n",
              "      <td>2429</td>\n",
              "      <td>219</td>\n",
              "    </tr>\n",
              "    <tr>\n",
              "      <th>2</th>\n",
              "      <td>2020-01-03</td>\n",
              "      <td>311</td>\n",
              "      <td>2084</td>\n",
              "      <td>156</td>\n",
              "    </tr>\n",
              "    <tr>\n",
              "      <th>3</th>\n",
              "      <td>2020-01-04</td>\n",
              "      <td>446</td>\n",
              "      <td>2463</td>\n",
              "      <td>105</td>\n",
              "    </tr>\n",
              "    <tr>\n",
              "      <th>4</th>\n",
              "      <td>2020-01-05</td>\n",
              "      <td>157</td>\n",
              "      <td>1319</td>\n",
              "      <td>460</td>\n",
              "    </tr>\n",
              "  </tbody>\n",
              "</table>\n",
              "</div>\n",
              "    <div class=\"colab-df-buttons\">\n",
              "\n",
              "  <div class=\"colab-df-container\">\n",
              "    <button class=\"colab-df-convert\" onclick=\"convertToInteractive('df-08a76f9f-9990-427b-b88d-9e82faef27e2')\"\n",
              "            title=\"Convert this dataframe to an interactive table.\"\n",
              "            style=\"display:none;\">\n",
              "\n",
              "  <svg xmlns=\"http://www.w3.org/2000/svg\" height=\"24px\" viewBox=\"0 -960 960 960\">\n",
              "    <path d=\"M120-120v-720h720v720H120Zm60-500h600v-160H180v160Zm220 220h160v-160H400v160Zm0 220h160v-160H400v160ZM180-400h160v-160H180v160Zm440 0h160v-160H620v160ZM180-180h160v-160H180v160Zm440 0h160v-160H620v160Z\"/>\n",
              "  </svg>\n",
              "    </button>\n",
              "\n",
              "  <style>\n",
              "    .colab-df-container {\n",
              "      display:flex;\n",
              "      gap: 12px;\n",
              "    }\n",
              "\n",
              "    .colab-df-convert {\n",
              "      background-color: #E8F0FE;\n",
              "      border: none;\n",
              "      border-radius: 50%;\n",
              "      cursor: pointer;\n",
              "      display: none;\n",
              "      fill: #1967D2;\n",
              "      height: 32px;\n",
              "      padding: 0 0 0 0;\n",
              "      width: 32px;\n",
              "    }\n",
              "\n",
              "    .colab-df-convert:hover {\n",
              "      background-color: #E2EBFA;\n",
              "      box-shadow: 0px 1px 2px rgba(60, 64, 67, 0.3), 0px 1px 3px 1px rgba(60, 64, 67, 0.15);\n",
              "      fill: #174EA6;\n",
              "    }\n",
              "\n",
              "    .colab-df-buttons div {\n",
              "      margin-bottom: 4px;\n",
              "    }\n",
              "\n",
              "    [theme=dark] .colab-df-convert {\n",
              "      background-color: #3B4455;\n",
              "      fill: #D2E3FC;\n",
              "    }\n",
              "\n",
              "    [theme=dark] .colab-df-convert:hover {\n",
              "      background-color: #434B5C;\n",
              "      box-shadow: 0px 1px 3px 1px rgba(0, 0, 0, 0.15);\n",
              "      filter: drop-shadow(0px 1px 2px rgba(0, 0, 0, 0.3));\n",
              "      fill: #FFFFFF;\n",
              "    }\n",
              "  </style>\n",
              "\n",
              "    <script>\n",
              "      const buttonEl =\n",
              "        document.querySelector('#df-08a76f9f-9990-427b-b88d-9e82faef27e2 button.colab-df-convert');\n",
              "      buttonEl.style.display =\n",
              "        google.colab.kernel.accessAllowed ? 'block' : 'none';\n",
              "\n",
              "      async function convertToInteractive(key) {\n",
              "        const element = document.querySelector('#df-08a76f9f-9990-427b-b88d-9e82faef27e2');\n",
              "        const dataTable =\n",
              "          await google.colab.kernel.invokeFunction('convertToInteractive',\n",
              "                                                    [key], {});\n",
              "        if (!dataTable) return;\n",
              "\n",
              "        const docLinkHtml = 'Like what you see? Visit the ' +\n",
              "          '<a target=\"_blank\" href=https://colab.research.google.com/notebooks/data_table.ipynb>data table notebook</a>'\n",
              "          + ' to learn more about interactive tables.';\n",
              "        element.innerHTML = '';\n",
              "        dataTable['output_type'] = 'display_data';\n",
              "        await google.colab.output.renderOutput(dataTable, element);\n",
              "        const docLink = document.createElement('div');\n",
              "        docLink.innerHTML = docLinkHtml;\n",
              "        element.appendChild(docLink);\n",
              "      }\n",
              "    </script>\n",
              "  </div>\n",
              "\n",
              "\n",
              "<div id=\"df-a5a1f5ba-c652-4a78-974c-5254971c7170\">\n",
              "  <button class=\"colab-df-quickchart\" onclick=\"quickchart('df-a5a1f5ba-c652-4a78-974c-5254971c7170')\"\n",
              "            title=\"Suggest charts\"\n",
              "            style=\"display:none;\">\n",
              "\n",
              "<svg xmlns=\"http://www.w3.org/2000/svg\" height=\"24px\"viewBox=\"0 0 24 24\"\n",
              "     width=\"24px\">\n",
              "    <g>\n",
              "        <path d=\"M19 3H5c-1.1 0-2 .9-2 2v14c0 1.1.9 2 2 2h14c1.1 0 2-.9 2-2V5c0-1.1-.9-2-2-2zM9 17H7v-7h2v7zm4 0h-2V7h2v10zm4 0h-2v-4h2v4z\"/>\n",
              "    </g>\n",
              "</svg>\n",
              "  </button>\n",
              "\n",
              "<style>\n",
              "  .colab-df-quickchart {\n",
              "      --bg-color: #E8F0FE;\n",
              "      --fill-color: #1967D2;\n",
              "      --hover-bg-color: #E2EBFA;\n",
              "      --hover-fill-color: #174EA6;\n",
              "      --disabled-fill-color: #AAA;\n",
              "      --disabled-bg-color: #DDD;\n",
              "  }\n",
              "\n",
              "  [theme=dark] .colab-df-quickchart {\n",
              "      --bg-color: #3B4455;\n",
              "      --fill-color: #D2E3FC;\n",
              "      --hover-bg-color: #434B5C;\n",
              "      --hover-fill-color: #FFFFFF;\n",
              "      --disabled-bg-color: #3B4455;\n",
              "      --disabled-fill-color: #666;\n",
              "  }\n",
              "\n",
              "  .colab-df-quickchart {\n",
              "    background-color: var(--bg-color);\n",
              "    border: none;\n",
              "    border-radius: 50%;\n",
              "    cursor: pointer;\n",
              "    display: none;\n",
              "    fill: var(--fill-color);\n",
              "    height: 32px;\n",
              "    padding: 0;\n",
              "    width: 32px;\n",
              "  }\n",
              "\n",
              "  .colab-df-quickchart:hover {\n",
              "    background-color: var(--hover-bg-color);\n",
              "    box-shadow: 0 1px 2px rgba(60, 64, 67, 0.3), 0 1px 3px 1px rgba(60, 64, 67, 0.15);\n",
              "    fill: var(--button-hover-fill-color);\n",
              "  }\n",
              "\n",
              "  .colab-df-quickchart-complete:disabled,\n",
              "  .colab-df-quickchart-complete:disabled:hover {\n",
              "    background-color: var(--disabled-bg-color);\n",
              "    fill: var(--disabled-fill-color);\n",
              "    box-shadow: none;\n",
              "  }\n",
              "\n",
              "  .colab-df-spinner {\n",
              "    border: 2px solid var(--fill-color);\n",
              "    border-color: transparent;\n",
              "    border-bottom-color: var(--fill-color);\n",
              "    animation:\n",
              "      spin 1s steps(1) infinite;\n",
              "  }\n",
              "\n",
              "  @keyframes spin {\n",
              "    0% {\n",
              "      border-color: transparent;\n",
              "      border-bottom-color: var(--fill-color);\n",
              "      border-left-color: var(--fill-color);\n",
              "    }\n",
              "    20% {\n",
              "      border-color: transparent;\n",
              "      border-left-color: var(--fill-color);\n",
              "      border-top-color: var(--fill-color);\n",
              "    }\n",
              "    30% {\n",
              "      border-color: transparent;\n",
              "      border-left-color: var(--fill-color);\n",
              "      border-top-color: var(--fill-color);\n",
              "      border-right-color: var(--fill-color);\n",
              "    }\n",
              "    40% {\n",
              "      border-color: transparent;\n",
              "      border-right-color: var(--fill-color);\n",
              "      border-top-color: var(--fill-color);\n",
              "    }\n",
              "    60% {\n",
              "      border-color: transparent;\n",
              "      border-right-color: var(--fill-color);\n",
              "    }\n",
              "    80% {\n",
              "      border-color: transparent;\n",
              "      border-right-color: var(--fill-color);\n",
              "      border-bottom-color: var(--fill-color);\n",
              "    }\n",
              "    90% {\n",
              "      border-color: transparent;\n",
              "      border-bottom-color: var(--fill-color);\n",
              "    }\n",
              "  }\n",
              "</style>\n",
              "\n",
              "  <script>\n",
              "    async function quickchart(key) {\n",
              "      const quickchartButtonEl =\n",
              "        document.querySelector('#' + key + ' button');\n",
              "      quickchartButtonEl.disabled = true;  // To prevent multiple clicks.\n",
              "      quickchartButtonEl.classList.add('colab-df-spinner');\n",
              "      try {\n",
              "        const charts = await google.colab.kernel.invokeFunction(\n",
              "            'suggestCharts', [key], {});\n",
              "      } catch (error) {\n",
              "        console.error('Error during call to suggestCharts:', error);\n",
              "      }\n",
              "      quickchartButtonEl.classList.remove('colab-df-spinner');\n",
              "      quickchartButtonEl.classList.add('colab-df-quickchart-complete');\n",
              "    }\n",
              "    (() => {\n",
              "      let quickchartButtonEl =\n",
              "        document.querySelector('#df-a5a1f5ba-c652-4a78-974c-5254971c7170 button');\n",
              "      quickchartButtonEl.style.display =\n",
              "        google.colab.kernel.accessAllowed ? 'block' : 'none';\n",
              "    })();\n",
              "  </script>\n",
              "</div>\n",
              "\n",
              "    </div>\n",
              "  </div>\n"
            ],
            "application/vnd.google.colaboratory.intrinsic+json": {
              "type": "dataframe",
              "variable_name": "data",
              "summary": "{\n  \"name\": \"data\",\n  \"rows\": 1000,\n  \"fields\": [\n    {\n      \"column\": \"date\",\n      \"properties\": {\n        \"dtype\": \"date\",\n        \"min\": \"2020-01-01 00:00:00\",\n        \"max\": \"2022-09-26 00:00:00\",\n        \"num_unique_values\": 1000,\n        \"samples\": [\n          \"2021-06-05 00:00:00\",\n          \"2022-01-07 00:00:00\",\n          \"2022-01-10 00:00:00\"\n        ],\n        \"semantic_type\": \"\",\n        \"description\": \"\"\n      }\n    },\n    {\n      \"column\": \"ad_spend\",\n      \"properties\": {\n        \"dtype\": \"number\",\n        \"std\": 115,\n        \"min\": 100,\n        \"max\": 499,\n        \"num_unique_values\": 371,\n        \"samples\": [\n          341,\n          143,\n          195\n        ],\n        \"semantic_type\": \"\",\n        \"description\": \"\"\n      }\n    },\n    {\n      \"column\": \"clicks\",\n      \"properties\": {\n        \"dtype\": \"number\",\n        \"std\": 1148,\n        \"min\": 1000,\n        \"max\": 4981,\n        \"num_unique_values\": 876,\n        \"samples\": [\n          3168,\n          3819,\n          4464\n        ],\n        \"semantic_type\": \"\",\n        \"description\": \"\"\n      }\n    },\n    {\n      \"column\": \"sales\",\n      \"properties\": {\n        \"dtype\": \"number\",\n        \"std\": 130,\n        \"min\": 50,\n        \"max\": 499,\n        \"num_unique_values\": 400,\n        \"samples\": [\n          196,\n          125,\n          88\n        ],\n        \"semantic_type\": \"\",\n        \"description\": \"\"\n      }\n    }\n  ]\n}"
            }
          },
          "metadata": {},
          "execution_count": 5
        }
      ]
    },
    {
      "cell_type": "markdown",
      "source": [
        "**2. LSTM 학습과 테스트셋 적용**\n",
        "\n",
        "LSTM 모델에 데이터를 입력하기 위해선 시계열 윈도우(Windowing) 방식을 사용해야 함.\n",
        "\n",
        "**(1) LSTM을 위한 데이터 변환**\n",
        "\n",
        "✅ 시계열 데이터는 X와 y를 다음과 같이 변환해야 함\n",
        "\n",
        "\n",
        "*   X: seq_length 만큼의 과거 데이터를 입력값으로 사용\n",
        "*   y: 예측할 미래 데이터(타겟)"
      ],
      "metadata": {
        "id": "eE_aDLHY8Ion"
      }
    },
    {
      "cell_type": "code",
      "source": [
        "import torch\n",
        "from sklearn.preprocessing import MinMaxScaler\n",
        "\n",
        "# 스케일링 (LSTM은 수치 안정성이 중요하기 때문에 정규화 필요)\n",
        "scaler = MinMaxScaler()\n",
        "scaled_train = scaler.fit_transform(train_data[['ad_spend', 'clicks', 'sales']])\n",
        "scaled_test = scaler.transform(test_data[['ad_spend', 'clicks', 'sales']])\n",
        "\n",
        "# 시퀀스 데이터 변환 함수\n",
        "def create_sequences(data, seq_length=30):\n",
        "    X, y = [], []\n",
        "    for i in range(len(data) - seq_length):\n",
        "        X.append(data[i:i+seq_length])  # 과거 seq_length 만큼을 입력\n",
        "        y.append(data[i+seq_length, -1])  # 마지막 컬럼(매출) 예측\n",
        "    return np.array(X), np.array(y)\n",
        "\n",
        "# 훈련 데이터셋 변환\n",
        "seq_length = 30  # 30일씩 묶어서 예측\n",
        "X_train, y_train = create_sequences(scaled_train, seq_length)\n",
        "X_test, y_test = create_sequences(scaled_test, seq_length)\n",
        "\n",
        "# PyTorch 텐서 변환\n",
        "# LSTM을 포함한 PyTorch의 모든 신경망 모델은 텐서(Tensor)형태의 입력을 필요로 한다.\n",
        "# 따라서 데이터를 NumPy배열 -> PyTorch 텐서로 변환해야 한다.\n",
        "X_train_tensor = torch.tensor(X_train, dtype=torch.float32)\n",
        "y_train_tensor = torch.tensor(y_train, dtype=torch.float32)\n",
        "X_test_tensor = torch.tensor(X_test, dtype=torch.float32)\n",
        "y_test_tensor = torch.tensor(y_test, dtype=torch.float32)\n",
        "\n",
        "print(f\"X_train shape: {X_train_tensor.shape}\")  # (샘플 수, 시퀀스 길이, 특성 수)\n",
        "print(f\"y_train shape: {y_train_tensor.shape}\")  # (샘플 수,)\n",
        "\n",
        "# 각 샘플마다 30일의 과거 데이터를 보고 다음 날을 예측하는 방식\n",
        "# seq_length = 30\n",
        "# i : seq_length"
      ],
      "metadata": {
        "colab": {
          "base_uri": "https://localhost:8080/"
        },
        "id": "QDaKWDRc8XtT",
        "outputId": "15f60158-1390-4a56-8fa5-43737b21d44f"
      },
      "execution_count": 8,
      "outputs": [
        {
          "output_type": "stream",
          "name": "stdout",
          "text": [
            "X_train shape: torch.Size([770, 30, 3])\n",
            "y_train shape: torch.Size([770])\n"
          ]
        }
      ]
    },
    {
      "cell_type": "markdown",
      "source": [
        "**텐서(Tensor)란?**\n",
        "\n",
        "Tensor는 다차원 배열(행렬)을 일반화한 데이터 구조로, PyTorch에서 딥러닝 모델을 학습하는 데 사용된다.\n",
        "\n",
        "쉽게 말해 NumPy 배열과 유사하지만, GPU 연산이 가능한 데이터 구조입니다.\n",
        "\n",
        "*   스칼라 (Scalar)\t단일 값 (예: 5)\n",
        "*   벡터 (Vector)\t1차원 배열 (예: [1, 2, 3])\n",
        "*   행렬 (Matrix)\t2차원 배열 (예: [[1, 2], [3, 4]])\n",
        "*   텐서 (Tensor)\t3차원 이상 (예: [[[1, 2], [3, 4]], [[5, 6], [7, 8]]])\n",
        "\n",
        "PyTorch의 모든 신경망 연산은 텐서 연산을 기반으로 동작한다."
      ],
      "metadata": {
        "id": "FU3x3kDA9nbh"
      }
    },
    {
      "cell_type": "markdown",
      "source": [
        "**3. LSTM 모델 학습 및 평가**"
      ],
      "metadata": {
        "id": "MH7UkMLFFw0Y"
      }
    },
    {
      "cell_type": "code",
      "source": [
        "import torch.nn as nn\n",
        "#신경망 모듈로 Neural Network를 쉽게 구축할 수 있도록 다양한 클래스와 함수를 제공하는 PyTorch의 핵심모듈. 다양한 층(layer), 활성화함수(activation function), 손실함수(loss function), 정규화(normalization)등을 효율적으로 정의할 수 있다.\n",
        "import torch.optim as optim\n",
        "#최적화 알고리즘을 (optimizer)를 사용하기 위한 모듈을 불러오는 코드. 신경망 학습 과정에서 가중치(weight)를 업데이트 하는 다양한 최적화 알고리즘을 제공.\n",
        "#최적화 알고리즘은 손실함수(loss function)의 값을 최소화 하기 위해 신경망의 가중치(weight)와 편향(bias)을 조정하는 역할을 한다.\n",
        "\n",
        "class LSTM_Model(nn.Module):\n",
        "    def __init__(self, input_dim, hidden_dim, num_layers, output_dim):\n",
        "        super(LSTM_Model, self).__init__()\n",
        "        self.lstm = nn.LSTM(input_dim, hidden_dim, num_layers, batch_first=True)\n",
        "        self.fc = nn.Linear(hidden_dim, output_dim)\n",
        "\n",
        "    def forward(self, x):\n",
        "        lstm_out, _ = self.lstm(x)\n",
        "        final_output = lstm_out[:, -1, :]  # 마지막 타임스텝의 hidden state 사용\n",
        "        return self.fc(final_output)\n",
        "\n",
        "# 모델 초기화\n",
        "input_dim = 3  # 광고비, 클릭수, 매출\n",
        "hidden_dim = 64\n",
        "num_layers = 2\n",
        "output_dim = 1\n",
        "model = LSTM_Model(input_dim, hidden_dim, num_layers, output_dim)\n",
        "\n",
        "# 손실 함수 및 옵티마이저\n",
        "criterion = nn.MSELoss()\n",
        "optimizer = optim.Adam(model.parameters(), lr=0.001)\n",
        "\n",
        "# 학습\n",
        "epochs = 50\n",
        "for epoch in range(epochs):\n",
        "    model.train()\n",
        "    optimizer.zero_grad()\n",
        "    y_pred = model(X_train_tensor)\n",
        "    loss = criterion(y_pred.squeeze(), y_train_tensor)\n",
        "    loss.backward()\n",
        "    optimizer.step()\n",
        "\n",
        "    if epoch % 10 == 0:\n",
        "        print(f\"Epoch {epoch}, Loss: {loss.item()}\")\n",
        "\n",
        "# 평가 (테스트셋 적용)\n",
        "model.eval()\n",
        "y_test_pred = model(X_test_tensor).detach().numpy()\n",
        "\n",
        "# 성능 평가\n",
        "from sklearn.metrics import mean_absolute_error\n",
        "mae = mean_absolute_error(y_test, y_test_pred)\n",
        "print(f\"Test MAE: {mae}\")"
      ],
      "metadata": {
        "colab": {
          "base_uri": "https://localhost:8080/"
        },
        "id": "bst6DH-l9-lO",
        "outputId": "5d13feb8-dd11-4b28-e0bb-cee710367208"
      },
      "execution_count": 9,
      "outputs": [
        {
          "output_type": "stream",
          "name": "stdout",
          "text": [
            "Epoch 0, Loss: 0.3247513771057129\n",
            "Epoch 10, Loss: 0.13537080585956573\n",
            "Epoch 20, Loss: 0.08372555673122406\n",
            "Epoch 30, Loss: 0.08716151118278503\n",
            "Epoch 40, Loss: 0.08436091244220734\n",
            "Test MAE: 0.27190238207590367\n"
          ]
        }
      ]
    },
    {
      "cell_type": "markdown",
      "source": [
        "**optim.Adam**\n",
        "\n",
        "optim.Adam은 Adaptive Moment Estimation(적응형 모멘트 추정) 의 약자로, SGD(Stochastic Gradient Descent)의 단점을 보완한 강력한 최적화 알고리즘입니다.\n",
        "Adam은 모멘텀(Momentum)과 RMSProp(Root Mean Square Propagation) 을 결합하여, 학습률을 자동 조정하고 빠른 수렴을 유도합니다.\n",
        "\n",
        "Adam은 학습률을 자동 조정하면서도, 각 파라미터마다 적응적으로 최적의 학습률을 설정하기 때문에 매우 효과적인 알고리즘입니다."
      ],
      "metadata": {
        "id": "7Rp5E_hiIXJM"
      }
    },
    {
      "cell_type": "code",
      "source": [
        "# Adam Optimizer의 주요 하이퍼파라미터\n",
        "\n",
        "optimizer = optim.Adam(\n",
        "    model.parameters(),\n",
        "    lr=0.001,       # 학습률 (기본값 0.001)\n",
        "    betas=(0.9, 0.999),  # 모멘텀 및 RMSProp 계수 (1차 모멘트와 2차 모멘트 계수)\n",
        "    eps=1e-8,       # 작은 값 (Zero division 방지) (수치적 안정성을 위한 작은 값)\n",
        "    weight_decay=0   # 가중치 감소 (L2 정규화) ((AdamW에서 더 적절하게 사용됨)\n",
        ")"
      ],
      "metadata": {
        "id": "YnQZ26y3IoWl"
      },
      "execution_count": null,
      "outputs": []
    },
    {
      "cell_type": "markdown",
      "source": [
        "**Adam과 다른 Optimizer 비교**\n",
        "\n",
        "Optimizer/\t특징/\t장점/\t단점\n",
        "\n",
        "SGD/\t기본적인 경사 하강법/\t단순하고 직관적\t수렴/ 속도가 느림\n",
        "\n",
        "Momentum/\tSGD + 관성 효과/\t지역 최소점에서 탈출 가능/\t모멘텀 값 조정 필요\n",
        "\n",
        "RMSProp/\t학습률 자동 조정/\tRNN에서 효과적/\t적절한 alpha 조정 필요\n",
        "\n",
        "Adam/\tSGD + Momentum + RMSProp/\t학습률 자동 조정, 빠른 수렴/\t일부 문제에서 과적합 가능\n",
        "\n",
        "AdamW/\tAdam + Weight Decay/\t과적합 방지/\tAdam과 비슷하지만 일반화 성능 증가"
      ],
      "metadata": {
        "id": "nH_m9I1-JIjR"
      }
    },
    {
      "cell_type": "code",
      "source": [
        "## 출력값 예시\n",
        "## yaml (LSTM이 미래 매출을 예측할 수 있도록 학습됨)\n",
        "\n",
        "# Epoch 0, Loss: 0.0456\n",
        "# Epoch 10, Loss: 0.0152\n",
        "# Epoch 20, Loss: 0.0083\n",
        "# Test MAE: 3.12\n",
        "\n",
        "# ✔ Epoch(학습 횟수)이 증가할수록 손실(Loss)이 감소 → 모델이 점점 좋아짐\n",
        "# ✔ Test MAE 3.12 → 모델이 학습한 결과, 테스트 데이터에서 평균 3.12 정도의 오차가 발생\n",
        "# ✔ 모델이 적절히 학습되었지만, MAE를 더 낮추기 위해 추가적인 하이퍼파라미터 튜닝이 가능함"
      ],
      "metadata": {
        "id": "5HsXuaroKRz3"
      },
      "execution_count": null,
      "outputs": []
    },
    {
      "cell_type": "markdown",
      "source": [],
      "metadata": {
        "id": "NxAFsak57FR5"
      }
    }
  ]
}